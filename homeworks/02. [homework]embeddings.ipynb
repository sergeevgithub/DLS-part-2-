{
 "cells": [
  {
   "cell_type": "markdown",
   "metadata": {
    "id": "Ot3c4fjZwC4T"
   },
   "source": [
    "<img src=\"https://s8.hostingkartinok.com/uploads/images/2018/08/308b49fcfbc619d629fe4604bceb67ac.jpg\" width=500, height=450>\n",
    "<h3 style=\"text-align: center;\"><b>Физтех-Школа Прикладной математики и информатики (ФПМИ) МФТИ</b></h3>"
   ]
  },
  {
   "cell_type": "markdown",
   "metadata": {
    "id": "P2JdzEXmwRU5"
   },
   "source": [
    "---"
   ]
  },
  {
   "cell_type": "markdown",
   "metadata": {
    "id": "eYtJxkhKpYK2"
   },
   "source": [
    "# Embeddings\n",
    "\n",
    "Привет! В этом домашнем задании мы с помощью эмбеддингов решим задачу семантической классификации твитов.\n",
    "\n",
    "Для этого мы воспользуемся предобученными эмбеддингами word2vec."
   ]
  },
  {
   "cell_type": "markdown",
   "metadata": {
    "id": "jBOdoFS8AdpP"
   },
   "source": [
    "Для начала скачаем датасет для семантической классификации твитов:"
   ]
  },
  {
   "cell_type": "code",
   "execution_count": 2,
   "metadata": {
    "colab": {
     "base_uri": "https://localhost:8080/"
    },
    "id": "wXjhtsfF_gBK",
    "outputId": "eead0bed-5eec-4dea-d980-845e0a97ca4f"
   },
   "outputs": [
    {
     "name": "stdout",
     "output_type": "stream",
     "text": [
      "Downloading...\n",
      "From: https://drive.google.com/uc?id=1eE1FiUkXkcbw0McId4i7qY-L8hH-_Qph\n",
      "To: /content/archive.zip\n",
      "100% 84.9M/84.9M [00:01<00:00, 62.1MB/s]\n",
      "Archive:  archive.zip\n",
      "  inflating: training.1600000.processed.noemoticon.csv  \n"
     ]
    }
   ],
   "source": [
    "!gdown https://drive.google.com/uc?id=1eE1FiUkXkcbw0McId4i7qY-L8hH-_Qph&export=download\n",
    "!unzip archive.zip"
   ]
  },
  {
   "cell_type": "markdown",
   "metadata": {
    "id": "Sh6wW-K53Mle"
   },
   "source": [
    "Импортируем нужные библиотеки:"
   ]
  },
  {
   "cell_type": "code",
   "execution_count": 3,
   "metadata": {
    "id": "A2Y5CHRm6NFe"
   },
   "outputs": [],
   "source": [
    "import math\n",
    "import random\n",
    "import string\n",
    "\n",
    "import numpy as np\n",
    "import pandas as pd\n",
    "import seaborn as sns\n",
    "\n",
    "import torch\n",
    "import nltk\n",
    "import gensim\n",
    "import gensim.downloader as api"
   ]
  },
  {
   "cell_type": "code",
   "execution_count": 4,
   "metadata": {
    "id": "73Lb0wbESrgQ"
   },
   "outputs": [],
   "source": [
    "random.seed(42)\n",
    "np.random.seed(42)\n",
    "torch.random.manual_seed(42)\n",
    "torch.cuda.random.manual_seed(42)\n",
    "torch.cuda.random.manual_seed_all(42)\n",
    "\n",
    "device = \"cuda\" if torch.cuda.is_available() else \"cpu\""
   ]
  },
  {
   "cell_type": "code",
   "execution_count": 5,
   "metadata": {
    "id": "L_Wv-4bu83Fl"
   },
   "outputs": [],
   "source": [
    "\n",
    "\n",
    "\n",
    "\n",
    "data = pd.read_csv(\"training.1600000.processed.noemoticon.csv\", encoding=\"latin\", header=None, names=[\"emotion\", \"id\", \"date\", \"flag\", \"user\", \"text\"])"
   ]
  },
  {
   "cell_type": "markdown",
   "metadata": {
    "id": "RY1pvYDS3Yuj"
   },
   "source": [
    "Посмотрим на данные:"
   ]
  },
  {
   "cell_type": "code",
   "execution_count": 6,
   "metadata": {
    "colab": {
     "base_uri": "https://localhost:8080/",
     "height": 206
    },
    "id": "jST2tjgjCTWD",
    "outputId": "7a541a45-a209-4174-8677-c3430fec2228"
   },
   "outputs": [
    {
     "data": {
      "text/html": [
       "<div>\n",
       "<style scoped>\n",
       "    .dataframe tbody tr th:only-of-type {\n",
       "        vertical-align: middle;\n",
       "    }\n",
       "\n",
       "    .dataframe tbody tr th {\n",
       "        vertical-align: top;\n",
       "    }\n",
       "\n",
       "    .dataframe thead th {\n",
       "        text-align: right;\n",
       "    }\n",
       "</style>\n",
       "<table border=\"1\" class=\"dataframe\">\n",
       "  <thead>\n",
       "    <tr style=\"text-align: right;\">\n",
       "      <th></th>\n",
       "      <th>emotion</th>\n",
       "      <th>id</th>\n",
       "      <th>date</th>\n",
       "      <th>flag</th>\n",
       "      <th>user</th>\n",
       "      <th>text</th>\n",
       "    </tr>\n",
       "  </thead>\n",
       "  <tbody>\n",
       "    <tr>\n",
       "      <th>0</th>\n",
       "      <td>0</td>\n",
       "      <td>1467810369</td>\n",
       "      <td>Mon Apr 06 22:19:45 PDT 2009</td>\n",
       "      <td>NO_QUERY</td>\n",
       "      <td>_TheSpecialOne_</td>\n",
       "      <td>@switchfoot http://twitpic.com/2y1zl - Awww, t...</td>\n",
       "    </tr>\n",
       "    <tr>\n",
       "      <th>1</th>\n",
       "      <td>0</td>\n",
       "      <td>1467810672</td>\n",
       "      <td>Mon Apr 06 22:19:49 PDT 2009</td>\n",
       "      <td>NO_QUERY</td>\n",
       "      <td>scotthamilton</td>\n",
       "      <td>is upset that he can't update his Facebook by ...</td>\n",
       "    </tr>\n",
       "    <tr>\n",
       "      <th>2</th>\n",
       "      <td>0</td>\n",
       "      <td>1467810917</td>\n",
       "      <td>Mon Apr 06 22:19:53 PDT 2009</td>\n",
       "      <td>NO_QUERY</td>\n",
       "      <td>mattycus</td>\n",
       "      <td>@Kenichan I dived many times for the ball. Man...</td>\n",
       "    </tr>\n",
       "    <tr>\n",
       "      <th>3</th>\n",
       "      <td>0</td>\n",
       "      <td>1467811184</td>\n",
       "      <td>Mon Apr 06 22:19:57 PDT 2009</td>\n",
       "      <td>NO_QUERY</td>\n",
       "      <td>ElleCTF</td>\n",
       "      <td>my whole body feels itchy and like its on fire</td>\n",
       "    </tr>\n",
       "    <tr>\n",
       "      <th>4</th>\n",
       "      <td>0</td>\n",
       "      <td>1467811193</td>\n",
       "      <td>Mon Apr 06 22:19:57 PDT 2009</td>\n",
       "      <td>NO_QUERY</td>\n",
       "      <td>Karoli</td>\n",
       "      <td>@nationwideclass no, it's not behaving at all....</td>\n",
       "    </tr>\n",
       "  </tbody>\n",
       "</table>\n",
       "</div>"
      ],
      "text/plain": [
       "   emotion  ...                                               text\n",
       "0        0  ...  @switchfoot http://twitpic.com/2y1zl - Awww, t...\n",
       "1        0  ...  is upset that he can't update his Facebook by ...\n",
       "2        0  ...  @Kenichan I dived many times for the ball. Man...\n",
       "3        0  ...    my whole body feels itchy and like its on fire \n",
       "4        0  ...  @nationwideclass no, it's not behaving at all....\n",
       "\n",
       "[5 rows x 6 columns]"
      ]
     },
     "execution_count": 6,
     "metadata": {},
     "output_type": "execute_result"
    }
   ],
   "source": [
    "data.head()"
   ]
  },
  {
   "cell_type": "markdown",
   "metadata": {
    "id": "OhbR5JJyA2VW"
   },
   "source": [
    "Выведем несколько примеров твитов, чтобы понимать, с чем мы имеем дело:"
   ]
  },
  {
   "cell_type": "code",
   "execution_count": 7,
   "metadata": {
    "colab": {
     "base_uri": "https://localhost:8080/"
    },
    "id": "kCBwe0wR83C2",
    "outputId": "3c1d74b7-fb84-4941-b0b3-26fd1bb82e8d"
   },
   "outputs": [
    {
     "name": "stdout",
     "output_type": "stream",
     "text": [
      "@chrishasboobs AHHH I HOPE YOUR OK!!! \n",
      "@misstoriblack cool , i have no tweet apps  for my razr 2\n",
      "@TiannaChaos i know  just family drama. its lame.hey next time u hang out with kim n u guys like have a sleepover or whatever, ill call u\n",
      "School email won't open  and I have geography stuff on there to revise! *Stupid School* :'(\n",
      "upper airways problem \n",
      "Going to miss Pastor's sermon on Faith... \n",
      "on lunch....dj should come eat with me \n",
      "@piginthepoke oh why are you feeling like that? \n",
      "gahh noo!peyton needs to live!this is horrible \n",
      "@mrstessyman thank you glad you like it! There is a product review bit on the site  Enjoy knitting it!\n"
     ]
    }
   ],
   "source": [
    "examples = data[\"text\"].sample(10)\n",
    "print(\"\\n\".join(examples))"
   ]
  },
  {
   "cell_type": "markdown",
   "metadata": {
    "id": "GvcYW8aX3mKt"
   },
   "source": [
    "Как видим, тексты твитов очень \"грязные\". Нужно предобработать датасет, прежде чем строить для него модель классификации.\n",
    "\n",
    "Чтобы сравнивать различные методы обработки текста/модели/прочее, разделим датасет на dev(для обучения модели) и test(для получения качества модели)."
   ]
  },
  {
   "cell_type": "code",
   "execution_count": 8,
   "metadata": {
    "id": "f8hUK-jnQg6O"
   },
   "outputs": [],
   "source": [
    "indexes = np.arange(data.shape[0])\n",
    "np.random.shuffle(indexes)\n",
    "dev_size = math.ceil(data.shape[0] * 0.8)\n",
    "\n",
    "dev_indexes = indexes[:dev_size]\n",
    "test_indexes = indexes[dev_size:]\n",
    "\n",
    "dev_data = data.iloc[dev_indexes]\n",
    "test_data = data.iloc[test_indexes]\n",
    "\n",
    "dev_data.reset_index(drop=True, inplace=True)\n",
    "test_data.reset_index(drop=True, inplace=True)"
   ]
  },
  {
   "cell_type": "markdown",
   "metadata": {
    "id": "6ivcpeFoCnZA"
   },
   "source": [
    "## Обработка текста"
   ]
  },
  {
   "cell_type": "markdown",
   "metadata": {
    "id": "Df4nca285Dar"
   },
   "source": [
    "Токенизируем текст, избавимся от знаков пунктуации и выкинем все слова, состоящие менее чем из 4 букв:"
   ]
  },
  {
   "cell_type": "code",
   "execution_count": 9,
   "metadata": {
    "colab": {
     "base_uri": "https://localhost:8080/"
    },
    "id": "nsNHNDES9ZVF",
    "outputId": "74c01d26-9be9-483c-822e-345b6a4ed495"
   },
   "outputs": [
    {
     "name": "stdout",
     "output_type": "stream",
     "text": [
      "@ claire_nelson i ' m on the north devon coast the next few weeks will be down in devon again in may sometime i hope though !\n"
     ]
    }
   ],
   "source": [
    "tokenizer = nltk.WordPunctTokenizer()\n",
    "line = tokenizer.tokenize(dev_data[\"text\"][0].lower())\n",
    "print(\" \".join(line))"
   ]
  },
  {
   "cell_type": "code",
   "execution_count": 10,
   "metadata": {
    "colab": {
     "base_uri": "https://localhost:8080/"
    },
    "id": "GcBS_u_hTuxp",
    "outputId": "8f866f34-f75b-4d4e-9762-536b5e7a81d0"
   },
   "outputs": [
    {
     "name": "stdout",
     "output_type": "stream",
     "text": [
      "north devon coast next weeks will down devon again sometime hope though\n"
     ]
    }
   ],
   "source": [
    "filtered_line = [w for w in line if all(c not in string.punctuation for c in w) and len(w) > 3]\n",
    "print(\" \".join(filtered_line))"
   ]
  },
  {
   "cell_type": "markdown",
   "metadata": {
    "id": "cuFmlXkC6E7X"
   },
   "source": [
    "Загрузим предобученную модель эмбеддингов. \n",
    "\n",
    "Если хотите, можно попробовать другую. Полный список можно найти здесь: https://github.com/RaRe-Technologies/gensim-data.\n",
    "\n",
    "Данная модель выдает эмбеддинги для **слов**. Строить по эмбеддингам слов эмбеддинги предложений мы будем ниже."
   ]
  },
  {
   "cell_type": "code",
   "execution_count": 11,
   "metadata": {
    "colab": {
     "base_uri": "https://localhost:8080/"
    },
    "id": "cACJpje2T5bc",
    "outputId": "c452bd5c-e74b-4f3e-8b5f-0717066aab18"
   },
   "outputs": [
    {
     "name": "stdout",
     "output_type": "stream",
     "text": [
      "[==================================================] 100.0% 1662.8/1662.8MB downloaded\n"
     ]
    }
   ],
   "source": [
    "word2vec = api.load(\"word2vec-google-news-300\")"
   ]
  },
  {
   "cell_type": "code",
   "execution_count": null,
   "metadata": {
    "colab": {
     "base_uri": "https://localhost:8080/"
    },
    "id": "NafmYHrkT5YD",
    "outputId": "5813fbc0-1fb4-4f18-dcb5-4e3ad011fe81"
   },
   "outputs": [
    {
     "name": "stdout",
     "output_type": "stream",
     "text": [
      "(300,)\n"
     ]
    }
   ],
   "source": [
    "emb_line = [word2vec.get_vector(w) for w in filtered_line if w in word2vec]\n",
    "print(sum(emb_line).shape)"
   ]
  },
  {
   "cell_type": "markdown",
   "metadata": {
    "id": "LTS6LCkd6_E7"
   },
   "source": [
    "Нормализуем эмбеддинги, прежде чем обучать на них сеть. \n",
    "(наверное, вы помните, что нейронные сети гораздо лучше обучаются на нормализованных данных)"
   ]
  },
  {
   "cell_type": "code",
   "execution_count": null,
   "metadata": {
    "colab": {
     "base_uri": "https://localhost:8080/"
    },
    "id": "3PyLTZ6xf3Oq",
    "outputId": "3ad0be2f-b089-434c-a0a9-8d480dbd1c87"
   },
   "outputs": [
    {
     "name": "stdout",
     "output_type": "stream",
     "text": [
      "(300,)\n",
      "[False, False, False, False, False, False, False, False, False, False, False, False]\n"
     ]
    }
   ],
   "source": [
    "mean = np.mean(word2vec.vectors, 0)\n",
    "std = np.std(word2vec.vectors, 0)\n",
    "norm_emb_line = [(word2vec.get_vector(w) - mean) / std for w in filtered_line if w in word2vec and len(w) > 3]\n",
    "print(sum(norm_emb_line).shape)\n",
    "print([all(norm_emb_line[i] == emb_line[i]) for i in range(len(emb_line))])"
   ]
  },
  {
   "cell_type": "markdown",
   "metadata": {
    "id": "q7vm6Ppd7Ubw"
   },
   "source": [
    "Сделаем датасет, который будет по запросу возвращать подготовленные данные."
   ]
  },
  {
   "cell_type": "code",
   "execution_count": 50,
   "metadata": {
    "id": "b4eZajF7pZ1X"
   },
   "outputs": [],
   "source": [
    "from torch.utils.data import Dataset, random_split\n",
    "\n",
    "\n",
    "class TwitterDataset(Dataset):\n",
    "    def __init__(self, data: pd.DataFrame, feature_column: str, target_column: str, word2vec: gensim.models.Word2Vec):\n",
    "        self.tokenizer = nltk.WordPunctTokenizer()\n",
    "        \n",
    "        self.data = data\n",
    "\n",
    "        self.feature_column = feature_column\n",
    "        self.target_column = target_column\n",
    "\n",
    "        self.word2vec = word2vec\n",
    "\n",
    "        self.label2num = lambda label: 0 if label == 0 else 1\n",
    "        self.mean = np.mean(word2vec.vectors, axis=0)\n",
    "        self.std = np.std(word2vec.vectors, axis=0)\n",
    "\n",
    "    def __getitem__(self, item):\n",
    "        text = self.data[self.feature_column][item]\n",
    "        label = self.label2num(self.data[self.target_column][item])\n",
    "\n",
    "        tokens = self.get_tokens_(text)\n",
    "        embeddings = self.get_embeddings_(tokens)\n",
    "\n",
    "        return {\"feature\": embeddings, \"target\": label}\n",
    "\n",
    "    def get_tokens_(self, text):\n",
    "        # Получи все токены из текста и профильтруй их\n",
    "        line = tokenizer.tokenize(text.lower())\n",
    "        tokens = [w for w in line if all(c not in string.punctuation for c in w) and len(w) > 3]\n",
    "\n",
    "        return tokens\n",
    "\n",
    "    def get_embeddings_(self, tokens):\n",
    "        # Получи эмбеддинги слов и усредни их\n",
    "        embeddings = [(word2vec.get_vector(w) - self.mean) / self.std for w in tokens if w in word2vec] \n",
    "\n",
    "        if len(embeddings) == 0:\n",
    "            embeddings = np.zeros((1, self.word2vec.vector_size))\n",
    "        else:\n",
    "            embeddings = np.array(embeddings)\n",
    "            if len(embeddings.shape) == 1:\n",
    "                embeddings = embeddings.reshape(-1, 1)\n",
    "\n",
    "        return embeddings\n",
    "\n",
    "    def __len__(self):\n",
    "        return self.data.shape[0]"
   ]
  },
  {
   "cell_type": "code",
   "execution_count": 51,
   "metadata": {
    "id": "IZJpttbXpZyz"
   },
   "outputs": [],
   "source": [
    "dev = TwitterDataset(dev_data, \"text\", \"emotion\", word2vec)"
   ]
  },
  {
   "cell_type": "markdown",
   "metadata": {
    "id": "Sr-aetH0_LH1"
   },
   "source": [
    "Отлично, мы готовы с помощью эмбеддингов слов превращать твиты в векторы и обучать нейронную сеть.\n",
    "\n",
    "Превращать твиты в векторы, используя эмбеддинги слов, можно несколькими способами. А именно такими:"
   ]
  },
  {
   "cell_type": "markdown",
   "metadata": {
    "id": "4AhHrWa196Yc"
   },
   "source": [
    "## Average embedding (2 балла)\n",
    "---\n",
    "Это самый простой вариант, как получить вектор предложения, используя векторные представления слов в предложении. А именно: вектор предложения есть средний вектор всех слов в предлоежнии (которые остались после токенизации и удаления коротких слов, конечно). "
   ]
  },
  {
   "cell_type": "code",
   "execution_count": 52,
   "metadata": {
    "colab": {
     "base_uri": "https://localhost:8080/"
    },
    "id": "ScdokSW-994t",
    "outputId": "31af7e4a-a071-4b23-a139-2bd84b63c5f5"
   },
   "outputs": [
    {
     "name": "stdout",
     "output_type": "stream",
     "text": [
      "1280\n"
     ]
    }
   ],
   "source": [
    "indexes = np.arange(len(dev))\n",
    "np.random.shuffle(indexes)\n",
    "example_indexes = indexes[::1000]\n",
    "\n",
    "examples = {\"features\": [np.sum(dev[i][\"feature\"], axis=0) for i in example_indexes], \n",
    "            \"targets\": [dev[i][\"target\"] for i in example_indexes]}\n",
    "print(len(examples[\"features\"]))"
   ]
  },
  {
   "cell_type": "markdown",
   "metadata": {
    "id": "1yGQ_lOx_1NL"
   },
   "source": [
    "Давайте сделаем визуализацию полученных векторов твитов тренировочного (dev) датасета. Так мы увидим, насколько хорошо твиты с разными target значениями отделяются друг от друга, т.е. насколько хорошо усреднение эмбеддингов слов предложения передает информацию о предложении."
   ]
  },
  {
   "cell_type": "markdown",
   "metadata": {
    "id": "LZwFksd_8uYO"
   },
   "source": [
    "Для визуализации векторов надо получить их проекцию на плоскость. Сделаем это с помощью `PCA`. Если хотите, можете вместо PCA использовать TSNE: так у вас получится более точная проекция на плоскость (а значит, более информативная, т.е. отражающая реальное положение векторов твитов в пространстве). Но TSNE будет работать намного дольше."
   ]
  },
  {
   "cell_type": "code",
   "execution_count": null,
   "metadata": {
    "id": "aKFZRSHdtIac"
   },
   "outputs": [],
   "source": [
    "from sklearn.decomposition import PCA\n",
    "# from sklearn.manifold import TSNE\n",
    "\n",
    "pca = PCA(n_components=2)\n",
    "# tsne = TSNE(n_components=2)\n",
    "examples[\"transformed_features\"] = pca.fit_transform(examples[\"features\"]) # Обучи PCA на эмбеддингах слов"
   ]
  },
  {
   "cell_type": "code",
   "execution_count": null,
   "metadata": {
    "id": "szEOWdiNtIX8"
   },
   "outputs": [],
   "source": [
    "import bokeh.models as bm, bokeh.plotting as pl\n",
    "from bokeh.io import output_notebook\n",
    "output_notebook()\n",
    "\n",
    "def draw_vectors(x, y, radius=10, alpha=0.25, color='blue',\n",
    "                 width=600, height=400, show=True, **kwargs):\n",
    "    \"\"\" draws an interactive plot for data points with auxilirary info on hover \"\"\"\n",
    "    data_source = bm.ColumnDataSource({ 'x' : x, 'y' : y, 'color': color, **kwargs })\n",
    "\n",
    "    fig = pl.figure(active_scroll='wheel_zoom', width=width, height=height)\n",
    "    fig.scatter('x', 'y', size=radius, color='color', alpha=alpha, source=data_source)\n",
    "\n",
    "    fig.add_tools(bm.HoverTool(tooltips=[(key, \"@\" + key) for key in kwargs.keys()]))\n",
    "    if show: pl.show(fig)\n",
    "    return fig"
   ]
  },
  {
   "cell_type": "code",
   "execution_count": null,
   "metadata": {
    "colab": {
     "base_uri": "https://localhost:8080/",
     "height": 434
    },
    "id": "7OONK8ldtIWe",
    "outputId": "961a0812-19b0-4a58-b616-82be507cad76"
   },
   "outputs": [
    {
     "data": {
      "application/javascript": [
       "\n",
       "(function(root) {\n",
       "  function now() {\n",
       "    return new Date();\n",
       "  }\n",
       "\n",
       "  var force = true;\n",
       "\n",
       "  if (typeof root._bokeh_onload_callbacks === \"undefined\" || force === true) {\n",
       "    root._bokeh_onload_callbacks = [];\n",
       "    root._bokeh_is_loading = undefined;\n",
       "  }\n",
       "\n",
       "  var JS_MIME_TYPE = 'application/javascript';\n",
       "  var HTML_MIME_TYPE = 'text/html';\n",
       "  var EXEC_MIME_TYPE = 'application/vnd.bokehjs_exec.v0+json';\n",
       "  var CLASS_NAME = 'output_bokeh rendered_html';\n",
       "\n",
       "  /**\n",
       "   * Render data to the DOM node\n",
       "   */\n",
       "  function render(props, node) {\n",
       "    var script = document.createElement(\"script\");\n",
       "    node.appendChild(script);\n",
       "  }\n",
       "\n",
       "  /**\n",
       "   * Handle when an output is cleared or removed\n",
       "   */\n",
       "  function handleClearOutput(event, handle) {\n",
       "    var cell = handle.cell;\n",
       "\n",
       "    var id = cell.output_area._bokeh_element_id;\n",
       "    var server_id = cell.output_area._bokeh_server_id;\n",
       "    // Clean up Bokeh references\n",
       "    if (id != null && id in Bokeh.index) {\n",
       "      Bokeh.index[id].model.document.clear();\n",
       "      delete Bokeh.index[id];\n",
       "    }\n",
       "\n",
       "    if (server_id !== undefined) {\n",
       "      // Clean up Bokeh references\n",
       "      var cmd = \"from bokeh.io.state import curstate; print(curstate().uuid_to_server['\" + server_id + \"'].get_sessions()[0].document.roots[0]._id)\";\n",
       "      cell.notebook.kernel.execute(cmd, {\n",
       "        iopub: {\n",
       "          output: function(msg) {\n",
       "            var id = msg.content.text.trim();\n",
       "            if (id in Bokeh.index) {\n",
       "              Bokeh.index[id].model.document.clear();\n",
       "              delete Bokeh.index[id];\n",
       "            }\n",
       "          }\n",
       "        }\n",
       "      });\n",
       "      // Destroy server and session\n",
       "      var cmd = \"import bokeh.io.notebook as ion; ion.destroy_server('\" + server_id + \"')\";\n",
       "      cell.notebook.kernel.execute(cmd);\n",
       "    }\n",
       "  }\n",
       "\n",
       "  /**\n",
       "   * Handle when a new output is added\n",
       "   */\n",
       "  function handleAddOutput(event, handle) {\n",
       "    var output_area = handle.output_area;\n",
       "    var output = handle.output;\n",
       "\n",
       "    // limit handleAddOutput to display_data with EXEC_MIME_TYPE content only\n",
       "    if ((output.output_type != \"display_data\") || (!Object.prototype.hasOwnProperty.call(output.data, EXEC_MIME_TYPE))) {\n",
       "      return\n",
       "    }\n",
       "\n",
       "    var toinsert = output_area.element.find(\".\" + CLASS_NAME.split(' ')[0]);\n",
       "\n",
       "    if (output.metadata[EXEC_MIME_TYPE][\"id\"] !== undefined) {\n",
       "      toinsert[toinsert.length - 1].firstChild.textContent = output.data[JS_MIME_TYPE];\n",
       "      // store reference to embed id on output_area\n",
       "      output_area._bokeh_element_id = output.metadata[EXEC_MIME_TYPE][\"id\"];\n",
       "    }\n",
       "    if (output.metadata[EXEC_MIME_TYPE][\"server_id\"] !== undefined) {\n",
       "      var bk_div = document.createElement(\"div\");\n",
       "      bk_div.innerHTML = output.data[HTML_MIME_TYPE];\n",
       "      var script_attrs = bk_div.children[0].attributes;\n",
       "      for (var i = 0; i < script_attrs.length; i++) {\n",
       "        toinsert[toinsert.length - 1].firstChild.setAttribute(script_attrs[i].name, script_attrs[i].value);\n",
       "        toinsert[toinsert.length - 1].firstChild.textContent = bk_div.children[0].textContent\n",
       "      }\n",
       "      // store reference to server id on output_area\n",
       "      output_area._bokeh_server_id = output.metadata[EXEC_MIME_TYPE][\"server_id\"];\n",
       "    }\n",
       "  }\n",
       "\n",
       "  function register_renderer(events, OutputArea) {\n",
       "\n",
       "    function append_mime(data, metadata, element) {\n",
       "      // create a DOM node to render to\n",
       "      var toinsert = this.create_output_subarea(\n",
       "        metadata,\n",
       "        CLASS_NAME,\n",
       "        EXEC_MIME_TYPE\n",
       "      );\n",
       "      this.keyboard_manager.register_events(toinsert);\n",
       "      // Render to node\n",
       "      var props = {data: data, metadata: metadata[EXEC_MIME_TYPE]};\n",
       "      render(props, toinsert[toinsert.length - 1]);\n",
       "      element.append(toinsert);\n",
       "      return toinsert\n",
       "    }\n",
       "\n",
       "    /* Handle when an output is cleared or removed */\n",
       "    events.on('clear_output.CodeCell', handleClearOutput);\n",
       "    events.on('delete.Cell', handleClearOutput);\n",
       "\n",
       "    /* Handle when a new output is added */\n",
       "    events.on('output_added.OutputArea', handleAddOutput);\n",
       "\n",
       "    /**\n",
       "     * Register the mime type and append_mime function with output_area\n",
       "     */\n",
       "    OutputArea.prototype.register_mime_type(EXEC_MIME_TYPE, append_mime, {\n",
       "      /* Is output safe? */\n",
       "      safe: true,\n",
       "      /* Index of renderer in `output_area.display_order` */\n",
       "      index: 0\n",
       "    });\n",
       "  }\n",
       "\n",
       "  // register the mime type if in Jupyter Notebook environment and previously unregistered\n",
       "  if (root.Jupyter !== undefined) {\n",
       "    var events = require('base/js/events');\n",
       "    var OutputArea = require('notebook/js/outputarea').OutputArea;\n",
       "\n",
       "    if (OutputArea.prototype.mime_types().indexOf(EXEC_MIME_TYPE) == -1) {\n",
       "      register_renderer(events, OutputArea);\n",
       "    }\n",
       "  }\n",
       "\n",
       "  \n",
       "  if (typeof (root._bokeh_timeout) === \"undefined\" || force === true) {\n",
       "    root._bokeh_timeout = Date.now() + 5000;\n",
       "    root._bokeh_failed_load = false;\n",
       "  }\n",
       "\n",
       "  var NB_LOAD_WARNING = {'data': {'text/html':\n",
       "     \"<div style='background-color: #fdd'>\\n\"+\n",
       "     \"<p>\\n\"+\n",
       "     \"BokehJS does not appear to have successfully loaded. If loading BokehJS from CDN, this \\n\"+\n",
       "     \"may be due to a slow or bad network connection. Possible fixes:\\n\"+\n",
       "     \"</p>\\n\"+\n",
       "     \"<ul>\\n\"+\n",
       "     \"<li>re-rerun `output_notebook()` to attempt to load from CDN again, or</li>\\n\"+\n",
       "     \"<li>use INLINE resources instead, as so:</li>\\n\"+\n",
       "     \"</ul>\\n\"+\n",
       "     \"<code>\\n\"+\n",
       "     \"from bokeh.resources import INLINE\\n\"+\n",
       "     \"output_notebook(resources=INLINE)\\n\"+\n",
       "     \"</code>\\n\"+\n",
       "     \"</div>\"}};\n",
       "\n",
       "  function display_loaded() {\n",
       "    var el = document.getElementById(null);\n",
       "    if (el != null) {\n",
       "      el.textContent = \"BokehJS is loading...\";\n",
       "    }\n",
       "    if (root.Bokeh !== undefined) {\n",
       "      if (el != null) {\n",
       "        el.textContent = \"BokehJS \" + root.Bokeh.version + \" successfully loaded.\";\n",
       "      }\n",
       "    } else if (Date.now() < root._bokeh_timeout) {\n",
       "      setTimeout(display_loaded, 100)\n",
       "    }\n",
       "  }\n",
       "\n",
       "\n",
       "  function run_callbacks() {\n",
       "    try {\n",
       "      root._bokeh_onload_callbacks.forEach(function(callback) {\n",
       "        if (callback != null)\n",
       "          callback();\n",
       "      });\n",
       "    } finally {\n",
       "      delete root._bokeh_onload_callbacks\n",
       "    }\n",
       "    console.debug(\"Bokeh: all callbacks have finished\");\n",
       "  }\n",
       "\n",
       "  function load_libs(css_urls, js_urls, callback) {\n",
       "    if (css_urls == null) css_urls = [];\n",
       "    if (js_urls == null) js_urls = [];\n",
       "\n",
       "    root._bokeh_onload_callbacks.push(callback);\n",
       "    if (root._bokeh_is_loading > 0) {\n",
       "      console.debug(\"Bokeh: BokehJS is being loaded, scheduling callback at\", now());\n",
       "      return null;\n",
       "    }\n",
       "    if (js_urls == null || js_urls.length === 0) {\n",
       "      run_callbacks();\n",
       "      return null;\n",
       "    }\n",
       "    console.debug(\"Bokeh: BokehJS not loaded, scheduling load and callback at\", now());\n",
       "    root._bokeh_is_loading = css_urls.length + js_urls.length;\n",
       "\n",
       "    function on_load() {\n",
       "      root._bokeh_is_loading--;\n",
       "      if (root._bokeh_is_loading === 0) {\n",
       "        console.debug(\"Bokeh: all BokehJS libraries/stylesheets loaded\");\n",
       "        run_callbacks()\n",
       "      }\n",
       "    }\n",
       "\n",
       "    function on_error(url) {\n",
       "      console.error(\"failed to load \" + url);\n",
       "    }\n",
       "\n",
       "    for (let i = 0; i < css_urls.length; i++) {\n",
       "      const url = css_urls[i];\n",
       "      const element = document.createElement(\"link\");\n",
       "      element.onload = on_load;\n",
       "      element.onerror = on_error.bind(null, url);\n",
       "      element.rel = \"stylesheet\";\n",
       "      element.type = \"text/css\";\n",
       "      element.href = url;\n",
       "      console.debug(\"Bokeh: injecting link tag for BokehJS stylesheet: \", url);\n",
       "      document.body.appendChild(element);\n",
       "    }\n",
       "\n",
       "    const hashes = {\"https://cdn.bokeh.org/bokeh/release/bokeh-2.3.3.min.js\": \"dM3QQsP+wXdHg42wTqW85BjZQdLNNIXqlPw/BgKoExPmTG7ZLML4EGqLMfqHT6ON\", \"https://cdn.bokeh.org/bokeh/release/bokeh-tables-2.3.3.min.js\": \"8x57I4YuIfu8XyZfFo0XVr2WAT8EK4rh/uDe3wF7YuW2FNUSNEpJbsPaB1nJ2fz2\", \"https://cdn.bokeh.org/bokeh/release/bokeh-widgets-2.3.3.min.js\": \"3QTqdz9LyAm2i0sG5XTePsHec3UHWwVsrOL68SYRoAXsafvfAyqtQ+h440+qIBhS\"};\n",
       "\n",
       "    for (let i = 0; i < js_urls.length; i++) {\n",
       "      const url = js_urls[i];\n",
       "      const element = document.createElement('script');\n",
       "      element.onload = on_load;\n",
       "      element.onerror = on_error.bind(null, url);\n",
       "      element.async = false;\n",
       "      element.src = url;\n",
       "      if (url in hashes) {\n",
       "        element.crossOrigin = \"anonymous\";\n",
       "        element.integrity = \"sha384-\" + hashes[url];\n",
       "      }\n",
       "      console.debug(\"Bokeh: injecting script tag for BokehJS library: \", url);\n",
       "      document.head.appendChild(element);\n",
       "    }\n",
       "  };\n",
       "\n",
       "  function inject_raw_css(css) {\n",
       "    const element = document.createElement(\"style\");\n",
       "    element.appendChild(document.createTextNode(css));\n",
       "    document.body.appendChild(element);\n",
       "  }\n",
       "\n",
       "  \n",
       "  var js_urls = [\"https://cdn.bokeh.org/bokeh/release/bokeh-2.3.3.min.js\", \"https://cdn.bokeh.org/bokeh/release/bokeh-widgets-2.3.3.min.js\", \"https://cdn.bokeh.org/bokeh/release/bokeh-tables-2.3.3.min.js\"];\n",
       "  var css_urls = [];\n",
       "  \n",
       "\n",
       "  var inline_js = [\n",
       "    function(Bokeh) {\n",
       "      Bokeh.set_log_level(\"info\");\n",
       "    },\n",
       "    function(Bokeh) {\n",
       "    \n",
       "    \n",
       "    }\n",
       "  ];\n",
       "\n",
       "  function run_inline_js() {\n",
       "    \n",
       "    if (root.Bokeh !== undefined || force === true) {\n",
       "      \n",
       "    for (var i = 0; i < inline_js.length; i++) {\n",
       "      inline_js[i].call(root, root.Bokeh);\n",
       "    }\n",
       "    } else if (Date.now() < root._bokeh_timeout) {\n",
       "      setTimeout(run_inline_js, 100);\n",
       "    } else if (!root._bokeh_failed_load) {\n",
       "      console.log(\"Bokeh: BokehJS failed to load within specified timeout.\");\n",
       "      root._bokeh_failed_load = true;\n",
       "    } else if (force !== true) {\n",
       "      var cell = $(document.getElementById(null)).parents('.cell').data().cell;\n",
       "      cell.output_area.append_execute_result(NB_LOAD_WARNING)\n",
       "    }\n",
       "\n",
       "  }\n",
       "\n",
       "  if (root._bokeh_is_loading === 0) {\n",
       "    console.debug(\"Bokeh: BokehJS loaded, going straight to plotting\");\n",
       "    run_inline_js();\n",
       "  } else {\n",
       "    load_libs(css_urls, js_urls, function() {\n",
       "      console.debug(\"Bokeh: BokehJS plotting callback run at\", now());\n",
       "      run_inline_js();\n",
       "    });\n",
       "  }\n",
       "}(window));"
      ],
      "application/vnd.bokehjs_load.v0+json": "\n(function(root) {\n  function now() {\n    return new Date();\n  }\n\n  var force = true;\n\n  if (typeof root._bokeh_onload_callbacks === \"undefined\" || force === true) {\n    root._bokeh_onload_callbacks = [];\n    root._bokeh_is_loading = undefined;\n  }\n\n  \n\n  \n  if (typeof (root._bokeh_timeout) === \"undefined\" || force === true) {\n    root._bokeh_timeout = Date.now() + 5000;\n    root._bokeh_failed_load = false;\n  }\n\n  var NB_LOAD_WARNING = {'data': {'text/html':\n     \"<div style='background-color: #fdd'>\\n\"+\n     \"<p>\\n\"+\n     \"BokehJS does not appear to have successfully loaded. If loading BokehJS from CDN, this \\n\"+\n     \"may be due to a slow or bad network connection. Possible fixes:\\n\"+\n     \"</p>\\n\"+\n     \"<ul>\\n\"+\n     \"<li>re-rerun `output_notebook()` to attempt to load from CDN again, or</li>\\n\"+\n     \"<li>use INLINE resources instead, as so:</li>\\n\"+\n     \"</ul>\\n\"+\n     \"<code>\\n\"+\n     \"from bokeh.resources import INLINE\\n\"+\n     \"output_notebook(resources=INLINE)\\n\"+\n     \"</code>\\n\"+\n     \"</div>\"}};\n\n  function display_loaded() {\n    var el = document.getElementById(null);\n    if (el != null) {\n      el.textContent = \"BokehJS is loading...\";\n    }\n    if (root.Bokeh !== undefined) {\n      if (el != null) {\n        el.textContent = \"BokehJS \" + root.Bokeh.version + \" successfully loaded.\";\n      }\n    } else if (Date.now() < root._bokeh_timeout) {\n      setTimeout(display_loaded, 100)\n    }\n  }\n\n\n  function run_callbacks() {\n    try {\n      root._bokeh_onload_callbacks.forEach(function(callback) {\n        if (callback != null)\n          callback();\n      });\n    } finally {\n      delete root._bokeh_onload_callbacks\n    }\n    console.debug(\"Bokeh: all callbacks have finished\");\n  }\n\n  function load_libs(css_urls, js_urls, callback) {\n    if (css_urls == null) css_urls = [];\n    if (js_urls == null) js_urls = [];\n\n    root._bokeh_onload_callbacks.push(callback);\n    if (root._bokeh_is_loading > 0) {\n      console.debug(\"Bokeh: BokehJS is being loaded, scheduling callback at\", now());\n      return null;\n    }\n    if (js_urls == null || js_urls.length === 0) {\n      run_callbacks();\n      return null;\n    }\n    console.debug(\"Bokeh: BokehJS not loaded, scheduling load and callback at\", now());\n    root._bokeh_is_loading = css_urls.length + js_urls.length;\n\n    function on_load() {\n      root._bokeh_is_loading--;\n      if (root._bokeh_is_loading === 0) {\n        console.debug(\"Bokeh: all BokehJS libraries/stylesheets loaded\");\n        run_callbacks()\n      }\n    }\n\n    function on_error(url) {\n      console.error(\"failed to load \" + url);\n    }\n\n    for (let i = 0; i < css_urls.length; i++) {\n      const url = css_urls[i];\n      const element = document.createElement(\"link\");\n      element.onload = on_load;\n      element.onerror = on_error.bind(null, url);\n      element.rel = \"stylesheet\";\n      element.type = \"text/css\";\n      element.href = url;\n      console.debug(\"Bokeh: injecting link tag for BokehJS stylesheet: \", url);\n      document.body.appendChild(element);\n    }\n\n    const hashes = {\"https://cdn.bokeh.org/bokeh/release/bokeh-2.3.3.min.js\": \"dM3QQsP+wXdHg42wTqW85BjZQdLNNIXqlPw/BgKoExPmTG7ZLML4EGqLMfqHT6ON\", \"https://cdn.bokeh.org/bokeh/release/bokeh-tables-2.3.3.min.js\": \"8x57I4YuIfu8XyZfFo0XVr2WAT8EK4rh/uDe3wF7YuW2FNUSNEpJbsPaB1nJ2fz2\", \"https://cdn.bokeh.org/bokeh/release/bokeh-widgets-2.3.3.min.js\": \"3QTqdz9LyAm2i0sG5XTePsHec3UHWwVsrOL68SYRoAXsafvfAyqtQ+h440+qIBhS\"};\n\n    for (let i = 0; i < js_urls.length; i++) {\n      const url = js_urls[i];\n      const element = document.createElement('script');\n      element.onload = on_load;\n      element.onerror = on_error.bind(null, url);\n      element.async = false;\n      element.src = url;\n      if (url in hashes) {\n        element.crossOrigin = \"anonymous\";\n        element.integrity = \"sha384-\" + hashes[url];\n      }\n      console.debug(\"Bokeh: injecting script tag for BokehJS library: \", url);\n      document.head.appendChild(element);\n    }\n  };\n\n  function inject_raw_css(css) {\n    const element = document.createElement(\"style\");\n    element.appendChild(document.createTextNode(css));\n    document.body.appendChild(element);\n  }\n\n  \n  var js_urls = [\"https://cdn.bokeh.org/bokeh/release/bokeh-2.3.3.min.js\", \"https://cdn.bokeh.org/bokeh/release/bokeh-widgets-2.3.3.min.js\", \"https://cdn.bokeh.org/bokeh/release/bokeh-tables-2.3.3.min.js\"];\n  var css_urls = [];\n  \n\n  var inline_js = [\n    function(Bokeh) {\n      Bokeh.set_log_level(\"info\");\n    },\n    function(Bokeh) {\n    \n    \n    }\n  ];\n\n  function run_inline_js() {\n    \n    if (root.Bokeh !== undefined || force === true) {\n      \n    for (var i = 0; i < inline_js.length; i++) {\n      inline_js[i].call(root, root.Bokeh);\n    }\n    } else if (Date.now() < root._bokeh_timeout) {\n      setTimeout(run_inline_js, 100);\n    } else if (!root._bokeh_failed_load) {\n      console.log(\"Bokeh: BokehJS failed to load within specified timeout.\");\n      root._bokeh_failed_load = true;\n    } else if (force !== true) {\n      var cell = $(document.getElementById(null)).parents('.cell').data().cell;\n      cell.output_area.append_execute_result(NB_LOAD_WARNING)\n    }\n\n  }\n\n  if (root._bokeh_is_loading === 0) {\n    console.debug(\"Bokeh: BokehJS loaded, going straight to plotting\");\n    run_inline_js();\n  } else {\n    load_libs(css_urls, js_urls, function() {\n      console.debug(\"Bokeh: BokehJS plotting callback run at\", now());\n      run_inline_js();\n    });\n  }\n}(window));"
     },
     "metadata": {},
     "output_type": "display_data"
    },
    {
     "data": {
      "text/html": [
       "\n",
       "\n",
       "\n",
       "\n",
       "\n",
       "\n",
       "  <div class=\"bk-root\" id=\"619c49e3-e403-4823-99f4-13c709f8bea6\" data-root-id=\"1003\"></div>\n"
      ]
     },
     "metadata": {},
     "output_type": "display_data"
    },
    {
     "data": {
      "application/javascript": [
       "(function(root) {\n",
       "  function embed_document(root) {\n",
       "    \n",
       "  var docs_json = {\"fec25b84-3d7f-43b2-a58b-cc8e01204966\":{\"defs\":[],\"roots\":{\"references\":[{\"attributes\":{\"below\":[{\"id\":\"1012\"}],\"center\":[{\"id\":\"1015\"},{\"id\":\"1019\"}],\"height\":400,\"left\":[{\"id\":\"1016\"}],\"renderers\":[{\"id\":\"1037\"}],\"title\":{\"id\":\"1042\"},\"toolbar\":{\"id\":\"1027\"},\"x_range\":{\"id\":\"1004\"},\"x_scale\":{\"id\":\"1008\"},\"y_range\":{\"id\":\"1006\"},\"y_scale\":{\"id\":\"1010\"}},\"id\":\"1003\",\"subtype\":\"Figure\",\"type\":\"Plot\"},{\"attributes\":{\"data_source\":{\"id\":\"1002\"},\"glyph\":{\"id\":\"1035\"},\"hover_glyph\":null,\"muted_glyph\":null,\"nonselection_glyph\":{\"id\":\"1036\"},\"view\":{\"id\":\"1038\"}},\"id\":\"1037\",\"type\":\"GlyphRenderer\"},{\"attributes\":{},\"id\":\"1004\",\"type\":\"DataRange1d\"},{\"attributes\":{\"active_multi\":null,\"active_scroll\":{\"id\":\"1021\"},\"tools\":[{\"id\":\"1020\"},{\"id\":\"1021\"},{\"id\":\"1022\"},{\"id\":\"1023\"},{\"id\":\"1024\"},{\"id\":\"1025\"},{\"id\":\"1039\"}]},\"id\":\"1027\",\"type\":\"Toolbar\"},{\"attributes\":{\"fill_alpha\":{\"value\":0.1},\"fill_color\":{\"field\":\"color\"},\"line_alpha\":{\"value\":0.1},\"line_color\":{\"field\":\"color\"},\"size\":{\"value\":10},\"x\":{\"field\":\"x\"},\"y\":{\"field\":\"y\"}},\"id\":\"1036\",\"type\":\"Scatter\"},{\"attributes\":{\"source\":{\"id\":\"1002\"}},\"id\":\"1038\",\"type\":\"CDSView\"},{\"attributes\":{\"overlay\":{\"id\":\"1026\"}},\"id\":\"1022\",\"type\":\"BoxZoomTool\"},{\"attributes\":{},\"id\":\"1050\",\"type\":\"UnionRenderers\"},{\"attributes\":{},\"id\":\"1020\",\"type\":\"PanTool\"},{\"attributes\":{\"axis\":{\"id\":\"1012\"},\"ticker\":null},\"id\":\"1015\",\"type\":\"Grid\"},{\"attributes\":{\"data\":{\"color\":[\"red\",\"red\",\"red\",\"blue\",\"red\",\"blue\",\"blue\",\"blue\",\"blue\",\"blue\",\"blue\",\"blue\",\"blue\",\"red\",\"red\",\"blue\",\"blue\",\"blue\",\"red\",\"blue\",\"blue\",\"blue\",\"blue\",\"red\",\"blue\",\"blue\",\"red\",\"red\",\"blue\",\"red\",\"blue\",\"red\",\"red\",\"blue\",\"red\",\"red\",\"blue\",\"red\",\"blue\",\"blue\",\"red\",\"blue\",\"blue\",\"blue\",\"red\",\"red\",\"red\",\"red\",\"blue\",\"red\",\"blue\",\"blue\",\"blue\",\"red\",\"blue\",\"red\",\"blue\",\"blue\",\"red\",\"red\",\"red\",\"blue\",\"blue\",\"red\",\"red\",\"blue\",\"blue\",\"red\",\"blue\",\"blue\",\"blue\",\"blue\",\"red\",\"red\",\"red\",\"red\",\"red\",\"blue\",\"red\",\"red\",\"blue\",\"blue\",\"red\",\"red\",\"blue\",\"red\",\"red\",\"red\",\"blue\",\"red\",\"red\",\"red\",\"red\",\"blue\",\"blue\",\"red\",\"red\",\"blue\",\"red\",\"red\",\"blue\",\"red\",\"blue\",\"red\",\"red\",\"red\",\"red\",\"blue\",\"red\",\"blue\",\"blue\",\"blue\",\"blue\",\"red\",\"red\",\"blue\",\"blue\",\"blue\",\"red\",\"blue\",\"red\",\"red\",\"red\",\"red\",\"blue\",\"blue\",\"red\",\"blue\",\"red\",\"blue\",\"blue\",\"blue\",\"red\",\"blue\",\"red\",\"blue\",\"red\",\"red\",\"blue\",\"red\",\"red\",\"blue\",\"red\",\"red\",\"blue\",\"red\",\"red\",\"blue\",\"blue\",\"blue\",\"blue\",\"red\",\"red\",\"red\",\"blue\",\"red\",\"red\",\"red\",\"blue\",\"red\",\"red\",\"red\",\"red\",\"red\",\"red\",\"blue\",\"blue\",\"red\",\"blue\",\"blue\",\"red\",\"red\",\"red\",\"blue\",\"red\",\"red\",\"blue\",\"red\",\"blue\",\"blue\",\"red\",\"blue\",\"red\",\"red\",\"blue\",\"blue\",\"blue\",\"blue\",\"blue\",\"red\",\"red\",\"red\",\"blue\",\"blue\",\"blue\",\"red\",\"red\",\"blue\",\"blue\",\"blue\",\"blue\",\"blue\",\"blue\",\"red\",\"red\",\"red\",\"red\",\"red\",\"red\",\"red\",\"red\",\"red\",\"blue\",\"blue\",\"blue\",\"red\",\"blue\",\"red\",\"blue\",\"blue\",\"red\",\"blue\",\"red\",\"blue\",\"blue\",\"red\",\"blue\",\"blue\",\"blue\",\"blue\",\"red\",\"blue\",\"red\",\"red\",\"red\",\"blue\",\"red\",\"blue\",\"red\",\"red\",\"red\",\"blue\",\"red\",\"blue\",\"red\",\"blue\",\"red\",\"blue\",\"red\",\"blue\",\"blue\",\"blue\",\"blue\",\"blue\",\"blue\",\"blue\",\"red\",\"red\",\"red\",\"red\",\"blue\",\"red\",\"red\",\"blue\",\"blue\",\"blue\",\"red\",\"red\",\"red\",\"red\",\"blue\",\"blue\",\"blue\",\"blue\",\"blue\",\"blue\",\"blue\",\"red\",\"blue\",\"red\",\"red\",\"red\",\"blue\",\"red\",\"red\",\"blue\",\"blue\",\"red\",\"blue\",\"blue\",\"red\",\"red\",\"blue\",\"red\",\"red\",\"blue\",\"blue\",\"red\",\"blue\",\"red\",\"red\",\"blue\",\"red\",\"red\",\"blue\",\"red\",\"blue\",\"blue\",\"red\",\"red\",\"blue\",\"blue\",\"blue\",\"red\",\"blue\",\"blue\",\"red\",\"red\",\"red\",\"blue\",\"blue\",\"red\",\"blue\",\"red\",\"red\",\"red\",\"red\",\"red\",\"blue\",\"blue\",\"red\",\"red\",\"red\",\"red\",\"red\",\"blue\",\"red\",\"red\",\"red\",\"blue\",\"blue\",\"blue\",\"blue\",\"blue\",\"red\",\"blue\",\"blue\",\"red\",\"red\",\"blue\",\"blue\",\"blue\",\"blue\",\"red\",\"blue\",\"blue\",\"blue\",\"blue\",\"red\",\"blue\",\"red\",\"blue\",\"red\",\"red\",\"blue\",\"blue\",\"blue\",\"red\",\"red\",\"blue\",\"red\",\"red\",\"red\",\"blue\",\"red\",\"blue\",\"blue\",\"blue\",\"red\",\"red\",\"red\",\"blue\",\"blue\",\"red\",\"blue\",\"blue\",\"red\",\"blue\",\"blue\",\"red\",\"blue\",\"blue\",\"red\",\"blue\",\"red\",\"red\",\"blue\",\"blue\",\"blue\",\"red\",\"blue\",\"blue\",\"blue\",\"red\",\"red\",\"blue\",\"blue\",\"blue\",\"red\",\"blue\",\"blue\",\"blue\",\"red\",\"blue\",\"blue\",\"blue\",\"blue\",\"red\",\"blue\",\"blue\",\"red\",\"red\",\"red\",\"blue\",\"blue\",\"blue\",\"red\",\"red\",\"blue\",\"blue\",\"blue\",\"red\",\"blue\",\"blue\",\"blue\",\"blue\",\"blue\",\"red\",\"red\",\"blue\",\"blue\",\"blue\",\"red\",\"red\",\"blue\",\"red\",\"red\",\"red\",\"blue\",\"red\",\"red\",\"blue\",\"red\",\"blue\",\"blue\",\"red\",\"blue\",\"blue\",\"red\",\"red\",\"blue\",\"blue\",\"blue\",\"blue\",\"red\",\"red\",\"red\",\"red\",\"blue\",\"blue\",\"blue\",\"red\",\"blue\",\"blue\",\"red\",\"blue\",\"red\",\"red\",\"blue\",\"red\",\"blue\",\"red\",\"red\",\"blue\",\"red\",\"blue\",\"blue\",\"blue\",\"red\",\"blue\",\"red\",\"blue\",\"blue\",\"blue\",\"blue\",\"blue\",\"red\",\"blue\",\"blue\",\"red\",\"blue\",\"red\",\"blue\",\"red\",\"blue\",\"red\",\"red\",\"red\",\"red\",\"red\",\"red\",\"blue\",\"blue\",\"blue\",\"red\",\"blue\",\"red\",\"red\",\"blue\",\"red\",\"red\",\"red\",\"red\",\"red\",\"red\",\"blue\",\"blue\",\"blue\",\"red\",\"blue\",\"red\",\"blue\",\"blue\",\"red\",\"red\",\"red\",\"blue\",\"red\",\"blue\",\"blue\",\"blue\",\"red\",\"blue\",\"blue\",\"red\",\"blue\",\"blue\",\"blue\",\"blue\",\"blue\",\"blue\",\"red\",\"red\",\"red\",\"blue\",\"blue\",\"red\",\"blue\",\"blue\",\"blue\",\"red\",\"blue\",\"red\",\"blue\",\"blue\",\"red\",\"red\",\"blue\",\"red\",\"red\",\"red\",\"blue\",\"red\",\"red\",\"blue\",\"red\",\"red\",\"blue\",\"blue\",\"blue\",\"red\",\"red\",\"red\",\"blue\",\"blue\",\"blue\",\"red\",\"red\",\"red\",\"red\",\"blue\",\"blue\",\"red\",\"red\",\"red\",\"red\",\"red\",\"red\",\"blue\",\"blue\",\"red\",\"red\",\"red\",\"blue\",\"red\",\"red\",\"red\",\"blue\",\"red\",\"red\",\"blue\",\"red\",\"red\",\"blue\",\"blue\",\"blue\",\"red\",\"blue\",\"blue\",\"blue\",\"red\",\"red\",\"red\",\"blue\",\"blue\",\"red\",\"red\",\"blue\",\"red\",\"blue\",\"blue\",\"blue\",\"red\",\"red\",\"blue\",\"red\",\"red\",\"blue\",\"red\",\"blue\",\"blue\",\"red\",\"red\",\"red\",\"red\",\"red\",\"red\",\"red\",\"red\",\"red\",\"blue\",\"blue\",\"blue\",\"red\",\"red\",\"blue\",\"blue\",\"blue\",\"red\",\"blue\",\"blue\",\"blue\",\"blue\",\"red\",\"blue\",\"red\",\"blue\",\"red\",\"red\",\"red\",\"blue\",\"red\",\"red\",\"red\",\"blue\",\"red\",\"blue\",\"blue\",\"blue\",\"red\",\"red\",\"red\",\"blue\",\"blue\",\"blue\",\"red\",\"red\",\"red\",\"blue\",\"red\",\"red\",\"red\",\"blue\",\"red\",\"blue\",\"red\",\"red\",\"blue\",\"red\",\"blue\",\"blue\",\"red\",\"red\",\"blue\",\"blue\",\"blue\",\"blue\",\"red\",\"blue\",\"blue\",\"red\",\"red\",\"red\",\"red\",\"blue\",\"blue\",\"red\",\"red\",\"red\",\"red\",\"red\",\"blue\",\"blue\",\"red\",\"red\",\"red\",\"blue\",\"blue\",\"blue\",\"blue\",\"blue\",\"red\",\"red\",\"red\",\"blue\",\"blue\",\"red\",\"red\",\"red\",\"red\",\"red\",\"blue\",\"blue\",\"blue\",\"red\",\"red\",\"red\",\"red\",\"red\",\"blue\",\"red\",\"red\",\"red\",\"blue\",\"red\",\"red\",\"red\",\"red\",\"red\",\"red\",\"red\",\"red\",\"red\",\"blue\",\"blue\",\"blue\",\"blue\",\"blue\",\"red\",\"blue\",\"blue\",\"red\",\"blue\",\"red\",\"red\",\"blue\",\"red\",\"red\",\"blue\",\"red\",\"blue\",\"red\",\"red\",\"red\",\"blue\",\"red\",\"blue\",\"blue\",\"blue\",\"red\",\"blue\",\"blue\",\"red\",\"blue\",\"blue\",\"blue\",\"blue\",\"red\",\"blue\",\"red\",\"red\",\"red\",\"red\",\"blue\",\"blue\",\"red\",\"red\",\"blue\",\"red\",\"red\",\"blue\",\"red\",\"blue\",\"red\",\"blue\",\"blue\",\"red\",\"blue\",\"blue\",\"blue\",\"red\",\"blue\",\"red\",\"blue\",\"blue\",\"red\",\"red\",\"red\",\"blue\",\"blue\",\"blue\",\"red\",\"blue\",\"red\",\"blue\",\"blue\",\"red\",\"blue\",\"blue\",\"blue\",\"red\",\"red\",\"red\",\"blue\",\"red\",\"red\",\"red\",\"blue\",\"red\",\"red\",\"blue\",\"red\",\"blue\",\"blue\",\"blue\",\"red\",\"blue\",\"blue\",\"red\",\"red\",\"red\",\"blue\",\"blue\",\"blue\",\"red\",\"blue\",\"red\",\"blue\",\"red\",\"red\",\"blue\",\"red\",\"red\",\"red\",\"blue\",\"blue\",\"blue\",\"red\",\"red\",\"red\",\"red\",\"red\",\"red\",\"blue\",\"red\",\"red\",\"blue\",\"red\",\"red\",\"blue\",\"red\",\"blue\",\"blue\",\"blue\",\"blue\",\"red\",\"blue\",\"blue\",\"blue\",\"blue\",\"red\",\"red\",\"blue\",\"blue\",\"red\",\"red\",\"red\",\"blue\",\"red\",\"red\",\"blue\",\"blue\",\"red\",\"red\",\"blue\",\"red\",\"red\",\"blue\",\"red\",\"red\",\"red\",\"blue\",\"blue\",\"red\",\"red\",\"red\",\"blue\",\"red\",\"blue\",\"red\",\"blue\",\"red\",\"blue\",\"red\",\"blue\",\"red\",\"red\",\"blue\",\"blue\",\"blue\",\"red\",\"red\",\"red\",\"red\",\"red\",\"red\",\"blue\",\"red\",\"blue\",\"red\",\"blue\",\"red\",\"blue\",\"blue\",\"blue\",\"red\",\"blue\",\"blue\",\"red\",\"blue\",\"blue\",\"blue\",\"red\",\"red\",\"red\",\"blue\",\"blue\",\"blue\",\"red\",\"red\",\"blue\",\"red\",\"red\",\"red\",\"red\",\"blue\",\"red\",\"red\",\"red\",\"red\",\"blue\",\"blue\",\"blue\",\"red\",\"blue\",\"red\",\"red\",\"blue\",\"red\",\"blue\",\"blue\",\"red\",\"red\",\"red\",\"blue\",\"blue\",\"blue\",\"blue\",\"red\",\"red\",\"blue\",\"blue\",\"red\",\"blue\",\"blue\",\"blue\",\"blue\",\"red\",\"blue\",\"red\",\"red\",\"blue\",\"blue\",\"blue\",\"blue\",\"blue\",\"red\",\"red\",\"red\",\"red\",\"blue\",\"red\",\"blue\",\"red\",\"blue\",\"red\",\"blue\",\"red\",\"blue\",\"red\",\"blue\",\"blue\",\"red\",\"blue\",\"red\",\"blue\",\"red\",\"blue\",\"blue\",\"blue\",\"red\",\"red\",\"blue\",\"red\",\"red\",\"blue\",\"blue\",\"blue\",\"red\",\"blue\",\"blue\",\"red\",\"red\",\"red\",\"blue\",\"red\",\"blue\",\"blue\",\"red\",\"red\",\"red\",\"blue\",\"red\",\"blue\",\"blue\",\"blue\",\"red\",\"blue\",\"red\",\"red\",\"red\",\"red\",\"red\",\"red\",\"blue\",\"red\",\"blue\",\"blue\",\"blue\",\"red\",\"blue\",\"red\",\"red\",\"blue\",\"blue\",\"red\",\"red\",\"blue\",\"red\",\"blue\",\"red\",\"red\",\"blue\",\"red\",\"red\",\"blue\",\"red\",\"red\",\"red\",\"blue\",\"blue\",\"blue\",\"red\",\"blue\",\"blue\",\"blue\",\"red\",\"blue\",\"red\",\"red\",\"blue\",\"red\",\"blue\",\"blue\",\"red\",\"blue\",\"red\",\"blue\",\"blue\",\"red\",\"blue\",\"blue\",\"red\",\"blue\",\"blue\",\"blue\",\"red\",\"red\",\"blue\",\"blue\",\"red\",\"blue\",\"red\",\"red\",\"red\",\"blue\",\"blue\",\"blue\",\"red\",\"blue\",\"blue\",\"blue\",\"red\",\"blue\",\"blue\",\"blue\",\"blue\",\"blue\",\"red\",\"blue\",\"blue\",\"red\",\"red\",\"blue\",\"red\",\"red\",\"red\",\"blue\",\"blue\",\"blue\",\"red\",\"blue\",\"blue\",\"blue\",\"red\",\"red\",\"red\",\"red\",\"red\",\"blue\",\"blue\",\"red\",\"blue\",\"red\",\"blue\",\"blue\",\"blue\",\"red\",\"red\",\"red\",\"blue\",\"blue\",\"red\",\"red\",\"blue\",\"red\",\"blue\",\"blue\",\"red\",\"blue\",\"blue\",\"red\",\"red\",\"red\",\"red\",\"red\",\"red\",\"blue\",\"red\",\"red\",\"blue\",\"blue\",\"red\",\"blue\",\"blue\",\"blue\",\"red\",\"blue\",\"blue\",\"blue\",\"blue\",\"blue\",\"red\",\"red\",\"red\",\"red\",\"red\",\"red\",\"blue\",\"blue\",\"red\",\"red\",\"red\",\"blue\",\"red\",\"blue\",\"blue\",\"red\",\"blue\",\"blue\",\"red\",\"blue\",\"red\",\"red\",\"blue\",\"red\",\"red\",\"blue\",\"blue\",\"blue\",\"red\",\"red\",\"red\",\"blue\",\"blue\",\"red\",\"blue\",\"blue\",\"blue\",\"red\",\"red\",\"red\",\"blue\",\"red\",\"red\",\"red\",\"blue\",\"blue\",\"red\",\"blue\",\"blue\",\"blue\",\"blue\",\"blue\",\"blue\",\"blue\",\"blue\",\"blue\",\"red\",\"blue\",\"red\",\"red\",\"blue\",\"blue\",\"red\",\"red\",\"blue\",\"blue\",\"blue\",\"red\"],\"x\":{\"__ndarray__\":\"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\",\"dtype\":\"float64\",\"order\":\"little\",\"shape\":[1280]},\"y\":{\"__ndarray__\":\"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\",\"dtype\":\"float64\",\"order\":\"little\",\"shape\":[1280]}},\"selected\":{\"id\":\"1049\"},\"selection_policy\":{\"id\":\"1050\"}},\"id\":\"1002\",\"type\":\"ColumnDataSource\"},{\"attributes\":{},\"id\":\"1023\",\"type\":\"SaveTool\"},{\"attributes\":{},\"id\":\"1042\",\"type\":\"Title\"},{\"attributes\":{},\"id\":\"1017\",\"type\":\"BasicTicker\"},{\"attributes\":{\"axis\":{\"id\":\"1016\"},\"dimension\":1,\"ticker\":null},\"id\":\"1019\",\"type\":\"Grid\"},{\"attributes\":{},\"id\":\"1049\",\"type\":\"Selection\"},{\"attributes\":{\"formatter\":{\"id\":\"1045\"},\"major_label_policy\":{\"id\":\"1044\"},\"ticker\":{\"id\":\"1017\"}},\"id\":\"1016\",\"type\":\"LinearAxis\"},{\"attributes\":{\"bottom_units\":\"screen\",\"fill_alpha\":0.5,\"fill_color\":\"lightgrey\",\"left_units\":\"screen\",\"level\":\"overlay\",\"line_alpha\":1.0,\"line_color\":\"black\",\"line_dash\":[4,4],\"line_width\":2,\"right_units\":\"screen\",\"syncable\":false,\"top_units\":\"screen\"},\"id\":\"1026\",\"type\":\"BoxAnnotation\"},{\"attributes\":{},\"id\":\"1024\",\"type\":\"ResetTool\"},{\"attributes\":{},\"id\":\"1025\",\"type\":\"HelpTool\"},{\"attributes\":{},\"id\":\"1013\",\"type\":\"BasicTicker\"},{\"attributes\":{},\"id\":\"1047\",\"type\":\"AllLabels\"},{\"attributes\":{},\"id\":\"1048\",\"type\":\"BasicTickFormatter\"},{\"attributes\":{},\"id\":\"1010\",\"type\":\"LinearScale\"},{\"attributes\":{},\"id\":\"1008\",\"type\":\"LinearScale\"},{\"attributes\":{\"formatter\":{\"id\":\"1048\"},\"major_label_policy\":{\"id\":\"1047\"},\"ticker\":{\"id\":\"1013\"}},\"id\":\"1012\",\"type\":\"LinearAxis\"},{\"attributes\":{},\"id\":\"1021\",\"type\":\"WheelZoomTool\"},{\"attributes\":{\"fill_alpha\":{\"value\":0.25},\"fill_color\":{\"field\":\"color\"},\"line_alpha\":{\"value\":0.25},\"line_color\":{\"field\":\"color\"},\"size\":{\"value\":10},\"x\":{\"field\":\"x\"},\"y\":{\"field\":\"y\"}},\"id\":\"1035\",\"type\":\"Scatter\"},{\"attributes\":{\"callback\":null,\"tooltips\":[]},\"id\":\"1039\",\"type\":\"HoverTool\"},{\"attributes\":{},\"id\":\"1044\",\"type\":\"AllLabels\"},{\"attributes\":{},\"id\":\"1006\",\"type\":\"DataRange1d\"},{\"attributes\":{},\"id\":\"1045\",\"type\":\"BasicTickFormatter\"}],\"root_ids\":[\"1003\"]},\"title\":\"Bokeh Application\",\"version\":\"2.3.3\"}};\n",
       "  var render_items = [{\"docid\":\"fec25b84-3d7f-43b2-a58b-cc8e01204966\",\"root_ids\":[\"1003\"],\"roots\":{\"1003\":\"619c49e3-e403-4823-99f4-13c709f8bea6\"}}];\n",
       "  root.Bokeh.embed.embed_items_notebook(docs_json, render_items);\n",
       "\n",
       "  }\n",
       "  if (root.Bokeh !== undefined) {\n",
       "    embed_document(root);\n",
       "  } else {\n",
       "    var attempts = 0;\n",
       "    var timer = setInterval(function(root) {\n",
       "      if (root.Bokeh !== undefined) {\n",
       "        clearInterval(timer);\n",
       "        embed_document(root);\n",
       "      } else {\n",
       "        attempts++;\n",
       "        if (attempts > 100) {\n",
       "          clearInterval(timer);\n",
       "          console.log(\"Bokeh: ERROR: Unable to run BokehJS code because BokehJS library is missing\");\n",
       "        }\n",
       "      }\n",
       "    }, 10, root)\n",
       "  }\n",
       "})(window);"
      ],
      "application/vnd.bokehjs_exec.v0+json": ""
     },
     "metadata": {
      "application/vnd.bokehjs_exec.v0+json": {
       "id": "1003"
      }
     },
     "output_type": "display_data"
    },
    {
     "data": {
      "text/html": [
       "<div style=\"display: table;\"><div style=\"display: table-row;\"><div style=\"display: table-cell;\"><b title=\"bokeh.plotting.figure.Figure\">Figure</b>(</div><div style=\"display: table-cell;\">id&nbsp;=&nbsp;'1003', <span id=\"1108\" style=\"cursor: pointer;\">&hellip;)</span></div></div><div class=\"1107\" style=\"display: none;\"><div style=\"display: table-cell;\"></div><div style=\"display: table-cell;\">above&nbsp;=&nbsp;[],</div></div><div class=\"1107\" style=\"display: none;\"><div style=\"display: table-cell;\"></div><div style=\"display: table-cell;\">align&nbsp;=&nbsp;'start',</div></div><div class=\"1107\" style=\"display: none;\"><div style=\"display: table-cell;\"></div><div style=\"display: table-cell;\">aspect_ratio&nbsp;=&nbsp;None,</div></div><div class=\"1107\" style=\"display: none;\"><div style=\"display: table-cell;\"></div><div style=\"display: table-cell;\">aspect_scale&nbsp;=&nbsp;1,</div></div><div class=\"1107\" style=\"display: none;\"><div style=\"display: table-cell;\"></div><div style=\"display: table-cell;\">background&nbsp;=&nbsp;None,</div></div><div class=\"1107\" style=\"display: none;\"><div style=\"display: table-cell;\"></div><div style=\"display: table-cell;\">background_fill_alpha&nbsp;=&nbsp;1.0,</div></div><div class=\"1107\" style=\"display: none;\"><div style=\"display: table-cell;\"></div><div style=\"display: table-cell;\">background_fill_color&nbsp;=&nbsp;'#ffffff',</div></div><div class=\"1107\" style=\"display: none;\"><div style=\"display: table-cell;\"></div><div style=\"display: table-cell;\">below&nbsp;=&nbsp;[LinearAxis(id='1012', ...)],</div></div><div class=\"1107\" style=\"display: none;\"><div style=\"display: table-cell;\"></div><div style=\"display: table-cell;\">border_fill_alpha&nbsp;=&nbsp;1.0,</div></div><div class=\"1107\" style=\"display: none;\"><div style=\"display: table-cell;\"></div><div style=\"display: table-cell;\">border_fill_color&nbsp;=&nbsp;'#ffffff',</div></div><div class=\"1107\" style=\"display: none;\"><div style=\"display: table-cell;\"></div><div style=\"display: table-cell;\">center&nbsp;=&nbsp;[Grid(id='1015', ...), Grid(id='1019', ...)],</div></div><div class=\"1107\" style=\"display: none;\"><div style=\"display: table-cell;\"></div><div style=\"display: table-cell;\">css_classes&nbsp;=&nbsp;[],</div></div><div class=\"1107\" style=\"display: none;\"><div style=\"display: table-cell;\"></div><div style=\"display: table-cell;\">disabled&nbsp;=&nbsp;False,</div></div><div class=\"1107\" style=\"display: none;\"><div style=\"display: table-cell;\"></div><div style=\"display: table-cell;\">extra_x_ranges&nbsp;=&nbsp;{},</div></div><div class=\"1107\" style=\"display: none;\"><div style=\"display: table-cell;\"></div><div style=\"display: table-cell;\">extra_y_ranges&nbsp;=&nbsp;{},</div></div><div class=\"1107\" style=\"display: none;\"><div style=\"display: table-cell;\"></div><div style=\"display: table-cell;\">frame_height&nbsp;=&nbsp;None,</div></div><div class=\"1107\" style=\"display: none;\"><div style=\"display: table-cell;\"></div><div style=\"display: table-cell;\">frame_width&nbsp;=&nbsp;None,</div></div><div class=\"1107\" style=\"display: none;\"><div style=\"display: table-cell;\"></div><div style=\"display: table-cell;\">height&nbsp;=&nbsp;400,</div></div><div class=\"1107\" style=\"display: none;\"><div style=\"display: table-cell;\"></div><div style=\"display: table-cell;\">height_policy&nbsp;=&nbsp;'auto',</div></div><div class=\"1107\" style=\"display: none;\"><div style=\"display: table-cell;\"></div><div style=\"display: table-cell;\">hidpi&nbsp;=&nbsp;True,</div></div><div class=\"1107\" style=\"display: none;\"><div style=\"display: table-cell;\"></div><div style=\"display: table-cell;\">inner_height&nbsp;=&nbsp;0,</div></div><div class=\"1107\" style=\"display: none;\"><div style=\"display: table-cell;\"></div><div style=\"display: table-cell;\">inner_width&nbsp;=&nbsp;0,</div></div><div class=\"1107\" style=\"display: none;\"><div style=\"display: table-cell;\"></div><div style=\"display: table-cell;\">js_event_callbacks&nbsp;=&nbsp;{},</div></div><div class=\"1107\" style=\"display: none;\"><div style=\"display: table-cell;\"></div><div style=\"display: table-cell;\">js_property_callbacks&nbsp;=&nbsp;{},</div></div><div class=\"1107\" style=\"display: none;\"><div style=\"display: table-cell;\"></div><div style=\"display: table-cell;\">left&nbsp;=&nbsp;[LinearAxis(id='1016', ...)],</div></div><div class=\"1107\" style=\"display: none;\"><div style=\"display: table-cell;\"></div><div style=\"display: table-cell;\">lod_factor&nbsp;=&nbsp;10,</div></div><div class=\"1107\" style=\"display: none;\"><div style=\"display: table-cell;\"></div><div style=\"display: table-cell;\">lod_interval&nbsp;=&nbsp;300,</div></div><div class=\"1107\" style=\"display: none;\"><div style=\"display: table-cell;\"></div><div style=\"display: table-cell;\">lod_threshold&nbsp;=&nbsp;2000,</div></div><div class=\"1107\" style=\"display: none;\"><div style=\"display: table-cell;\"></div><div style=\"display: table-cell;\">lod_timeout&nbsp;=&nbsp;500,</div></div><div class=\"1107\" style=\"display: none;\"><div style=\"display: table-cell;\"></div><div style=\"display: table-cell;\">margin&nbsp;=&nbsp;(0, 0, 0, 0),</div></div><div class=\"1107\" style=\"display: none;\"><div style=\"display: table-cell;\"></div><div style=\"display: table-cell;\">match_aspect&nbsp;=&nbsp;False,</div></div><div class=\"1107\" style=\"display: none;\"><div style=\"display: table-cell;\"></div><div style=\"display: table-cell;\">max_height&nbsp;=&nbsp;None,</div></div><div class=\"1107\" style=\"display: none;\"><div style=\"display: table-cell;\"></div><div style=\"display: table-cell;\">max_width&nbsp;=&nbsp;None,</div></div><div class=\"1107\" style=\"display: none;\"><div style=\"display: table-cell;\"></div><div style=\"display: table-cell;\">min_border&nbsp;=&nbsp;5,</div></div><div class=\"1107\" style=\"display: none;\"><div style=\"display: table-cell;\"></div><div style=\"display: table-cell;\">min_border_bottom&nbsp;=&nbsp;None,</div></div><div class=\"1107\" style=\"display: none;\"><div style=\"display: table-cell;\"></div><div style=\"display: table-cell;\">min_border_left&nbsp;=&nbsp;None,</div></div><div class=\"1107\" style=\"display: none;\"><div style=\"display: table-cell;\"></div><div style=\"display: table-cell;\">min_border_right&nbsp;=&nbsp;None,</div></div><div class=\"1107\" style=\"display: none;\"><div style=\"display: table-cell;\"></div><div style=\"display: table-cell;\">min_border_top&nbsp;=&nbsp;None,</div></div><div class=\"1107\" style=\"display: none;\"><div style=\"display: table-cell;\"></div><div style=\"display: table-cell;\">min_height&nbsp;=&nbsp;None,</div></div><div class=\"1107\" style=\"display: none;\"><div style=\"display: table-cell;\"></div><div style=\"display: table-cell;\">min_width&nbsp;=&nbsp;None,</div></div><div class=\"1107\" style=\"display: none;\"><div style=\"display: table-cell;\"></div><div style=\"display: table-cell;\">name&nbsp;=&nbsp;None,</div></div><div class=\"1107\" style=\"display: none;\"><div style=\"display: table-cell;\"></div><div style=\"display: table-cell;\">outer_height&nbsp;=&nbsp;0,</div></div><div class=\"1107\" style=\"display: none;\"><div style=\"display: table-cell;\"></div><div style=\"display: table-cell;\">outer_width&nbsp;=&nbsp;0,</div></div><div class=\"1107\" style=\"display: none;\"><div style=\"display: table-cell;\"></div><div style=\"display: table-cell;\">outline_line_alpha&nbsp;=&nbsp;1.0,</div></div><div class=\"1107\" style=\"display: none;\"><div style=\"display: table-cell;\"></div><div style=\"display: table-cell;\">outline_line_cap&nbsp;=&nbsp;'butt',</div></div><div class=\"1107\" style=\"display: none;\"><div style=\"display: table-cell;\"></div><div style=\"display: table-cell;\">outline_line_color&nbsp;=&nbsp;'#e5e5e5',</div></div><div class=\"1107\" style=\"display: none;\"><div style=\"display: table-cell;\"></div><div style=\"display: table-cell;\">outline_line_dash&nbsp;=&nbsp;[],</div></div><div class=\"1107\" style=\"display: none;\"><div style=\"display: table-cell;\"></div><div style=\"display: table-cell;\">outline_line_dash_offset&nbsp;=&nbsp;0,</div></div><div class=\"1107\" style=\"display: none;\"><div style=\"display: table-cell;\"></div><div style=\"display: table-cell;\">outline_line_join&nbsp;=&nbsp;'bevel',</div></div><div class=\"1107\" style=\"display: none;\"><div style=\"display: table-cell;\"></div><div style=\"display: table-cell;\">outline_line_width&nbsp;=&nbsp;1,</div></div><div class=\"1107\" style=\"display: none;\"><div style=\"display: table-cell;\"></div><div style=\"display: table-cell;\">output_backend&nbsp;=&nbsp;'canvas',</div></div><div class=\"1107\" style=\"display: none;\"><div style=\"display: table-cell;\"></div><div style=\"display: table-cell;\">renderers&nbsp;=&nbsp;[GlyphRenderer(id='1037', ...)],</div></div><div class=\"1107\" style=\"display: none;\"><div style=\"display: table-cell;\"></div><div style=\"display: table-cell;\">reset_policy&nbsp;=&nbsp;'standard',</div></div><div class=\"1107\" style=\"display: none;\"><div style=\"display: table-cell;\"></div><div style=\"display: table-cell;\">right&nbsp;=&nbsp;[],</div></div><div class=\"1107\" style=\"display: none;\"><div style=\"display: table-cell;\"></div><div style=\"display: table-cell;\">sizing_mode&nbsp;=&nbsp;None,</div></div><div class=\"1107\" style=\"display: none;\"><div style=\"display: table-cell;\"></div><div style=\"display: table-cell;\">subscribed_events&nbsp;=&nbsp;[],</div></div><div class=\"1107\" style=\"display: none;\"><div style=\"display: table-cell;\"></div><div style=\"display: table-cell;\">syncable&nbsp;=&nbsp;True,</div></div><div class=\"1107\" style=\"display: none;\"><div style=\"display: table-cell;\"></div><div style=\"display: table-cell;\">tags&nbsp;=&nbsp;[],</div></div><div class=\"1107\" style=\"display: none;\"><div style=\"display: table-cell;\"></div><div style=\"display: table-cell;\">title&nbsp;=&nbsp;Title(id='1042', ...),</div></div><div class=\"1107\" style=\"display: none;\"><div style=\"display: table-cell;\"></div><div style=\"display: table-cell;\">title_location&nbsp;=&nbsp;'above',</div></div><div class=\"1107\" style=\"display: none;\"><div style=\"display: table-cell;\"></div><div style=\"display: table-cell;\">toolbar&nbsp;=&nbsp;Toolbar(id='1027', ...),</div></div><div class=\"1107\" style=\"display: none;\"><div style=\"display: table-cell;\"></div><div style=\"display: table-cell;\">toolbar_location&nbsp;=&nbsp;'right',</div></div><div class=\"1107\" style=\"display: none;\"><div style=\"display: table-cell;\"></div><div style=\"display: table-cell;\">toolbar_sticky&nbsp;=&nbsp;True,</div></div><div class=\"1107\" style=\"display: none;\"><div style=\"display: table-cell;\"></div><div style=\"display: table-cell;\">visible&nbsp;=&nbsp;True,</div></div><div class=\"1107\" style=\"display: none;\"><div style=\"display: table-cell;\"></div><div style=\"display: table-cell;\">width&nbsp;=&nbsp;600,</div></div><div class=\"1107\" style=\"display: none;\"><div style=\"display: table-cell;\"></div><div style=\"display: table-cell;\">width_policy&nbsp;=&nbsp;'auto',</div></div><div class=\"1107\" style=\"display: none;\"><div style=\"display: table-cell;\"></div><div style=\"display: table-cell;\">x_range&nbsp;=&nbsp;DataRange1d(id='1004', ...),</div></div><div class=\"1107\" style=\"display: none;\"><div style=\"display: table-cell;\"></div><div style=\"display: table-cell;\">x_scale&nbsp;=&nbsp;LinearScale(id='1008', ...),</div></div><div class=\"1107\" style=\"display: none;\"><div style=\"display: table-cell;\"></div><div style=\"display: table-cell;\">y_range&nbsp;=&nbsp;DataRange1d(id='1006', ...),</div></div><div class=\"1107\" style=\"display: none;\"><div style=\"display: table-cell;\"></div><div style=\"display: table-cell;\">y_scale&nbsp;=&nbsp;LinearScale(id='1010', ...))</div></div></div>\n",
       "<script>\n",
       "(function() {\n",
       "  var expanded = false;\n",
       "  var ellipsis = document.getElementById(\"1108\");\n",
       "  ellipsis.addEventListener(\"click\", function() {\n",
       "    var rows = document.getElementsByClassName(\"1107\");\n",
       "    for (var i = 0; i < rows.length; i++) {\n",
       "      var el = rows[i];\n",
       "      el.style.display = expanded ? \"none\" : \"table-row\";\n",
       "    }\n",
       "    ellipsis.innerHTML = expanded ? \"&hellip;)\" : \"&lsaquo;&lsaquo;&lsaquo;\";\n",
       "    expanded = !expanded;\n",
       "  });\n",
       "})();\n",
       "</script>\n"
      ],
      "text/plain": [
       "Figure(id='1003', ...)"
      ]
     },
     "execution_count": 18,
     "metadata": {},
     "output_type": "execute_result"
    }
   ],
   "source": [
    "draw_vectors(\n",
    "    examples[\"transformed_features\"][:, 0], \n",
    "    examples[\"transformed_features\"][:, 1], \n",
    "    color=[[\"red\", \"blue\"][t] for t in examples[\"targets\"]]\n",
    "    )"
   ]
  },
  {
   "cell_type": "markdown",
   "metadata": {
    "id": "0fNF6LRQ9MPI"
   },
   "source": [
    "Скорее всего, на визуализации нет четкого разделения твитов между классами. Это значит, что по полученным нами векторам твитов не так-то просто определить, к какому классу твит пренадлежит. Значит, обычный линейный классификатор не очень хорошо справится с задачей. Надо будет делать глубокую (хотя бы два слоя) нейронную сеть.\n",
    "\n",
    "Подготовим загрузчики данных.\n",
    "Усреднение векторов будем делать в \"батчевалке\"(`collate_fn`). Она используется для того, чтобы собирать из данных `torch.Tensor` батчи, которые можно отправлять в модель.\n"
   ]
  },
  {
   "cell_type": "code",
   "execution_count": 53,
   "metadata": {
    "id": "y1XapsADtITv"
   },
   "outputs": [],
   "source": [
    "from torch.utils.data import DataLoader\n",
    "\n",
    "\n",
    "batch_size = 1024\n",
    "num_workers = 2\n",
    "\n",
    "def average_emb(batch):\n",
    "    features = [np.mean(b[\"feature\"], axis=0) for b in batch]\n",
    "    targets = [b[\"target\"] for b in batch]\n",
    "\n",
    "    return {\"features\": torch.FloatTensor(features), \"targets\": torch.LongTensor(targets)}\n",
    "\n",
    "\n",
    "train_size = math.ceil(len(dev) * 0.8)\n",
    "\n",
    "train, valid = random_split(dev, [train_size, len(dev) - train_size])\n",
    "\n",
    "train_loader = DataLoader(train, batch_size=batch_size, num_workers=num_workers, shuffle=True, drop_last=True, collate_fn=average_emb)\n",
    "valid_loader = DataLoader(valid, batch_size=batch_size, num_workers=num_workers, shuffle=False, drop_last=False, collate_fn=average_emb)"
   ]
  },
  {
   "cell_type": "markdown",
   "metadata": {
    "id": "p-zs0WEK-Vkt"
   },
   "source": [
    "Определим функции для тренировки и теста модели:"
   ]
  },
  {
   "cell_type": "code",
   "execution_count": 54,
   "metadata": {
    "id": "U--T2Gjw1r27"
   },
   "outputs": [],
   "source": [
    "from tqdm.notebook import tqdm\n",
    "\n",
    "\n",
    "def training(model, optimizer, criterion, train_loader, epoch, device=\"cpu\"):\n",
    "    pbar = tqdm(train_loader, desc=f\"Epoch {e + 1}. Train Loss: {0}\")\n",
    "    model.train()\n",
    "    for batch in pbar:\n",
    "        features = batch[\"features\"].to(device)\n",
    "        targets = batch[\"targets\"].to(device)\n",
    "\n",
    "        # Получи предсказания модели\n",
    "        optimizer.zero_grad()\n",
    "        targets_pred = model(features).squeeze()\n",
    "        loss = criterion(targets_pred, targets.float()) # Посчитай лосс\n",
    "        # Обнови параметры модели\n",
    "        loss.backward()\n",
    "        optimizer.step()\n",
    "\n",
    "        pbar.set_description(f\"Epoch {e + 1}. Train Loss: {loss:.4}\")\n",
    "    \n",
    "\n",
    "def testing(model, criterion, test_loader, device=\"cpu\"):\n",
    "    pbar = tqdm(test_loader, desc=f\"Test Loss: {0}, Test Acc: {0}\")\n",
    "    mean_loss = 0\n",
    "    mean_acc = 0\n",
    "    model.eval()\n",
    "    with torch.no_grad():\n",
    "        for batch in pbar:\n",
    "            features = batch[\"features\"].to(device)\n",
    "            targets = batch[\"targets\"].to(device)\n",
    "\n",
    "            # Получи предсказания модели\n",
    "            targets_pred = model(features).squeeze()\n",
    "            loss = criterion(targets_pred, targets.float()) # Посчитай лосс\n",
    "            acc = sum(targets == (targets_pred > 0.5)) / len(targets) # Посчитай точность модели\n",
    "\n",
    "            mean_loss += loss.item()\n",
    "            mean_acc += acc.item()\n",
    "\n",
    "            pbar.set_description(f\"Test Loss: {loss:.4}, Test Acc: {acc:.4}\")\n",
    "\n",
    "    pbar.set_description(f\"Test Loss: {mean_loss / len(test_loader):.4}, Test Acc: {mean_acc / len(test_loader):.4}\")\n",
    "\n",
    "    return {\"Test Loss\": mean_loss / len(test_loader), \"Test Acc\": mean_acc / len(test_loader)}"
   ]
  },
  {
   "cell_type": "markdown",
   "metadata": {
    "id": "oVg_XBBb-YBH"
   },
   "source": [
    "Создадим модель, оптимизатор и целевую функцию. Вы можете сами выбрать количество слоев в нейронной сети, ваш любимый оптимизатор и целевую функцию.\n"
   ]
  },
  {
   "cell_type": "code",
   "execution_count": 55,
   "metadata": {
    "id": "EBoZ4F3Fx1Hm"
   },
   "outputs": [],
   "source": [
    "import torch.nn as nn\n",
    "from torch.optim import Adam\n",
    "\n",
    "\n",
    "# Не забудь поиграться с параметрами ;)\n",
    "vector_size = dev.word2vec.vector_size\n",
    "num_classes = 2\n",
    "lr = 1e-3\n",
    "num_epochs = 1\n",
    "\n",
    "model = nn.Sequential(\n",
    "    nn.Linear(vector_size, 128),\n",
    "    nn.ReLU(),\n",
    "    nn.Linear(128, 64),\n",
    "    nn.ReLU(),\n",
    "    nn.Linear(64, 1),\n",
    "    nn.Sigmoid()\n",
    ") # Твоя модель\n",
    "model = model#.cuda()\n",
    "criterion = nn.BCELoss() # Твой лосс\n",
    "optimizer = Adam(model.parameters(), lr=lr) # Твой оптимайзер"
   ]
  },
  {
   "cell_type": "markdown",
   "metadata": {
    "id": "-AitU8AR-zBj"
   },
   "source": [
    "Наконец, обучим модель и протестируем её.\n",
    "\n",
    "После каждой эпохи будем проверять качество модели на валидационной части датасета. Если метрика стала лучше, будем сохранять модель. **Подумайте, какая метрика (точность или лосс) будет лучше работать в этой задаче?** "
   ]
  },
  {
   "cell_type": "code",
   "execution_count": 56,
   "metadata": {
    "colab": {
     "base_uri": "https://localhost:8080/",
     "height": 98,
     "referenced_widgets": [
      "5510b2ce8b9e4ae18eafccc3c3c3aa68",
      "b86cf3a6f85849a8b6323c7663c88aed",
      "0ed5a0cf69964d41b3be0d26432cba31",
      "baaa52cad4e54502b3efe7ccfe4825ea",
      "69f70f8f76e941b3b1cdac6881d27e3f",
      "c8a04a69fd0e4806a7c45b822163fd10",
      "8c320d0f6c834e6580c4c649e2377a0e",
      "6bee350ef3bd405d9072d4a1f85162f1",
      "d9c60a66c21e46f4bd92983ed92d43af",
      "fcceba9083594598b775e7829e8cda4b",
      "55464804bc4749ecbbbfc372ece89298"
     ]
    },
    "id": "gKhk71Pmx1F1",
    "outputId": "851834c1-a9aa-4e21-eabe-4d567623ae1f"
   },
   "outputs": [
    {
     "data": {
      "application/vnd.jupyter.widget-view+json": {
       "model_id": "5510b2ce8b9e4ae18eafccc3c3c3aa68",
       "version_major": 2,
       "version_minor": 0
      },
      "text/plain": [
       "Epoch 1. Train Loss: 0:   0%|          | 0/1000 [00:00<?, ?it/s]"
      ]
     },
     "metadata": {},
     "output_type": "display_data"
    },
    {
     "data": {
      "application/vnd.jupyter.widget-view+json": {
       "model_id": "f0c44cf9e41f49d4b0a5bd64fb560911",
       "version_major": 2,
       "version_minor": 0
      },
      "text/plain": [
       "Test Loss: 0, Test Acc: 0:   0%|          | 0/250 [00:00<?, ?it/s]"
      ]
     },
     "metadata": {},
     "output_type": "display_data"
    },
    {
     "name": "stdout",
     "output_type": "stream",
     "text": [
      "{'Test Loss': 0.510105026960373, 'Test Acc': 0.74691015625}\n"
     ]
    }
   ],
   "source": [
    "best_metric = np.inf\n",
    "for e in range(num_epochs):\n",
    "    training(model, optimizer, criterion, train_loader, e, device)\n",
    "    log = testing(model, criterion, valid_loader, device)\n",
    "    print(log)\n",
    "    if log[\"Test Loss\"] < best_metric:\n",
    "        torch.save(model.state_dict(), \"model.pt\")\n",
    "        best_metric = log[\"Test Loss\"]"
   ]
  },
  {
   "cell_type": "code",
   "execution_count": 57,
   "metadata": {
    "colab": {
     "base_uri": "https://localhost:8080/",
     "height": 67,
     "referenced_widgets": [
      "ebbcda01c04c4c9ebbd5fd17704e7f43",
      "bda0d30e5aed4d059ac444d9f33130df",
      "f03781238e9847efbb0481b6a270b326",
      "3c3a8f94b6764a7caf88a5acd99a003d",
      "44b029a072b74b39badab7d49c7f8528",
      "424268416d0845f4b3cd34005847deea",
      "9877e05ff1cf4c40826eec6121123c6e",
      "769163b78a034fef832c2b844b9bf0fa",
      "1b6210e058584f3b9d6b01388a0e0b1e",
      "45d4337635274323a18ae2fb8ae44b14",
      "68d08e19d040442c8d0068e67b6b63ad"
     ]
    },
    "id": "di4dGwD4x1Dt",
    "outputId": "5aaa5f6f-2e17-4e1f-ce45-e6d5d62b7f9c"
   },
   "outputs": [
    {
     "data": {
      "application/vnd.jupyter.widget-view+json": {
       "model_id": "ebbcda01c04c4c9ebbd5fd17704e7f43",
       "version_major": 2,
       "version_minor": 0
      },
      "text/plain": [
       "Test Loss: 0, Test Acc: 0:   0%|          | 0/313 [00:00<?, ?it/s]"
      ]
     },
     "metadata": {},
     "output_type": "display_data"
    },
    {
     "name": "stdout",
     "output_type": "stream",
     "text": [
      "{'Test Loss': 0.5089798224048493, 'Test Acc': 0.7484493560303515}\n"
     ]
    }
   ],
   "source": [
    "test_loader = DataLoader(\n",
    "    TwitterDataset(test_data, \"text\", \"emotion\", word2vec), \n",
    "    batch_size=batch_size, \n",
    "    num_workers=num_workers, \n",
    "    shuffle=False,\n",
    "    drop_last=False, \n",
    "    collate_fn=average_emb)\n",
    "\n",
    "model.load_state_dict(torch.load(\"model.pt\", map_location=device))\n",
    "\n",
    "print(testing(model, criterion, test_loader, device=device))"
   ]
  },
  {
   "cell_type": "markdown",
   "metadata": {
    "id": "ZRvzpldHSAu0"
   },
   "source": [
    "## Embeddings for unknown words (8 баллов)\n",
    "\n",
    "Пока что использовалась не вся информация из текста. Часть информации фильтровалось – если слова не было в словаре эмбеддингов, то мы просто превращали слово в нулевой вектор. Хочется использовать информацию по-максимуму. Поэтому рассмотрим другие способы обработки слов, которых нет в словаре. А именно:\n",
    "\n",
    "- Для каждого незнакомого слова будем запоминать его контекст(слова слева и справа от этого слова). Эмбеддингом нашего незнакомого слова будет сумма эмбеддингов всех слов из его контекста. (4 балла)\n",
    "- Для каждого слова текста получим его эмбеддинг из Tfidf с помощью ```TfidfVectorizer``` из [sklearn](https://scikit-learn.org/stable/modules/generated/sklearn.feature_extraction.text.TfidfVectorizer.html#sklearn.feature_extraction.text.TfidfVectorizer). Итоговым эмбеддингом для каждого слова будет сумма двух эмбеддингов: предобученного и Tfidf-ного. Для слов, которых нет в словаре предобученных эмбеддингов, результирующий эмбеддинг будет просто полученный из Tfidf. (4 балла)\n",
    "\n",
    "Реализуйте оба варианта **ниже**. Напишите, какой способ сработал лучше и ваши мысли, почему так получилось."
   ]
  },
  {
   "cell_type": "markdown",
   "metadata": {
    "id": "mWiUfBYfwJ84"
   },
   "source": [
    "### Эмбединг по контексту"
   ]
  },
  {
   "cell_type": "markdown",
   "metadata": {
    "id": "NL3WZ9jL5A68"
   },
   "source": [
    "Изменим класс TwitterDataset:"
   ]
  },
  {
   "cell_type": "code",
   "execution_count": 58,
   "metadata": {
    "id": "QLiHLj9WBft1"
   },
   "outputs": [],
   "source": [
    "from torch.utils.data import Dataset, random_split\n",
    "\n",
    "\n",
    "class TwitterDataset(Dataset):\n",
    "    def __init__(self, data: pd.DataFrame, feature_column: str, \n",
    "                 target_column: str, word2vec: gensim.models.Word2Vec,\n",
    "                 window=1, weighted=False):\n",
    "        self.tokenizer = nltk.WordPunctTokenizer()\n",
    "        \n",
    "        self.data = data\n",
    "\n",
    "        self.feature_column = feature_column\n",
    "        self.target_column = target_column\n",
    "\n",
    "        self.word2vec = word2vec\n",
    "\n",
    "        self.label2num = lambda label: 0 if label == 0 else 1\n",
    "        self.mean = np.mean(word2vec.vectors, axis=0)\n",
    "        self.std = np.std(word2vec.vectors, axis=0)\n",
    "\n",
    "        self.window = window\n",
    "        self.weighted = weighted\n",
    "\n",
    "    def __getitem__(self, item):\n",
    "        text = self.data[self.feature_column][item]\n",
    "        label = self.label2num(self.data[self.target_column][item])\n",
    "\n",
    "        tokens = self.get_tokens_(text)\n",
    "        embeddings = self.get_embeddings_(tokens)\n",
    "\n",
    "        return {\"feature\": embeddings, \"target\": label}\n",
    "\n",
    "    def get_tokens_(self, text):\n",
    "        # Получи все токены из текста и профильтруй их\n",
    "        line = tokenizer.tokenize(text.lower())\n",
    "        tokens = [w for w in line if all(c not in string.punctuation for c in w) and len(w) > 3]\n",
    "\n",
    "        return tokens\n",
    "\n",
    "    def get_embeddings_(self, tokens):\n",
    "        # Получи эмбеддинги слов и усредни их\n",
    "        embeddings_ctx = self.get_context_for_unk_(tokens, self.window, self.weighted)\n",
    "        embeddings = [(w - self.mean) / self.std for w in embeddings_ctx] \n",
    "\n",
    "        if len(embeddings) == 0:\n",
    "            embeddings = np.zeros((1, self.word2vec.vector_size))\n",
    "        else:\n",
    "            embeddings = np.array(embeddings)\n",
    "            if len(embeddings.shape) == 1:\n",
    "                embeddings = embeddings.reshape(-1, 1)\n",
    "\n",
    "        return embeddings\n",
    "\n",
    "    def get_context_for_unk_(self, tokens, window, weighted):\n",
    "        embeddings = [\"PAD\" for x in range(window)]\n",
    "        for i, w in enumerate(tokens):\n",
    "            if w in word2vec:\n",
    "                embeddings.append(word2vec.get_vector(w))\n",
    "            else:\n",
    "                embeddings.append(\"UNK\")\n",
    "        for x in range(window):\n",
    "            embeddings.append(\"PAD\") \n",
    "\n",
    "        if weighted:\n",
    "            weights = np.arange(1, 0, -1/window)\n",
    "        else:\n",
    "            weights = np.ones(window)\n",
    "\n",
    "        while \"UNK\" in embeddings:\n",
    "            index = embeddings.index(\"UNK\")\n",
    "            embeddings[index] = np.zeros(300)\n",
    "\n",
    "            left_ctx = embeddings[index - window:index]\n",
    "            for i, elem in enumerate(left_ctx[::-1]):\n",
    "                if elem != \"PAD\":\n",
    "                    embeddings[index] += elem * weights[i]\n",
    "            \n",
    "            right_ctx = embeddings[index + 1:index + window + 1]\n",
    "            for i, elem in enumerate(right_ctx):\n",
    "                if elem not in (\"UNK\", \"PAD\"):\n",
    "                    embeddings[index] += elem * weights[i]\n",
    "        \n",
    "        embeddings = embeddings[window:-window]\n",
    "        return embeddings\n",
    "\n",
    "    def __len__(self):\n",
    "        return self.data.shape[0]"
   ]
  },
  {
   "cell_type": "markdown",
   "metadata": {
    "id": "NRaYFx7s-eQv"
   },
   "source": [
    "Попробуем следующие варианты:\n",
    "\n",
    "* Соседние слова\n",
    "* Окно размера 3\n",
    "* Веса для расстояния до слов"
   ]
  },
  {
   "cell_type": "code",
   "execution_count": 59,
   "metadata": {
    "id": "_WFHLST08Rvx"
   },
   "outputs": [],
   "source": [
    "dev = TwitterDataset(dev_data, \"text\", \"emotion\", word2vec)"
   ]
  },
  {
   "cell_type": "code",
   "execution_count": 60,
   "metadata": {
    "id": "AwGE_l8G60lm"
   },
   "outputs": [],
   "source": [
    "batch_size = 1024\n",
    "num_workers = 2\n",
    "\n",
    "def average_emb(batch):\n",
    "    features = [np.mean(b[\"feature\"], axis=0) for b in batch]\n",
    "    targets = [b[\"target\"] for b in batch]\n",
    "\n",
    "    return {\"features\": torch.FloatTensor(features), \"targets\": torch.LongTensor(targets)}\n",
    "\n",
    "\n",
    "train_size = math.ceil(len(dev) * 0.8)\n",
    "\n",
    "train, valid = random_split(dev, [train_size, len(dev) - train_size])\n",
    "\n",
    "train_loader = DataLoader(train, batch_size=batch_size, num_workers=num_workers, shuffle=True, drop_last=True, collate_fn=average_emb)\n",
    "valid_loader = DataLoader(valid, batch_size=batch_size, num_workers=num_workers, shuffle=False, drop_last=False, collate_fn=average_emb)"
   ]
  },
  {
   "cell_type": "code",
   "execution_count": 61,
   "metadata": {
    "colab": {
     "base_uri": "https://localhost:8080/",
     "height": 414,
     "referenced_widgets": [
      "b0de86ec6f4d4e5c8282d3f828d1bf0b",
      "bf6eed5f83e34b42b0ea5a76fac531d6",
      "17d62c0c729b4ee983c5c403ac3da122",
      "b71c8d9a78b34a85b2f4d2bd0db6843f",
      "0c3b4852a09e4ac48f23386e4506d725",
      "ec4be699f58e4202be86e128be7c847b",
      "ea4a9bf120e7475f8baa57398fe5bafe",
      "5be62d3b6ac8454297f1e6d4d3eb4425",
      "2aa27b6699504a7dbda39c1e4ca9790a",
      "761d88f1f7f44846baa7ab2565104958",
      "66e504d118214582ab8dc589882cb2cf"
     ]
    },
    "id": "c4pY-RA08F5O",
    "outputId": "e9657e38-a230-401c-a03b-c54bd9046dc9"
   },
   "outputs": [
    {
     "data": {
      "application/vnd.jupyter.widget-view+json": {
       "model_id": "b0de86ec6f4d4e5c8282d3f828d1bf0b",
       "version_major": 2,
       "version_minor": 0
      },
      "text/plain": [
       "Epoch 1. Train Loss: 0:   0%|          | 0/1000 [00:00<?, ?it/s]"
      ]
     },
     "metadata": {},
     "output_type": "display_data"
    },
    {
     "name": "stderr",
     "output_type": "stream",
     "text": [
      "/usr/local/lib/python3.7/dist-packages/ipykernel_launcher.py:80: FutureWarning: elementwise comparison failed; returning scalar instead, but in the future will perform elementwise comparison\n",
      "/usr/local/lib/python3.7/dist-packages/ipykernel_launcher.py:69: FutureWarning: elementwise comparison failed; returning scalar instead, but in the future will perform elementwise comparison\n",
      "/usr/local/lib/python3.7/dist-packages/ipykernel_launcher.py:69: FutureWarning: elementwise comparison failed; returning scalar instead, but in the future will perform elementwise comparison\n",
      "/usr/local/lib/python3.7/dist-packages/ipykernel_launcher.py:70: FutureWarning: elementwise comparison failed; returning scalar instead, but in the future will perform elementwise comparison\n",
      "/usr/local/lib/python3.7/dist-packages/ipykernel_launcher.py:75: FutureWarning: elementwise comparison failed; returning scalar instead, but in the future will perform elementwise comparison\n",
      "/usr/local/lib/python3.7/dist-packages/ipykernel_launcher.py:80: FutureWarning: elementwise comparison failed; returning scalar instead, but in the future will perform elementwise comparison\n",
      "/usr/local/lib/python3.7/dist-packages/ipykernel_launcher.py:70: FutureWarning: elementwise comparison failed; returning scalar instead, but in the future will perform elementwise comparison\n",
      "/usr/local/lib/python3.7/dist-packages/ipykernel_launcher.py:75: FutureWarning: elementwise comparison failed; returning scalar instead, but in the future will perform elementwise comparison\n"
     ]
    },
    {
     "data": {
      "application/vnd.jupyter.widget-view+json": {
       "model_id": "8c0ebd99c6ba4a5888ec7f6583dc7764",
       "version_major": 2,
       "version_minor": 0
      },
      "text/plain": [
       "Test Loss: 0, Test Acc: 0:   0%|          | 0/250 [00:00<?, ?it/s]"
      ]
     },
     "metadata": {},
     "output_type": "display_data"
    },
    {
     "name": "stderr",
     "output_type": "stream",
     "text": [
      "/usr/local/lib/python3.7/dist-packages/ipykernel_launcher.py:80: FutureWarning: elementwise comparison failed; returning scalar instead, but in the future will perform elementwise comparison\n",
      "/usr/local/lib/python3.7/dist-packages/ipykernel_launcher.py:69: FutureWarning: elementwise comparison failed; returning scalar instead, but in the future will perform elementwise comparison\n",
      "/usr/local/lib/python3.7/dist-packages/ipykernel_launcher.py:70: FutureWarning: elementwise comparison failed; returning scalar instead, but in the future will perform elementwise comparison\n",
      "/usr/local/lib/python3.7/dist-packages/ipykernel_launcher.py:75: FutureWarning: elementwise comparison failed; returning scalar instead, but in the future will perform elementwise comparison\n",
      "/usr/local/lib/python3.7/dist-packages/ipykernel_launcher.py:80: FutureWarning: elementwise comparison failed; returning scalar instead, but in the future will perform elementwise comparison\n",
      "/usr/local/lib/python3.7/dist-packages/ipykernel_launcher.py:69: FutureWarning: elementwise comparison failed; returning scalar instead, but in the future will perform elementwise comparison\n",
      "/usr/local/lib/python3.7/dist-packages/ipykernel_launcher.py:70: FutureWarning: elementwise comparison failed; returning scalar instead, but in the future will perform elementwise comparison\n",
      "/usr/local/lib/python3.7/dist-packages/ipykernel_launcher.py:75: FutureWarning: elementwise comparison failed; returning scalar instead, but in the future will perform elementwise comparison\n"
     ]
    },
    {
     "name": "stdout",
     "output_type": "stream",
     "text": [
      "{'Test Loss': 0.5069578108787537, 'Test Acc': 0.7490703125}\n"
     ]
    }
   ],
   "source": [
    "best_metric = np.inf\n",
    "for e in range(num_epochs):\n",
    "    training(model, optimizer, criterion, train_loader, e, device)\n",
    "    log = testing(model, criterion, valid_loader, device)\n",
    "    print(log)\n",
    "    if log[\"Test Loss\"] < best_metric:\n",
    "        torch.save(model.state_dict(), \"model.pt\")\n",
    "        best_metric = log[\"Test Loss\"]"
   ]
  },
  {
   "cell_type": "code",
   "execution_count": 62,
   "metadata": {
    "colab": {
     "base_uri": "https://localhost:8080/",
     "height": 235,
     "referenced_widgets": [
      "7199c287d57e4b4b89a54cfa1b4ab54d",
      "dc827da698504a8587091f92987523f2",
      "beba81a3ea5e4d568deb4754260f82b4",
      "4f5c55c73ea3439696ef542395a747c4",
      "d7f401c41f934caeb3225975364d64ac",
      "86b4a3c62ddb47b28e0d4c68a4b4ec64",
      "20ae3ad7a6a042358857cf7c51185a89",
      "899011f44dc1417994e427e440bf8535",
      "6ec1e1264e4a41e695b5cc27773a287e",
      "24675f9df94b441ba1542c43612a0a39",
      "1079aeb894f7409abc86b3ae15735963"
     ]
    },
    "id": "NN83h6IO8J6v",
    "outputId": "f2d3adaa-3411-4203-9689-504d1af0cee3"
   },
   "outputs": [
    {
     "data": {
      "application/vnd.jupyter.widget-view+json": {
       "model_id": "7199c287d57e4b4b89a54cfa1b4ab54d",
       "version_major": 2,
       "version_minor": 0
      },
      "text/plain": [
       "Test Loss: 0, Test Acc: 0:   0%|          | 0/313 [00:00<?, ?it/s]"
      ]
     },
     "metadata": {},
     "output_type": "display_data"
    },
    {
     "name": "stderr",
     "output_type": "stream",
     "text": [
      "/usr/local/lib/python3.7/dist-packages/ipykernel_launcher.py:69: FutureWarning: elementwise comparison failed; returning scalar instead, but in the future will perform elementwise comparison\n",
      "/usr/local/lib/python3.7/dist-packages/ipykernel_launcher.py:80: FutureWarning: elementwise comparison failed; returning scalar instead, but in the future will perform elementwise comparison\n",
      "/usr/local/lib/python3.7/dist-packages/ipykernel_launcher.py:69: FutureWarning: elementwise comparison failed; returning scalar instead, but in the future will perform elementwise comparison\n",
      "/usr/local/lib/python3.7/dist-packages/ipykernel_launcher.py:70: FutureWarning: elementwise comparison failed; returning scalar instead, but in the future will perform elementwise comparison\n",
      "/usr/local/lib/python3.7/dist-packages/ipykernel_launcher.py:75: FutureWarning: elementwise comparison failed; returning scalar instead, but in the future will perform elementwise comparison\n",
      "/usr/local/lib/python3.7/dist-packages/ipykernel_launcher.py:80: FutureWarning: elementwise comparison failed; returning scalar instead, but in the future will perform elementwise comparison\n",
      "/usr/local/lib/python3.7/dist-packages/ipykernel_launcher.py:70: FutureWarning: elementwise comparison failed; returning scalar instead, but in the future will perform elementwise comparison\n",
      "/usr/local/lib/python3.7/dist-packages/ipykernel_launcher.py:75: FutureWarning: elementwise comparison failed; returning scalar instead, but in the future will perform elementwise comparison\n"
     ]
    },
    {
     "name": "stdout",
     "output_type": "stream",
     "text": [
      "{'Test Loss': 0.5075446427249299, 'Test Acc': 0.7488050369408946}\n"
     ]
    }
   ],
   "source": [
    "test_loader = DataLoader(\n",
    "    TwitterDataset(test_data, \"text\", \"emotion\", word2vec), \n",
    "    batch_size=batch_size, \n",
    "    num_workers=num_workers, \n",
    "    shuffle=False,\n",
    "    drop_last=False, \n",
    "    collate_fn=average_emb)\n",
    "\n",
    "model.load_state_dict(torch.load(\"model.pt\", map_location=device))\n",
    "\n",
    "print(testing(model, criterion, test_loader, device=device))"
   ]
  },
  {
   "cell_type": "markdown",
   "metadata": {
    "id": "4HHZSvYeGHaT"
   },
   "source": [
    "С окном размера 3:"
   ]
  },
  {
   "cell_type": "code",
   "execution_count": 63,
   "metadata": {
    "id": "Bfw2fjdFFxuA"
   },
   "outputs": [],
   "source": [
    "dev = TwitterDataset(dev_data, \"text\", \"emotion\", word2vec, window=3)\n",
    "\n",
    "\n",
    "batch_size = 1024\n",
    "num_workers = 2\n",
    "\n",
    "def average_emb(batch):\n",
    "    features = [np.mean(b[\"feature\"], axis=0) for b in batch]\n",
    "    targets = [b[\"target\"] for b in batch]\n",
    "\n",
    "    return {\"features\": torch.FloatTensor(features), \"targets\": torch.LongTensor(targets)}\n",
    "\n",
    "\n",
    "train_size = math.ceil(len(dev) * 0.8)\n",
    "\n",
    "train, valid = random_split(dev, [train_size, len(dev) - train_size])\n",
    "\n",
    "train_loader = DataLoader(train, batch_size=batch_size, num_workers=num_workers, shuffle=True, drop_last=True, collate_fn=average_emb)\n",
    "valid_loader = DataLoader(valid, batch_size=batch_size, num_workers=num_workers, shuffle=False, drop_last=False, collate_fn=average_emb)"
   ]
  },
  {
   "cell_type": "code",
   "execution_count": 64,
   "metadata": {
    "colab": {
     "base_uri": "https://localhost:8080/",
     "height": 414,
     "referenced_widgets": [
      "e213efc971264b54b5096a54917124b1",
      "197d8716734849108c972dc2657ae002",
      "316acc275b2e406fb673538c1ed8266e",
      "dacf3be01501446b8dd5633ea85b76cc",
      "8b05dd5323d8469d8170cbb959776354",
      "698e8d61f45d4ccf85cfd3976edb371d",
      "d62edf201dd04641b1a121827300b88c",
      "61169dded5a541ddb7027ae6f659f8cb",
      "9db67b60e85c4c65888b0d2119e8d6f2",
      "99021fae2f8f42d28adf894045aaceb7",
      "42ef0ec508594e1bbe0cf7d6635c40d9"
     ]
    },
    "id": "siQZ-9sRF_pi",
    "outputId": "7d88c083-fe8c-4d14-f682-e903da4a4b75"
   },
   "outputs": [
    {
     "data": {
      "application/vnd.jupyter.widget-view+json": {
       "model_id": "e213efc971264b54b5096a54917124b1",
       "version_major": 2,
       "version_minor": 0
      },
      "text/plain": [
       "Epoch 1. Train Loss: 0:   0%|          | 0/1000 [00:00<?, ?it/s]"
      ]
     },
     "metadata": {},
     "output_type": "display_data"
    },
    {
     "name": "stderr",
     "output_type": "stream",
     "text": [
      "/usr/local/lib/python3.7/dist-packages/ipykernel_launcher.py:69: FutureWarning: elementwise comparison failed; returning scalar instead, but in the future will perform elementwise comparison\n",
      "/usr/local/lib/python3.7/dist-packages/ipykernel_launcher.py:69: FutureWarning: elementwise comparison failed; returning scalar instead, but in the future will perform elementwise comparison\n",
      "/usr/local/lib/python3.7/dist-packages/ipykernel_launcher.py:70: FutureWarning: elementwise comparison failed; returning scalar instead, but in the future will perform elementwise comparison\n",
      "/usr/local/lib/python3.7/dist-packages/ipykernel_launcher.py:75: FutureWarning: elementwise comparison failed; returning scalar instead, but in the future will perform elementwise comparison\n",
      "/usr/local/lib/python3.7/dist-packages/ipykernel_launcher.py:80: FutureWarning: elementwise comparison failed; returning scalar instead, but in the future will perform elementwise comparison\n",
      "/usr/local/lib/python3.7/dist-packages/ipykernel_launcher.py:80: FutureWarning: elementwise comparison failed; returning scalar instead, but in the future will perform elementwise comparison\n",
      "/usr/local/lib/python3.7/dist-packages/ipykernel_launcher.py:70: FutureWarning: elementwise comparison failed; returning scalar instead, but in the future will perform elementwise comparison\n",
      "/usr/local/lib/python3.7/dist-packages/ipykernel_launcher.py:75: FutureWarning: elementwise comparison failed; returning scalar instead, but in the future will perform elementwise comparison\n"
     ]
    },
    {
     "data": {
      "application/vnd.jupyter.widget-view+json": {
       "model_id": "fe8ad568d70142bfbe54026788999e0c",
       "version_major": 2,
       "version_minor": 0
      },
      "text/plain": [
       "Test Loss: 0, Test Acc: 0:   0%|          | 0/250 [00:00<?, ?it/s]"
      ]
     },
     "metadata": {},
     "output_type": "display_data"
    },
    {
     "name": "stderr",
     "output_type": "stream",
     "text": [
      "/usr/local/lib/python3.7/dist-packages/ipykernel_launcher.py:69: FutureWarning: elementwise comparison failed; returning scalar instead, but in the future will perform elementwise comparison\n",
      "/usr/local/lib/python3.7/dist-packages/ipykernel_launcher.py:70: FutureWarning: elementwise comparison failed; returning scalar instead, but in the future will perform elementwise comparison\n",
      "/usr/local/lib/python3.7/dist-packages/ipykernel_launcher.py:69: FutureWarning: elementwise comparison failed; returning scalar instead, but in the future will perform elementwise comparison\n",
      "/usr/local/lib/python3.7/dist-packages/ipykernel_launcher.py:75: FutureWarning: elementwise comparison failed; returning scalar instead, but in the future will perform elementwise comparison\n",
      "/usr/local/lib/python3.7/dist-packages/ipykernel_launcher.py:80: FutureWarning: elementwise comparison failed; returning scalar instead, but in the future will perform elementwise comparison\n",
      "/usr/local/lib/python3.7/dist-packages/ipykernel_launcher.py:80: FutureWarning: elementwise comparison failed; returning scalar instead, but in the future will perform elementwise comparison\n",
      "/usr/local/lib/python3.7/dist-packages/ipykernel_launcher.py:70: FutureWarning: elementwise comparison failed; returning scalar instead, but in the future will perform elementwise comparison\n",
      "/usr/local/lib/python3.7/dist-packages/ipykernel_launcher.py:75: FutureWarning: elementwise comparison failed; returning scalar instead, but in the future will perform elementwise comparison\n"
     ]
    },
    {
     "name": "stdout",
     "output_type": "stream",
     "text": [
      "{'Test Loss': 0.5011774158477783, 'Test Acc': 0.7529296875}\n"
     ]
    }
   ],
   "source": [
    "best_metric = np.inf\n",
    "for e in range(num_epochs):\n",
    "    training(model, optimizer, criterion, train_loader, e, device)\n",
    "    log = testing(model, criterion, valid_loader, device)\n",
    "    print(log)\n",
    "    if log[\"Test Loss\"] < best_metric:\n",
    "        torch.save(model.state_dict(), \"model.pt\")\n",
    "        best_metric = log[\"Test Loss\"]"
   ]
  },
  {
   "cell_type": "code",
   "execution_count": 65,
   "metadata": {
    "colab": {
     "base_uri": "https://localhost:8080/",
     "height": 235,
     "referenced_widgets": [
      "3674d90918f8489baecf9fea89c0ced1",
      "1b1ab9017fb24f4b988605b08be74325",
      "4f041fac0d554639a7ad5ef6454955ef",
      "8fcab32bc484460eaa23ec1872f52316",
      "24b6658b868f4f26b5b9fb22c68f82a1",
      "46765f10bfbc4875af043a429362770f",
      "7ccfe1fcf4b14039a941bf4816c5c38d",
      "8d1121cffca3454a90f04b82097d14fb",
      "79752ae5a0a54afd809e65288d31f39b",
      "ad0247ffbc904504b0fe1b3172453269",
      "de633b84dd5a47d9ae6071bebc9b5e6e"
     ]
    },
    "id": "vucl07GnGGB4",
    "outputId": "05ad62d8-00a7-4570-b902-12a6dc3fbd34"
   },
   "outputs": [
    {
     "data": {
      "application/vnd.jupyter.widget-view+json": {
       "model_id": "3674d90918f8489baecf9fea89c0ced1",
       "version_major": 2,
       "version_minor": 0
      },
      "text/plain": [
       "Test Loss: 0, Test Acc: 0:   0%|          | 0/313 [00:00<?, ?it/s]"
      ]
     },
     "metadata": {},
     "output_type": "display_data"
    },
    {
     "name": "stderr",
     "output_type": "stream",
     "text": [
      "/usr/local/lib/python3.7/dist-packages/ipykernel_launcher.py:69: FutureWarning: elementwise comparison failed; returning scalar instead, but in the future will perform elementwise comparison\n",
      "/usr/local/lib/python3.7/dist-packages/ipykernel_launcher.py:80: FutureWarning: elementwise comparison failed; returning scalar instead, but in the future will perform elementwise comparison\n",
      "/usr/local/lib/python3.7/dist-packages/ipykernel_launcher.py:69: FutureWarning: elementwise comparison failed; returning scalar instead, but in the future will perform elementwise comparison\n",
      "/usr/local/lib/python3.7/dist-packages/ipykernel_launcher.py:70: FutureWarning: elementwise comparison failed; returning scalar instead, but in the future will perform elementwise comparison\n",
      "/usr/local/lib/python3.7/dist-packages/ipykernel_launcher.py:80: FutureWarning: elementwise comparison failed; returning scalar instead, but in the future will perform elementwise comparison\n",
      "/usr/local/lib/python3.7/dist-packages/ipykernel_launcher.py:75: FutureWarning: elementwise comparison failed; returning scalar instead, but in the future will perform elementwise comparison\n",
      "/usr/local/lib/python3.7/dist-packages/ipykernel_launcher.py:70: FutureWarning: elementwise comparison failed; returning scalar instead, but in the future will perform elementwise comparison\n",
      "/usr/local/lib/python3.7/dist-packages/ipykernel_launcher.py:75: FutureWarning: elementwise comparison failed; returning scalar instead, but in the future will perform elementwise comparison\n"
     ]
    },
    {
     "name": "stdout",
     "output_type": "stream",
     "text": [
      "{'Test Loss': 0.508040252870645, 'Test Acc': 0.7483775958466453}\n"
     ]
    }
   ],
   "source": [
    "test_loader = DataLoader(\n",
    "    TwitterDataset(test_data, \"text\", \"emotion\", word2vec), \n",
    "    batch_size=batch_size, \n",
    "    num_workers=num_workers, \n",
    "    shuffle=False,\n",
    "    drop_last=False, \n",
    "    collate_fn=average_emb)\n",
    "\n",
    "model.load_state_dict(torch.load(\"model.pt\", map_location=device))\n",
    "\n",
    "print(testing(model, criterion, test_loader, device=device))"
   ]
  },
  {
   "cell_type": "markdown",
   "metadata": {
    "id": "doqSiZg1Gkw3"
   },
   "source": [
    "С окном размера 3 и весами, зависящими от расстояния до слова:"
   ]
  },
  {
   "cell_type": "code",
   "execution_count": 66,
   "metadata": {
    "id": "pbbwDv6rGejZ"
   },
   "outputs": [],
   "source": [
    "dev = TwitterDataset(dev_data, \"text\", \"emotion\", word2vec, window=3, weighted=True)\n",
    "\n",
    "\n",
    "batch_size = 1024\n",
    "num_workers = 2\n",
    "\n",
    "def average_emb(batch):\n",
    "    features = [np.mean(b[\"feature\"], axis=0) for b in batch]\n",
    "    targets = [b[\"target\"] for b in batch]\n",
    "\n",
    "    return {\"features\": torch.FloatTensor(features), \"targets\": torch.LongTensor(targets)}\n",
    "\n",
    "\n",
    "train_size = math.ceil(len(dev) * 0.8)\n",
    "\n",
    "train, valid = random_split(dev, [train_size, len(dev) - train_size])\n",
    "\n",
    "train_loader = DataLoader(train, batch_size=batch_size, num_workers=num_workers, shuffle=True, drop_last=True, collate_fn=average_emb)\n",
    "valid_loader = DataLoader(valid, batch_size=batch_size, num_workers=num_workers, shuffle=False, drop_last=False, collate_fn=average_emb)"
   ]
  },
  {
   "cell_type": "code",
   "execution_count": 67,
   "metadata": {
    "colab": {
     "base_uri": "https://localhost:8080/",
     "height": 414,
     "referenced_widgets": [
      "59a4d4300aa141669a877f90576dca34",
      "cfb2cc651caa4efcbc18092c8e3de4a4",
      "f2595b4e82d349ad908cc676130e03ed",
      "44a4a43b6ffe4c7c994e5a2abd4f04fe",
      "4adac241e7b1413090cc5811232b28c7",
      "ee713a629fa64684a741fac6ca1d413d",
      "3097a3cae68845d39d18ed174baeafc7",
      "787851357e4d4487bfcc64d1b218f6ad",
      "c981d85e175445e798bad313b6977656",
      "daf946ec65b3452f8f4d8a8c5943f4ea",
      "04ddb4d3d8344fa8a13eafbcdee411dd"
     ]
    },
    "id": "Lly0m06FGgEO",
    "outputId": "744aa16c-f0b9-463f-dadc-f60f76a4bd6a"
   },
   "outputs": [
    {
     "data": {
      "application/vnd.jupyter.widget-view+json": {
       "model_id": "59a4d4300aa141669a877f90576dca34",
       "version_major": 2,
       "version_minor": 0
      },
      "text/plain": [
       "Epoch 1. Train Loss: 0:   0%|          | 0/1000 [00:00<?, ?it/s]"
      ]
     },
     "metadata": {},
     "output_type": "display_data"
    },
    {
     "name": "stderr",
     "output_type": "stream",
     "text": [
      "/usr/local/lib/python3.7/dist-packages/ipykernel_launcher.py:69: FutureWarning: elementwise comparison failed; returning scalar instead, but in the future will perform elementwise comparison\n",
      "/usr/local/lib/python3.7/dist-packages/ipykernel_launcher.py:69: FutureWarning: elementwise comparison failed; returning scalar instead, but in the future will perform elementwise comparison\n",
      "/usr/local/lib/python3.7/dist-packages/ipykernel_launcher.py:70: FutureWarning: elementwise comparison failed; returning scalar instead, but in the future will perform elementwise comparison\n",
      "/usr/local/lib/python3.7/dist-packages/ipykernel_launcher.py:75: FutureWarning: elementwise comparison failed; returning scalar instead, but in the future will perform elementwise comparison\n",
      "/usr/local/lib/python3.7/dist-packages/ipykernel_launcher.py:80: FutureWarning: elementwise comparison failed; returning scalar instead, but in the future will perform elementwise comparison\n",
      "/usr/local/lib/python3.7/dist-packages/ipykernel_launcher.py:70: FutureWarning: elementwise comparison failed; returning scalar instead, but in the future will perform elementwise comparison\n",
      "/usr/local/lib/python3.7/dist-packages/ipykernel_launcher.py:75: FutureWarning: elementwise comparison failed; returning scalar instead, but in the future will perform elementwise comparison\n",
      "/usr/local/lib/python3.7/dist-packages/ipykernel_launcher.py:80: FutureWarning: elementwise comparison failed; returning scalar instead, but in the future will perform elementwise comparison\n"
     ]
    },
    {
     "data": {
      "application/vnd.jupyter.widget-view+json": {
       "model_id": "f9194fbea83b44c684fd8d39a89a4027",
       "version_major": 2,
       "version_minor": 0
      },
      "text/plain": [
       "Test Loss: 0, Test Acc: 0:   0%|          | 0/250 [00:00<?, ?it/s]"
      ]
     },
     "metadata": {},
     "output_type": "display_data"
    },
    {
     "name": "stderr",
     "output_type": "stream",
     "text": [
      "/usr/local/lib/python3.7/dist-packages/ipykernel_launcher.py:69: FutureWarning: elementwise comparison failed; returning scalar instead, but in the future will perform elementwise comparison\n",
      "/usr/local/lib/python3.7/dist-packages/ipykernel_launcher.py:80: FutureWarning: elementwise comparison failed; returning scalar instead, but in the future will perform elementwise comparison\n",
      "/usr/local/lib/python3.7/dist-packages/ipykernel_launcher.py:80: FutureWarning: elementwise comparison failed; returning scalar instead, but in the future will perform elementwise comparison\n",
      "/usr/local/lib/python3.7/dist-packages/ipykernel_launcher.py:69: FutureWarning: elementwise comparison failed; returning scalar instead, but in the future will perform elementwise comparison\n",
      "/usr/local/lib/python3.7/dist-packages/ipykernel_launcher.py:70: FutureWarning: elementwise comparison failed; returning scalar instead, but in the future will perform elementwise comparison\n",
      "/usr/local/lib/python3.7/dist-packages/ipykernel_launcher.py:70: FutureWarning: elementwise comparison failed; returning scalar instead, but in the future will perform elementwise comparison\n",
      "/usr/local/lib/python3.7/dist-packages/ipykernel_launcher.py:75: FutureWarning: elementwise comparison failed; returning scalar instead, but in the future will perform elementwise comparison\n",
      "/usr/local/lib/python3.7/dist-packages/ipykernel_launcher.py:75: FutureWarning: elementwise comparison failed; returning scalar instead, but in the future will perform elementwise comparison\n"
     ]
    },
    {
     "name": "stdout",
     "output_type": "stream",
     "text": [
      "{'Test Loss': 0.4951787457466125, 'Test Acc': 0.75555078125}\n"
     ]
    }
   ],
   "source": [
    "best_metric = np.inf\n",
    "for e in range(num_epochs):\n",
    "    training(model, optimizer, criterion, train_loader, e, device)\n",
    "    log = testing(model, criterion, valid_loader, device)\n",
    "    print(log)\n",
    "    if log[\"Test Loss\"] < best_metric:\n",
    "        torch.save(model.state_dict(), \"model.pt\")\n",
    "        best_metric = log[\"Test Loss\"]"
   ]
  },
  {
   "cell_type": "code",
   "execution_count": 68,
   "metadata": {
    "colab": {
     "base_uri": "https://localhost:8080/",
     "height": 235
    },
    "id": "3JsPKwKmGhyb",
    "outputId": "ba2aec9a-82cd-4f59-ffaf-a34340cbb1ff"
   },
   "outputs": [
    {
     "data": {
      "application/vnd.jupyter.widget-view+json": {
       "model_id": "f1595770884049b392a19cf884ea41a6",
       "version_major": 2,
       "version_minor": 0
      },
      "text/plain": [
       "Test Loss: 0, Test Acc: 0:   0%|          | 0/313 [00:00<?, ?it/s]"
      ]
     },
     "metadata": {},
     "output_type": "display_data"
    },
    {
     "name": "stderr",
     "output_type": "stream",
     "text": [
      "/usr/local/lib/python3.7/dist-packages/ipykernel_launcher.py:69: FutureWarning: elementwise comparison failed; returning scalar instead, but in the future will perform elementwise comparison\n",
      "/usr/local/lib/python3.7/dist-packages/ipykernel_launcher.py:80: FutureWarning: elementwise comparison failed; returning scalar instead, but in the future will perform elementwise comparison\n",
      "/usr/local/lib/python3.7/dist-packages/ipykernel_launcher.py:70: FutureWarning: elementwise comparison failed; returning scalar instead, but in the future will perform elementwise comparison\n",
      "/usr/local/lib/python3.7/dist-packages/ipykernel_launcher.py:69: FutureWarning: elementwise comparison failed; returning scalar instead, but in the future will perform elementwise comparison\n",
      "/usr/local/lib/python3.7/dist-packages/ipykernel_launcher.py:75: FutureWarning: elementwise comparison failed; returning scalar instead, but in the future will perform elementwise comparison\n",
      "/usr/local/lib/python3.7/dist-packages/ipykernel_launcher.py:80: FutureWarning: elementwise comparison failed; returning scalar instead, but in the future will perform elementwise comparison\n",
      "/usr/local/lib/python3.7/dist-packages/ipykernel_launcher.py:70: FutureWarning: elementwise comparison failed; returning scalar instead, but in the future will perform elementwise comparison\n",
      "/usr/local/lib/python3.7/dist-packages/ipykernel_launcher.py:75: FutureWarning: elementwise comparison failed; returning scalar instead, but in the future will perform elementwise comparison\n"
     ]
    },
    {
     "name": "stdout",
     "output_type": "stream",
     "text": [
      "{'Test Loss': 0.507041985805804, 'Test Acc': 0.7497379193290735}\n"
     ]
    }
   ],
   "source": [
    "test_loader = DataLoader(\n",
    "    TwitterDataset(test_data, \"text\", \"emotion\", word2vec), \n",
    "    batch_size=batch_size, \n",
    "    num_workers=num_workers, \n",
    "    shuffle=False,\n",
    "    drop_last=False, \n",
    "    collate_fn=average_emb)\n",
    "\n",
    "model.load_state_dict(torch.load(\"model.pt\", map_location=device))\n",
    "\n",
    "print(testing(model, criterion, test_loader, device=device))"
   ]
  },
  {
   "cell_type": "markdown",
   "metadata": {
    "id": "3HUa_BLCHT2J"
   },
   "source": [
    "### TF-IDF"
   ]
  },
  {
   "cell_type": "code",
   "execution_count": 69,
   "metadata": {
    "id": "NeS2xbThD4UB"
   },
   "outputs": [],
   "source": [
    "# Предобработка\n",
    "docs = [tokenizer.tokenize(doc.lower()) for doc in data[\"text\"]]\n",
    "corpus = [' '.join([w for w in doc if all(c not in string.punctuation for c in w) and len(w) > 3]) for doc in docs]"
   ]
  },
  {
   "cell_type": "code",
   "execution_count": 70,
   "metadata": {
    "id": "XpUeY-zAEyu4"
   },
   "outputs": [],
   "source": [
    "# Получаем tf-idf матрицу\n",
    "from sklearn.feature_extraction.text import TfidfVectorizer\n",
    "\n",
    "vectorizer = TfidfVectorizer()\n",
    "matrix = vectorizer.fit_transform(corpus)"
   ]
  },
  {
   "cell_type": "code",
   "execution_count": 78,
   "metadata": {
    "id": "bMlEQh0MlzRF"
   },
   "outputs": [],
   "source": [
    "# Раскладываем с помощью SVD\n",
    "from scipy.sparse.linalg import svds\n",
    "\n",
    "u, s, v = svds(matrix, 300)"
   ]
  },
  {
   "cell_type": "code",
   "execution_count": 94,
   "metadata": {
    "id": "k8WEwIM79_-k"
   },
   "outputs": [],
   "source": [
    "# Нормализуем эмбеддинги и складываем всё в словарь\n",
    "keys, v = vectorizer.get_feature_names(), v.T\n",
    "v_norm = (v - v.mean(axis=0)) / v.std(axis=0)\n",
    "tfidf_dict = dict(zip(keys, tfidf_embs))"
   ]
  },
  {
   "cell_type": "markdown",
   "metadata": {
    "id": "nCAaJ5TRBsPq"
   },
   "source": [
    "Изменим класс TwitterDataset:"
   ]
  },
  {
   "cell_type": "code",
   "execution_count": 99,
   "metadata": {
    "id": "rMKSFP1qB1g-"
   },
   "outputs": [],
   "source": [
    "class TwitterDataset(Dataset):\n",
    "    def __init__(self, data: pd.DataFrame, feature_column: str, target_column: str, word2vec: gensim.models.Word2Vec, tfidf_dict: dict):\n",
    "        self.tokenizer = nltk.WordPunctTokenizer()\n",
    "        \n",
    "        self.data = data\n",
    "\n",
    "        self.feature_column = feature_column\n",
    "        self.target_column = target_column\n",
    "\n",
    "        self.word2vec = word2vec\n",
    "        self.tfidf_dict = tfidf_dict\n",
    "\n",
    "        self.label2num = lambda label: 0 if label == 0 else 1\n",
    "        self.mean = np.mean(word2vec.vectors, axis=0)\n",
    "        self.std = np.std(word2vec.vectors, axis=0)\n",
    "\n",
    "    def __getitem__(self, item):\n",
    "        text = self.data[self.feature_column][item]\n",
    "        label = self.label2num(self.data[self.target_column][item])\n",
    "\n",
    "        tokens = self.get_tokens_(text)\n",
    "        embeddings = self.get_embeddings_(tokens)\n",
    "\n",
    "        return {\"feature\": embeddings, \"target\": label}\n",
    "\n",
    "    def get_tokens_(self, text):\n",
    "        # Получи все токены из текста и профильтруй их\n",
    "        line = tokenizer.tokenize(text.lower())\n",
    "        tokens = [w for w in line if all(c not in string.punctuation for c in w) and len(w) > 3]\n",
    "\n",
    "        return tokens\n",
    "\n",
    "    def get_embeddings_(self, tokens):\n",
    "        # Получи эмбеддинги слов и усредни их\n",
    "        embeddings = []\n",
    "        for token in tokens:\n",
    "            if token in word2vec:\n",
    "                embeddings.append((word2vec.get_vector(token) - self.mean) / self.std + tfidf_dict[token])\n",
    "            else:\n",
    "                embeddings.append(tfidf_dict[token])\n",
    "\n",
    "        if len(embeddings) == 0:\n",
    "            embeddings = np.zeros((1, self.word2vec.vector_size))\n",
    "        else:\n",
    "            embeddings = np.array(embeddings)\n",
    "            if len(embeddings.shape) == 1:\n",
    "                embeddings = embeddings.reshape(-1, 1)\n",
    "\n",
    "        return embeddings\n",
    "\n",
    "    def __len__(self):\n",
    "        return self.data.shape[0]"
   ]
  },
  {
   "cell_type": "code",
   "execution_count": 100,
   "metadata": {
    "id": "HJvtaNAPCXFY"
   },
   "outputs": [],
   "source": [
    "dev = TwitterDataset(dev_data, \"text\", \"emotion\", word2vec, tfidf_dict)"
   ]
  },
  {
   "cell_type": "code",
   "execution_count": 101,
   "metadata": {
    "id": "6XLjqeKhCXFZ"
   },
   "outputs": [],
   "source": [
    "from torch.utils.data import DataLoader\n",
    "\n",
    "\n",
    "batch_size = 1024\n",
    "num_workers = 2\n",
    "\n",
    "def average_emb(batch):\n",
    "    features = [np.mean(b[\"feature\"], axis=0) for b in batch]\n",
    "    targets = [b[\"target\"] for b in batch]\n",
    "\n",
    "    return {\"features\": torch.FloatTensor(features), \"targets\": torch.LongTensor(targets)}\n",
    "\n",
    "\n",
    "train_size = math.ceil(len(dev) * 0.8)\n",
    "\n",
    "train, valid = random_split(dev, [train_size, len(dev) - train_size])\n",
    "\n",
    "train_loader = DataLoader(train, batch_size=batch_size, num_workers=num_workers, shuffle=True, drop_last=True, collate_fn=average_emb)\n",
    "valid_loader = DataLoader(valid, batch_size=batch_size, num_workers=num_workers, shuffle=False, drop_last=False, collate_fn=average_emb)"
   ]
  },
  {
   "cell_type": "code",
   "execution_count": 102,
   "metadata": {
    "colab": {
     "base_uri": "https://localhost:8080/",
     "height": 98,
     "referenced_widgets": [
      "540d03aa4fbd4af1aeff13104dcd27d6",
      "daf10f89887947278cfc93a795fa2fa8",
      "f6fa7717844148968ceab7cc36f07c5c",
      "5654f22ec3e7466b9b9596ba52fb46a0",
      "78f2096839af41be8a15f774b3981db3",
      "150c357439fb47f4a3c00932182827c0",
      "3613e521d2934e1d9e61161ca6c7e61f",
      "e53c0c9dbf874d83a84e6bf37a7dfa82",
      "3925107685c24c34bdbec61bf61152dd",
      "8f4025b7f04c48feb0b22c45cd911fcd",
      "3d40e24fc5fc486e8e750dcb45e8647c"
     ]
    },
    "id": "hGIxj1xwCXFa",
    "outputId": "954b1696-27ae-4f60-926f-9748c4057f81"
   },
   "outputs": [
    {
     "data": {
      "application/vnd.jupyter.widget-view+json": {
       "model_id": "540d03aa4fbd4af1aeff13104dcd27d6",
       "version_major": 2,
       "version_minor": 0
      },
      "text/plain": [
       "Epoch 1. Train Loss: 0:   0%|          | 0/1000 [00:00<?, ?it/s]"
      ]
     },
     "metadata": {},
     "output_type": "display_data"
    },
    {
     "data": {
      "application/vnd.jupyter.widget-view+json": {
       "model_id": "23aebfc12aef4f3e982a8c2c00b8a3f2",
       "version_major": 2,
       "version_minor": 0
      },
      "text/plain": [
       "Test Loss: 0, Test Acc: 0:   0%|          | 0/250 [00:00<?, ?it/s]"
      ]
     },
     "metadata": {},
     "output_type": "display_data"
    },
    {
     "name": "stdout",
     "output_type": "stream",
     "text": [
      "{'Test Loss': 0.5391714922189712, 'Test Acc': 0.72473046875}\n"
     ]
    }
   ],
   "source": [
    "best_metric = np.inf\n",
    "for e in range(num_epochs):\n",
    "    training(model, optimizer, criterion, train_loader, e, device)\n",
    "    log = testing(model, criterion, valid_loader, device)\n",
    "    print(log)\n",
    "    if log[\"Test Loss\"] < best_metric:\n",
    "        torch.save(model.state_dict(), \"model.pt\")\n",
    "        best_metric = log[\"Test Loss\"]"
   ]
  },
  {
   "cell_type": "code",
   "execution_count": 103,
   "metadata": {
    "colab": {
     "base_uri": "https://localhost:8080/",
     "height": 67,
     "referenced_widgets": [
      "9e6f6348432c47f7a6c741028c983b8d",
      "46e0698ecf80410c9fa6e87c1809a739",
      "50c74d88221648cd86d84c5ca5c12126",
      "37ed1632c4354feaa427c6839573b3e5",
      "a7e38e3d6bce4d9db7c1b38bde3fec80",
      "27c0bb1ee4264cfd9e1c6696d88a2038",
      "9ca3df38ff344d05bdd70015a39041ab",
      "7ec58b8ac36f4d5f9ece073eaa28f818",
      "b8f4412105694f8d9b1b3cbca64dd3b6",
      "b4e61569aa71471cb0a80517d925749a",
      "12a133893f5b43aa8a83769bb5becaaa"
     ]
    },
    "id": "032bpGzuCXFa",
    "outputId": "e1e0a042-ec04-43d7-ab00-28ec5d3a799f"
   },
   "outputs": [
    {
     "data": {
      "application/vnd.jupyter.widget-view+json": {
       "model_id": "9e6f6348432c47f7a6c741028c983b8d",
       "version_major": 2,
       "version_minor": 0
      },
      "text/plain": [
       "Test Loss: 0, Test Acc: 0:   0%|          | 0/313 [00:00<?, ?it/s]"
      ]
     },
     "metadata": {},
     "output_type": "display_data"
    },
    {
     "name": "stdout",
     "output_type": "stream",
     "text": [
      "{'Test Loss': 0.5397668014319179, 'Test Acc': 0.7241476138178914}\n"
     ]
    }
   ],
   "source": [
    "test_loader = DataLoader(\n",
    "    TwitterDataset(test_data, \"text\", \"emotion\", word2vec, tfidf_dict), \n",
    "    batch_size=batch_size, \n",
    "    num_workers=num_workers, \n",
    "    shuffle=False,\n",
    "    drop_last=False, \n",
    "    collate_fn=average_emb)\n",
    "\n",
    "model.load_state_dict(torch.load(\"model.pt\", map_location=device))\n",
    "\n",
    "print(testing(model, criterion, test_loader, device=device))"
   ]
  },
  {
   "cell_type": "markdown",
   "metadata": {
    "id": "BoIHLb9m3wXi"
   },
   "source": [
    "# Выводы:\n",
    "\n",
    "Лучше всего справились эмбединги для незнакомых слов на основе соседей (окно размера 3), где использовались веса для учета расстояния до центрального слова. Однако преимущество незначительное.\n",
    "\n",
    "Хуже всего справились эмеддинги на основе tf-idf. Возможно это связано с тем, что в отфильтрованном тексте остается множество мусорных слов (например, ники)\n"
   ]
  }
 ],
 "metadata": {
  "accelerator": "TPU",
  "colab": {
   "collapsed_sections": [],
   "machine_shape": "hm",
   "name": "02.[homework]embeddings.ipynb\"",
   "provenance": [],
   "toc_visible": true
  },
  "kernelspec": {
   "display_name": "Python 3",
   "language": "python",
   "name": "python3"
  },
  "language_info": {
   "codemirror_mode": {
    "name": "ipython",
    "version": 3
   },
   "file_extension": ".py",
   "mimetype": "text/x-python",
   "name": "python",
   "nbconvert_exporter": "python",
   "pygments_lexer": "ipython3",
   "version": "3.8.8"
  },
  "widgets": {
   "application/vnd.jupyter.widget-state+json": {
    "04ddb4d3d8344fa8a13eafbcdee411dd": {
     "model_module": "@jupyter-widgets/base",
     "model_module_version": "1.2.0",
     "model_name": "LayoutModel",
     "state": {
      "_model_module": "@jupyter-widgets/base",
      "_model_module_version": "1.2.0",
      "_model_name": "LayoutModel",
      "_view_count": null,
      "_view_module": "@jupyter-widgets/base",
      "_view_module_version": "1.2.0",
      "_view_name": "LayoutView",
      "align_content": null,
      "align_items": null,
      "align_self": null,
      "border": null,
      "bottom": null,
      "display": null,
      "flex": null,
      "flex_flow": null,
      "grid_area": null,
      "grid_auto_columns": null,
      "grid_auto_flow": null,
      "grid_auto_rows": null,
      "grid_column": null,
      "grid_gap": null,
      "grid_row": null,
      "grid_template_areas": null,
      "grid_template_columns": null,
      "grid_template_rows": null,
      "height": null,
      "justify_content": null,
      "justify_items": null,
      "left": null,
      "margin": null,
      "max_height": null,
      "max_width": null,
      "min_height": null,
      "min_width": null,
      "object_fit": null,
      "object_position": null,
      "order": null,
      "overflow": null,
      "overflow_x": null,
      "overflow_y": null,
      "padding": null,
      "right": null,
      "top": null,
      "visibility": null,
      "width": null
     }
    },
    "0c3b4852a09e4ac48f23386e4506d725": {
     "model_module": "@jupyter-widgets/controls",
     "model_module_version": "1.5.0",
     "model_name": "HTMLModel",
     "state": {
      "_dom_classes": [],
      "_model_module": "@jupyter-widgets/controls",
      "_model_module_version": "1.5.0",
      "_model_name": "HTMLModel",
      "_view_count": null,
      "_view_module": "@jupyter-widgets/controls",
      "_view_module_version": "1.5.0",
      "_view_name": "HTMLView",
      "description": "",
      "description_tooltip": null,
      "layout": "IPY_MODEL_66e504d118214582ab8dc589882cb2cf",
      "placeholder": "​",
      "style": "IPY_MODEL_761d88f1f7f44846baa7ab2565104958",
      "value": " 1000/1000 [19:51&lt;00:00,  1.10s/it]"
     }
    },
    "0ed5a0cf69964d41b3be0d26432cba31": {
     "model_module": "@jupyter-widgets/controls",
     "model_module_version": "1.5.0",
     "model_name": "HTMLModel",
     "state": {
      "_dom_classes": [],
      "_model_module": "@jupyter-widgets/controls",
      "_model_module_version": "1.5.0",
      "_model_name": "HTMLModel",
      "_view_count": null,
      "_view_module": "@jupyter-widgets/controls",
      "_view_module_version": "1.5.0",
      "_view_name": "HTMLView",
      "description": "",
      "description_tooltip": null,
      "layout": "IPY_MODEL_8c320d0f6c834e6580c4c649e2377a0e",
      "placeholder": "​",
      "style": "IPY_MODEL_c8a04a69fd0e4806a7c45b822163fd10",
      "value": "Epoch 1. Train Loss: 0.4938: 100%"
     }
    },
    "1079aeb894f7409abc86b3ae15735963": {
     "model_module": "@jupyter-widgets/base",
     "model_module_version": "1.2.0",
     "model_name": "LayoutModel",
     "state": {
      "_model_module": "@jupyter-widgets/base",
      "_model_module_version": "1.2.0",
      "_model_name": "LayoutModel",
      "_view_count": null,
      "_view_module": "@jupyter-widgets/base",
      "_view_module_version": "1.2.0",
      "_view_name": "LayoutView",
      "align_content": null,
      "align_items": null,
      "align_self": null,
      "border": null,
      "bottom": null,
      "display": null,
      "flex": null,
      "flex_flow": null,
      "grid_area": null,
      "grid_auto_columns": null,
      "grid_auto_flow": null,
      "grid_auto_rows": null,
      "grid_column": null,
      "grid_gap": null,
      "grid_row": null,
      "grid_template_areas": null,
      "grid_template_columns": null,
      "grid_template_rows": null,
      "height": null,
      "justify_content": null,
      "justify_items": null,
      "left": null,
      "margin": null,
      "max_height": null,
      "max_width": null,
      "min_height": null,
      "min_width": null,
      "object_fit": null,
      "object_position": null,
      "order": null,
      "overflow": null,
      "overflow_x": null,
      "overflow_y": null,
      "padding": null,
      "right": null,
      "top": null,
      "visibility": null,
      "width": null
     }
    },
    "12a133893f5b43aa8a83769bb5becaaa": {
     "model_module": "@jupyter-widgets/base",
     "model_module_version": "1.2.0",
     "model_name": "LayoutModel",
     "state": {
      "_model_module": "@jupyter-widgets/base",
      "_model_module_version": "1.2.0",
      "_model_name": "LayoutModel",
      "_view_count": null,
      "_view_module": "@jupyter-widgets/base",
      "_view_module_version": "1.2.0",
      "_view_name": "LayoutView",
      "align_content": null,
      "align_items": null,
      "align_self": null,
      "border": null,
      "bottom": null,
      "display": null,
      "flex": null,
      "flex_flow": null,
      "grid_area": null,
      "grid_auto_columns": null,
      "grid_auto_flow": null,
      "grid_auto_rows": null,
      "grid_column": null,
      "grid_gap": null,
      "grid_row": null,
      "grid_template_areas": null,
      "grid_template_columns": null,
      "grid_template_rows": null,
      "height": null,
      "justify_content": null,
      "justify_items": null,
      "left": null,
      "margin": null,
      "max_height": null,
      "max_width": null,
      "min_height": null,
      "min_width": null,
      "object_fit": null,
      "object_position": null,
      "order": null,
      "overflow": null,
      "overflow_x": null,
      "overflow_y": null,
      "padding": null,
      "right": null,
      "top": null,
      "visibility": null,
      "width": null
     }
    },
    "150c357439fb47f4a3c00932182827c0": {
     "model_module": "@jupyter-widgets/controls",
     "model_module_version": "1.5.0",
     "model_name": "DescriptionStyleModel",
     "state": {
      "_model_module": "@jupyter-widgets/controls",
      "_model_module_version": "1.5.0",
      "_model_name": "DescriptionStyleModel",
      "_view_count": null,
      "_view_module": "@jupyter-widgets/base",
      "_view_module_version": "1.2.0",
      "_view_name": "StyleView",
      "description_width": ""
     }
    },
    "17d62c0c729b4ee983c5c403ac3da122": {
     "model_module": "@jupyter-widgets/controls",
     "model_module_version": "1.5.0",
     "model_name": "HTMLModel",
     "state": {
      "_dom_classes": [],
      "_model_module": "@jupyter-widgets/controls",
      "_model_module_version": "1.5.0",
      "_model_name": "HTMLModel",
      "_view_count": null,
      "_view_module": "@jupyter-widgets/controls",
      "_view_module_version": "1.5.0",
      "_view_name": "HTMLView",
      "description": "",
      "description_tooltip": null,
      "layout": "IPY_MODEL_ea4a9bf120e7475f8baa57398fe5bafe",
      "placeholder": "​",
      "style": "IPY_MODEL_ec4be699f58e4202be86e128be7c847b",
      "value": "Epoch 1. Train Loss: 0.5145: 100%"
     }
    },
    "197d8716734849108c972dc2657ae002": {
     "model_module": "@jupyter-widgets/base",
     "model_module_version": "1.2.0",
     "model_name": "LayoutModel",
     "state": {
      "_model_module": "@jupyter-widgets/base",
      "_model_module_version": "1.2.0",
      "_model_name": "LayoutModel",
      "_view_count": null,
      "_view_module": "@jupyter-widgets/base",
      "_view_module_version": "1.2.0",
      "_view_name": "LayoutView",
      "align_content": null,
      "align_items": null,
      "align_self": null,
      "border": null,
      "bottom": null,
      "display": null,
      "flex": null,
      "flex_flow": null,
      "grid_area": null,
      "grid_auto_columns": null,
      "grid_auto_flow": null,
      "grid_auto_rows": null,
      "grid_column": null,
      "grid_gap": null,
      "grid_row": null,
      "grid_template_areas": null,
      "grid_template_columns": null,
      "grid_template_rows": null,
      "height": null,
      "justify_content": null,
      "justify_items": null,
      "left": null,
      "margin": null,
      "max_height": null,
      "max_width": null,
      "min_height": null,
      "min_width": null,
      "object_fit": null,
      "object_position": null,
      "order": null,
      "overflow": null,
      "overflow_x": null,
      "overflow_y": null,
      "padding": null,
      "right": null,
      "top": null,
      "visibility": null,
      "width": null
     }
    },
    "1b1ab9017fb24f4b988605b08be74325": {
     "model_module": "@jupyter-widgets/base",
     "model_module_version": "1.2.0",
     "model_name": "LayoutModel",
     "state": {
      "_model_module": "@jupyter-widgets/base",
      "_model_module_version": "1.2.0",
      "_model_name": "LayoutModel",
      "_view_count": null,
      "_view_module": "@jupyter-widgets/base",
      "_view_module_version": "1.2.0",
      "_view_name": "LayoutView",
      "align_content": null,
      "align_items": null,
      "align_self": null,
      "border": null,
      "bottom": null,
      "display": null,
      "flex": null,
      "flex_flow": null,
      "grid_area": null,
      "grid_auto_columns": null,
      "grid_auto_flow": null,
      "grid_auto_rows": null,
      "grid_column": null,
      "grid_gap": null,
      "grid_row": null,
      "grid_template_areas": null,
      "grid_template_columns": null,
      "grid_template_rows": null,
      "height": null,
      "justify_content": null,
      "justify_items": null,
      "left": null,
      "margin": null,
      "max_height": null,
      "max_width": null,
      "min_height": null,
      "min_width": null,
      "object_fit": null,
      "object_position": null,
      "order": null,
      "overflow": null,
      "overflow_x": null,
      "overflow_y": null,
      "padding": null,
      "right": null,
      "top": null,
      "visibility": null,
      "width": null
     }
    },
    "1b6210e058584f3b9d6b01388a0e0b1e": {
     "model_module": "@jupyter-widgets/base",
     "model_module_version": "1.2.0",
     "model_name": "LayoutModel",
     "state": {
      "_model_module": "@jupyter-widgets/base",
      "_model_module_version": "1.2.0",
      "_model_name": "LayoutModel",
      "_view_count": null,
      "_view_module": "@jupyter-widgets/base",
      "_view_module_version": "1.2.0",
      "_view_name": "LayoutView",
      "align_content": null,
      "align_items": null,
      "align_self": null,
      "border": null,
      "bottom": null,
      "display": null,
      "flex": null,
      "flex_flow": null,
      "grid_area": null,
      "grid_auto_columns": null,
      "grid_auto_flow": null,
      "grid_auto_rows": null,
      "grid_column": null,
      "grid_gap": null,
      "grid_row": null,
      "grid_template_areas": null,
      "grid_template_columns": null,
      "grid_template_rows": null,
      "height": null,
      "justify_content": null,
      "justify_items": null,
      "left": null,
      "margin": null,
      "max_height": null,
      "max_width": null,
      "min_height": null,
      "min_width": null,
      "object_fit": null,
      "object_position": null,
      "order": null,
      "overflow": null,
      "overflow_x": null,
      "overflow_y": null,
      "padding": null,
      "right": null,
      "top": null,
      "visibility": null,
      "width": null
     }
    },
    "20ae3ad7a6a042358857cf7c51185a89": {
     "model_module": "@jupyter-widgets/base",
     "model_module_version": "1.2.0",
     "model_name": "LayoutModel",
     "state": {
      "_model_module": "@jupyter-widgets/base",
      "_model_module_version": "1.2.0",
      "_model_name": "LayoutModel",
      "_view_count": null,
      "_view_module": "@jupyter-widgets/base",
      "_view_module_version": "1.2.0",
      "_view_name": "LayoutView",
      "align_content": null,
      "align_items": null,
      "align_self": null,
      "border": null,
      "bottom": null,
      "display": null,
      "flex": null,
      "flex_flow": null,
      "grid_area": null,
      "grid_auto_columns": null,
      "grid_auto_flow": null,
      "grid_auto_rows": null,
      "grid_column": null,
      "grid_gap": null,
      "grid_row": null,
      "grid_template_areas": null,
      "grid_template_columns": null,
      "grid_template_rows": null,
      "height": null,
      "justify_content": null,
      "justify_items": null,
      "left": null,
      "margin": null,
      "max_height": null,
      "max_width": null,
      "min_height": null,
      "min_width": null,
      "object_fit": null,
      "object_position": null,
      "order": null,
      "overflow": null,
      "overflow_x": null,
      "overflow_y": null,
      "padding": null,
      "right": null,
      "top": null,
      "visibility": null,
      "width": null
     }
    },
    "24675f9df94b441ba1542c43612a0a39": {
     "model_module": "@jupyter-widgets/controls",
     "model_module_version": "1.5.0",
     "model_name": "DescriptionStyleModel",
     "state": {
      "_model_module": "@jupyter-widgets/controls",
      "_model_module_version": "1.5.0",
      "_model_name": "DescriptionStyleModel",
      "_view_count": null,
      "_view_module": "@jupyter-widgets/base",
      "_view_module_version": "1.2.0",
      "_view_name": "StyleView",
      "description_width": ""
     }
    },
    "24b6658b868f4f26b5b9fb22c68f82a1": {
     "model_module": "@jupyter-widgets/controls",
     "model_module_version": "1.5.0",
     "model_name": "HTMLModel",
     "state": {
      "_dom_classes": [],
      "_model_module": "@jupyter-widgets/controls",
      "_model_module_version": "1.5.0",
      "_model_name": "HTMLModel",
      "_view_count": null,
      "_view_module": "@jupyter-widgets/controls",
      "_view_module_version": "1.5.0",
      "_view_name": "HTMLView",
      "description": "",
      "description_tooltip": null,
      "layout": "IPY_MODEL_de633b84dd5a47d9ae6071bebc9b5e6e",
      "placeholder": "​",
      "style": "IPY_MODEL_ad0247ffbc904504b0fe1b3172453269",
      "value": " 313/313 [06:10&lt;00:00,  1.02it/s]"
     }
    },
    "27c0bb1ee4264cfd9e1c6696d88a2038": {
     "model_module": "@jupyter-widgets/controls",
     "model_module_version": "1.5.0",
     "model_name": "DescriptionStyleModel",
     "state": {
      "_model_module": "@jupyter-widgets/controls",
      "_model_module_version": "1.5.0",
      "_model_name": "DescriptionStyleModel",
      "_view_count": null,
      "_view_module": "@jupyter-widgets/base",
      "_view_module_version": "1.2.0",
      "_view_name": "StyleView",
      "description_width": ""
     }
    },
    "2aa27b6699504a7dbda39c1e4ca9790a": {
     "model_module": "@jupyter-widgets/base",
     "model_module_version": "1.2.0",
     "model_name": "LayoutModel",
     "state": {
      "_model_module": "@jupyter-widgets/base",
      "_model_module_version": "1.2.0",
      "_model_name": "LayoutModel",
      "_view_count": null,
      "_view_module": "@jupyter-widgets/base",
      "_view_module_version": "1.2.0",
      "_view_name": "LayoutView",
      "align_content": null,
      "align_items": null,
      "align_self": null,
      "border": null,
      "bottom": null,
      "display": null,
      "flex": null,
      "flex_flow": null,
      "grid_area": null,
      "grid_auto_columns": null,
      "grid_auto_flow": null,
      "grid_auto_rows": null,
      "grid_column": null,
      "grid_gap": null,
      "grid_row": null,
      "grid_template_areas": null,
      "grid_template_columns": null,
      "grid_template_rows": null,
      "height": null,
      "justify_content": null,
      "justify_items": null,
      "left": null,
      "margin": null,
      "max_height": null,
      "max_width": null,
      "min_height": null,
      "min_width": null,
      "object_fit": null,
      "object_position": null,
      "order": null,
      "overflow": null,
      "overflow_x": null,
      "overflow_y": null,
      "padding": null,
      "right": null,
      "top": null,
      "visibility": null,
      "width": null
     }
    },
    "3097a3cae68845d39d18ed174baeafc7": {
     "model_module": "@jupyter-widgets/base",
     "model_module_version": "1.2.0",
     "model_name": "LayoutModel",
     "state": {
      "_model_module": "@jupyter-widgets/base",
      "_model_module_version": "1.2.0",
      "_model_name": "LayoutModel",
      "_view_count": null,
      "_view_module": "@jupyter-widgets/base",
      "_view_module_version": "1.2.0",
      "_view_name": "LayoutView",
      "align_content": null,
      "align_items": null,
      "align_self": null,
      "border": null,
      "bottom": null,
      "display": null,
      "flex": null,
      "flex_flow": null,
      "grid_area": null,
      "grid_auto_columns": null,
      "grid_auto_flow": null,
      "grid_auto_rows": null,
      "grid_column": null,
      "grid_gap": null,
      "grid_row": null,
      "grid_template_areas": null,
      "grid_template_columns": null,
      "grid_template_rows": null,
      "height": null,
      "justify_content": null,
      "justify_items": null,
      "left": null,
      "margin": null,
      "max_height": null,
      "max_width": null,
      "min_height": null,
      "min_width": null,
      "object_fit": null,
      "object_position": null,
      "order": null,
      "overflow": null,
      "overflow_x": null,
      "overflow_y": null,
      "padding": null,
      "right": null,
      "top": null,
      "visibility": null,
      "width": null
     }
    },
    "316acc275b2e406fb673538c1ed8266e": {
     "model_module": "@jupyter-widgets/controls",
     "model_module_version": "1.5.0",
     "model_name": "HTMLModel",
     "state": {
      "_dom_classes": [],
      "_model_module": "@jupyter-widgets/controls",
      "_model_module_version": "1.5.0",
      "_model_name": "HTMLModel",
      "_view_count": null,
      "_view_module": "@jupyter-widgets/controls",
      "_view_module_version": "1.5.0",
      "_view_name": "HTMLView",
      "description": "",
      "description_tooltip": null,
      "layout": "IPY_MODEL_d62edf201dd04641b1a121827300b88c",
      "placeholder": "​",
      "style": "IPY_MODEL_698e8d61f45d4ccf85cfd3976edb371d",
      "value": "Epoch 1. Train Loss: 0.4862: 100%"
     }
    },
    "3613e521d2934e1d9e61161ca6c7e61f": {
     "model_module": "@jupyter-widgets/base",
     "model_module_version": "1.2.0",
     "model_name": "LayoutModel",
     "state": {
      "_model_module": "@jupyter-widgets/base",
      "_model_module_version": "1.2.0",
      "_model_name": "LayoutModel",
      "_view_count": null,
      "_view_module": "@jupyter-widgets/base",
      "_view_module_version": "1.2.0",
      "_view_name": "LayoutView",
      "align_content": null,
      "align_items": null,
      "align_self": null,
      "border": null,
      "bottom": null,
      "display": null,
      "flex": null,
      "flex_flow": null,
      "grid_area": null,
      "grid_auto_columns": null,
      "grid_auto_flow": null,
      "grid_auto_rows": null,
      "grid_column": null,
      "grid_gap": null,
      "grid_row": null,
      "grid_template_areas": null,
      "grid_template_columns": null,
      "grid_template_rows": null,
      "height": null,
      "justify_content": null,
      "justify_items": null,
      "left": null,
      "margin": null,
      "max_height": null,
      "max_width": null,
      "min_height": null,
      "min_width": null,
      "object_fit": null,
      "object_position": null,
      "order": null,
      "overflow": null,
      "overflow_x": null,
      "overflow_y": null,
      "padding": null,
      "right": null,
      "top": null,
      "visibility": null,
      "width": null
     }
    },
    "3674d90918f8489baecf9fea89c0ced1": {
     "model_module": "@jupyter-widgets/controls",
     "model_module_version": "1.5.0",
     "model_name": "HBoxModel",
     "state": {
      "_dom_classes": [],
      "_model_module": "@jupyter-widgets/controls",
      "_model_module_version": "1.5.0",
      "_model_name": "HBoxModel",
      "_view_count": null,
      "_view_module": "@jupyter-widgets/controls",
      "_view_module_version": "1.5.0",
      "_view_name": "HBoxView",
      "box_style": "",
      "children": [
       "IPY_MODEL_4f041fac0d554639a7ad5ef6454955ef",
       "IPY_MODEL_8fcab32bc484460eaa23ec1872f52316",
       "IPY_MODEL_24b6658b868f4f26b5b9fb22c68f82a1"
      ],
      "layout": "IPY_MODEL_1b1ab9017fb24f4b988605b08be74325"
     }
    },
    "37ed1632c4354feaa427c6839573b3e5": {
     "model_module": "@jupyter-widgets/controls",
     "model_module_version": "1.5.0",
     "model_name": "FloatProgressModel",
     "state": {
      "_dom_classes": [],
      "_model_module": "@jupyter-widgets/controls",
      "_model_module_version": "1.5.0",
      "_model_name": "FloatProgressModel",
      "_view_count": null,
      "_view_module": "@jupyter-widgets/controls",
      "_view_module_version": "1.5.0",
      "_view_name": "ProgressView",
      "bar_style": "success",
      "description": "",
      "description_tooltip": null,
      "layout": "IPY_MODEL_b8f4412105694f8d9b1b3cbca64dd3b6",
      "max": 313,
      "min": 0,
      "orientation": "horizontal",
      "style": "IPY_MODEL_7ec58b8ac36f4d5f9ece073eaa28f818",
      "value": 313
     }
    },
    "3925107685c24c34bdbec61bf61152dd": {
     "model_module": "@jupyter-widgets/base",
     "model_module_version": "1.2.0",
     "model_name": "LayoutModel",
     "state": {
      "_model_module": "@jupyter-widgets/base",
      "_model_module_version": "1.2.0",
      "_model_name": "LayoutModel",
      "_view_count": null,
      "_view_module": "@jupyter-widgets/base",
      "_view_module_version": "1.2.0",
      "_view_name": "LayoutView",
      "align_content": null,
      "align_items": null,
      "align_self": null,
      "border": null,
      "bottom": null,
      "display": null,
      "flex": null,
      "flex_flow": null,
      "grid_area": null,
      "grid_auto_columns": null,
      "grid_auto_flow": null,
      "grid_auto_rows": null,
      "grid_column": null,
      "grid_gap": null,
      "grid_row": null,
      "grid_template_areas": null,
      "grid_template_columns": null,
      "grid_template_rows": null,
      "height": null,
      "justify_content": null,
      "justify_items": null,
      "left": null,
      "margin": null,
      "max_height": null,
      "max_width": null,
      "min_height": null,
      "min_width": null,
      "object_fit": null,
      "object_position": null,
      "order": null,
      "overflow": null,
      "overflow_x": null,
      "overflow_y": null,
      "padding": null,
      "right": null,
      "top": null,
      "visibility": null,
      "width": null
     }
    },
    "3c3a8f94b6764a7caf88a5acd99a003d": {
     "model_module": "@jupyter-widgets/controls",
     "model_module_version": "1.5.0",
     "model_name": "FloatProgressModel",
     "state": {
      "_dom_classes": [],
      "_model_module": "@jupyter-widgets/controls",
      "_model_module_version": "1.5.0",
      "_model_name": "FloatProgressModel",
      "_view_count": null,
      "_view_module": "@jupyter-widgets/controls",
      "_view_module_version": "1.5.0",
      "_view_name": "ProgressView",
      "bar_style": "success",
      "description": "",
      "description_tooltip": null,
      "layout": "IPY_MODEL_1b6210e058584f3b9d6b01388a0e0b1e",
      "max": 313,
      "min": 0,
      "orientation": "horizontal",
      "style": "IPY_MODEL_769163b78a034fef832c2b844b9bf0fa",
      "value": 313
     }
    },
    "3d40e24fc5fc486e8e750dcb45e8647c": {
     "model_module": "@jupyter-widgets/base",
     "model_module_version": "1.2.0",
     "model_name": "LayoutModel",
     "state": {
      "_model_module": "@jupyter-widgets/base",
      "_model_module_version": "1.2.0",
      "_model_name": "LayoutModel",
      "_view_count": null,
      "_view_module": "@jupyter-widgets/base",
      "_view_module_version": "1.2.0",
      "_view_name": "LayoutView",
      "align_content": null,
      "align_items": null,
      "align_self": null,
      "border": null,
      "bottom": null,
      "display": null,
      "flex": null,
      "flex_flow": null,
      "grid_area": null,
      "grid_auto_columns": null,
      "grid_auto_flow": null,
      "grid_auto_rows": null,
      "grid_column": null,
      "grid_gap": null,
      "grid_row": null,
      "grid_template_areas": null,
      "grid_template_columns": null,
      "grid_template_rows": null,
      "height": null,
      "justify_content": null,
      "justify_items": null,
      "left": null,
      "margin": null,
      "max_height": null,
      "max_width": null,
      "min_height": null,
      "min_width": null,
      "object_fit": null,
      "object_position": null,
      "order": null,
      "overflow": null,
      "overflow_x": null,
      "overflow_y": null,
      "padding": null,
      "right": null,
      "top": null,
      "visibility": null,
      "width": null
     }
    },
    "424268416d0845f4b3cd34005847deea": {
     "model_module": "@jupyter-widgets/controls",
     "model_module_version": "1.5.0",
     "model_name": "DescriptionStyleModel",
     "state": {
      "_model_module": "@jupyter-widgets/controls",
      "_model_module_version": "1.5.0",
      "_model_name": "DescriptionStyleModel",
      "_view_count": null,
      "_view_module": "@jupyter-widgets/base",
      "_view_module_version": "1.2.0",
      "_view_name": "StyleView",
      "description_width": ""
     }
    },
    "42ef0ec508594e1bbe0cf7d6635c40d9": {
     "model_module": "@jupyter-widgets/base",
     "model_module_version": "1.2.0",
     "model_name": "LayoutModel",
     "state": {
      "_model_module": "@jupyter-widgets/base",
      "_model_module_version": "1.2.0",
      "_model_name": "LayoutModel",
      "_view_count": null,
      "_view_module": "@jupyter-widgets/base",
      "_view_module_version": "1.2.0",
      "_view_name": "LayoutView",
      "align_content": null,
      "align_items": null,
      "align_self": null,
      "border": null,
      "bottom": null,
      "display": null,
      "flex": null,
      "flex_flow": null,
      "grid_area": null,
      "grid_auto_columns": null,
      "grid_auto_flow": null,
      "grid_auto_rows": null,
      "grid_column": null,
      "grid_gap": null,
      "grid_row": null,
      "grid_template_areas": null,
      "grid_template_columns": null,
      "grid_template_rows": null,
      "height": null,
      "justify_content": null,
      "justify_items": null,
      "left": null,
      "margin": null,
      "max_height": null,
      "max_width": null,
      "min_height": null,
      "min_width": null,
      "object_fit": null,
      "object_position": null,
      "order": null,
      "overflow": null,
      "overflow_x": null,
      "overflow_y": null,
      "padding": null,
      "right": null,
      "top": null,
      "visibility": null,
      "width": null
     }
    },
    "44a4a43b6ffe4c7c994e5a2abd4f04fe": {
     "model_module": "@jupyter-widgets/controls",
     "model_module_version": "1.5.0",
     "model_name": "FloatProgressModel",
     "state": {
      "_dom_classes": [],
      "_model_module": "@jupyter-widgets/controls",
      "_model_module_version": "1.5.0",
      "_model_name": "FloatProgressModel",
      "_view_count": null,
      "_view_module": "@jupyter-widgets/controls",
      "_view_module_version": "1.5.0",
      "_view_name": "ProgressView",
      "bar_style": "success",
      "description": "",
      "description_tooltip": null,
      "layout": "IPY_MODEL_c981d85e175445e798bad313b6977656",
      "max": 1000,
      "min": 0,
      "orientation": "horizontal",
      "style": "IPY_MODEL_787851357e4d4487bfcc64d1b218f6ad",
      "value": 1000
     }
    },
    "44b029a072b74b39badab7d49c7f8528": {
     "model_module": "@jupyter-widgets/controls",
     "model_module_version": "1.5.0",
     "model_name": "HTMLModel",
     "state": {
      "_dom_classes": [],
      "_model_module": "@jupyter-widgets/controls",
      "_model_module_version": "1.5.0",
      "_model_name": "HTMLModel",
      "_view_count": null,
      "_view_module": "@jupyter-widgets/controls",
      "_view_module_version": "1.5.0",
      "_view_name": "HTMLView",
      "description": "",
      "description_tooltip": null,
      "layout": "IPY_MODEL_68d08e19d040442c8d0068e67b6b63ad",
      "placeholder": "​",
      "style": "IPY_MODEL_45d4337635274323a18ae2fb8ae44b14",
      "value": " 313/313 [00:21&lt;00:00, 15.60it/s]"
     }
    },
    "45d4337635274323a18ae2fb8ae44b14": {
     "model_module": "@jupyter-widgets/controls",
     "model_module_version": "1.5.0",
     "model_name": "DescriptionStyleModel",
     "state": {
      "_model_module": "@jupyter-widgets/controls",
      "_model_module_version": "1.5.0",
      "_model_name": "DescriptionStyleModel",
      "_view_count": null,
      "_view_module": "@jupyter-widgets/base",
      "_view_module_version": "1.2.0",
      "_view_name": "StyleView",
      "description_width": ""
     }
    },
    "46765f10bfbc4875af043a429362770f": {
     "model_module": "@jupyter-widgets/controls",
     "model_module_version": "1.5.0",
     "model_name": "DescriptionStyleModel",
     "state": {
      "_model_module": "@jupyter-widgets/controls",
      "_model_module_version": "1.5.0",
      "_model_name": "DescriptionStyleModel",
      "_view_count": null,
      "_view_module": "@jupyter-widgets/base",
      "_view_module_version": "1.2.0",
      "_view_name": "StyleView",
      "description_width": ""
     }
    },
    "46e0698ecf80410c9fa6e87c1809a739": {
     "model_module": "@jupyter-widgets/base",
     "model_module_version": "1.2.0",
     "model_name": "LayoutModel",
     "state": {
      "_model_module": "@jupyter-widgets/base",
      "_model_module_version": "1.2.0",
      "_model_name": "LayoutModel",
      "_view_count": null,
      "_view_module": "@jupyter-widgets/base",
      "_view_module_version": "1.2.0",
      "_view_name": "LayoutView",
      "align_content": null,
      "align_items": null,
      "align_self": null,
      "border": null,
      "bottom": null,
      "display": null,
      "flex": null,
      "flex_flow": null,
      "grid_area": null,
      "grid_auto_columns": null,
      "grid_auto_flow": null,
      "grid_auto_rows": null,
      "grid_column": null,
      "grid_gap": null,
      "grid_row": null,
      "grid_template_areas": null,
      "grid_template_columns": null,
      "grid_template_rows": null,
      "height": null,
      "justify_content": null,
      "justify_items": null,
      "left": null,
      "margin": null,
      "max_height": null,
      "max_width": null,
      "min_height": null,
      "min_width": null,
      "object_fit": null,
      "object_position": null,
      "order": null,
      "overflow": null,
      "overflow_x": null,
      "overflow_y": null,
      "padding": null,
      "right": null,
      "top": null,
      "visibility": null,
      "width": null
     }
    },
    "4adac241e7b1413090cc5811232b28c7": {
     "model_module": "@jupyter-widgets/controls",
     "model_module_version": "1.5.0",
     "model_name": "HTMLModel",
     "state": {
      "_dom_classes": [],
      "_model_module": "@jupyter-widgets/controls",
      "_model_module_version": "1.5.0",
      "_model_name": "HTMLModel",
      "_view_count": null,
      "_view_module": "@jupyter-widgets/controls",
      "_view_module_version": "1.5.0",
      "_view_name": "HTMLView",
      "description": "",
      "description_tooltip": null,
      "layout": "IPY_MODEL_04ddb4d3d8344fa8a13eafbcdee411dd",
      "placeholder": "​",
      "style": "IPY_MODEL_daf946ec65b3452f8f4d8a8c5943f4ea",
      "value": " 1000/1000 [24:55&lt;00:00,  1.67s/it]"
     }
    },
    "4f041fac0d554639a7ad5ef6454955ef": {
     "model_module": "@jupyter-widgets/controls",
     "model_module_version": "1.5.0",
     "model_name": "HTMLModel",
     "state": {
      "_dom_classes": [],
      "_model_module": "@jupyter-widgets/controls",
      "_model_module_version": "1.5.0",
      "_model_name": "HTMLModel",
      "_view_count": null,
      "_view_module": "@jupyter-widgets/controls",
      "_view_module_version": "1.5.0",
      "_view_name": "HTMLView",
      "description": "",
      "description_tooltip": null,
      "layout": "IPY_MODEL_7ccfe1fcf4b14039a941bf4816c5c38d",
      "placeholder": "​",
      "style": "IPY_MODEL_46765f10bfbc4875af043a429362770f",
      "value": "Test Loss: 0.548, Test Acc: 0.7188: 100%"
     }
    },
    "4f5c55c73ea3439696ef542395a747c4": {
     "model_module": "@jupyter-widgets/controls",
     "model_module_version": "1.5.0",
     "model_name": "FloatProgressModel",
     "state": {
      "_dom_classes": [],
      "_model_module": "@jupyter-widgets/controls",
      "_model_module_version": "1.5.0",
      "_model_name": "FloatProgressModel",
      "_view_count": null,
      "_view_module": "@jupyter-widgets/controls",
      "_view_module_version": "1.5.0",
      "_view_name": "ProgressView",
      "bar_style": "success",
      "description": "",
      "description_tooltip": null,
      "layout": "IPY_MODEL_6ec1e1264e4a41e695b5cc27773a287e",
      "max": 313,
      "min": 0,
      "orientation": "horizontal",
      "style": "IPY_MODEL_899011f44dc1417994e427e440bf8535",
      "value": 313
     }
    },
    "50c74d88221648cd86d84c5ca5c12126": {
     "model_module": "@jupyter-widgets/controls",
     "model_module_version": "1.5.0",
     "model_name": "HTMLModel",
     "state": {
      "_dom_classes": [],
      "_model_module": "@jupyter-widgets/controls",
      "_model_module_version": "1.5.0",
      "_model_name": "HTMLModel",
      "_view_count": null,
      "_view_module": "@jupyter-widgets/controls",
      "_view_module_version": "1.5.0",
      "_view_name": "HTMLView",
      "description": "",
      "description_tooltip": null,
      "layout": "IPY_MODEL_9ca3df38ff344d05bdd70015a39041ab",
      "placeholder": "​",
      "style": "IPY_MODEL_27c0bb1ee4264cfd9e1c6696d88a2038",
      "value": "Test Loss: 0.5322, Test Acc: 0.709: 100%"
     }
    },
    "540d03aa4fbd4af1aeff13104dcd27d6": {
     "model_module": "@jupyter-widgets/controls",
     "model_module_version": "1.5.0",
     "model_name": "HBoxModel",
     "state": {
      "_dom_classes": [],
      "_model_module": "@jupyter-widgets/controls",
      "_model_module_version": "1.5.0",
      "_model_name": "HBoxModel",
      "_view_count": null,
      "_view_module": "@jupyter-widgets/controls",
      "_view_module_version": "1.5.0",
      "_view_name": "HBoxView",
      "box_style": "",
      "children": [
       "IPY_MODEL_f6fa7717844148968ceab7cc36f07c5c",
       "IPY_MODEL_5654f22ec3e7466b9b9596ba52fb46a0",
       "IPY_MODEL_78f2096839af41be8a15f774b3981db3"
      ],
      "layout": "IPY_MODEL_daf10f89887947278cfc93a795fa2fa8"
     }
    },
    "5510b2ce8b9e4ae18eafccc3c3c3aa68": {
     "model_module": "@jupyter-widgets/controls",
     "model_module_version": "1.5.0",
     "model_name": "HBoxModel",
     "state": {
      "_dom_classes": [],
      "_model_module": "@jupyter-widgets/controls",
      "_model_module_version": "1.5.0",
      "_model_name": "HBoxModel",
      "_view_count": null,
      "_view_module": "@jupyter-widgets/controls",
      "_view_module_version": "1.5.0",
      "_view_name": "HBoxView",
      "box_style": "",
      "children": [
       "IPY_MODEL_0ed5a0cf69964d41b3be0d26432cba31",
       "IPY_MODEL_baaa52cad4e54502b3efe7ccfe4825ea",
       "IPY_MODEL_69f70f8f76e941b3b1cdac6881d27e3f"
      ],
      "layout": "IPY_MODEL_b86cf3a6f85849a8b6323c7663c88aed"
     }
    },
    "55464804bc4749ecbbbfc372ece89298": {
     "model_module": "@jupyter-widgets/base",
     "model_module_version": "1.2.0",
     "model_name": "LayoutModel",
     "state": {
      "_model_module": "@jupyter-widgets/base",
      "_model_module_version": "1.2.0",
      "_model_name": "LayoutModel",
      "_view_count": null,
      "_view_module": "@jupyter-widgets/base",
      "_view_module_version": "1.2.0",
      "_view_name": "LayoutView",
      "align_content": null,
      "align_items": null,
      "align_self": null,
      "border": null,
      "bottom": null,
      "display": null,
      "flex": null,
      "flex_flow": null,
      "grid_area": null,
      "grid_auto_columns": null,
      "grid_auto_flow": null,
      "grid_auto_rows": null,
      "grid_column": null,
      "grid_gap": null,
      "grid_row": null,
      "grid_template_areas": null,
      "grid_template_columns": null,
      "grid_template_rows": null,
      "height": null,
      "justify_content": null,
      "justify_items": null,
      "left": null,
      "margin": null,
      "max_height": null,
      "max_width": null,
      "min_height": null,
      "min_width": null,
      "object_fit": null,
      "object_position": null,
      "order": null,
      "overflow": null,
      "overflow_x": null,
      "overflow_y": null,
      "padding": null,
      "right": null,
      "top": null,
      "visibility": null,
      "width": null
     }
    },
    "5654f22ec3e7466b9b9596ba52fb46a0": {
     "model_module": "@jupyter-widgets/controls",
     "model_module_version": "1.5.0",
     "model_name": "FloatProgressModel",
     "state": {
      "_dom_classes": [],
      "_model_module": "@jupyter-widgets/controls",
      "_model_module_version": "1.5.0",
      "_model_name": "FloatProgressModel",
      "_view_count": null,
      "_view_module": "@jupyter-widgets/controls",
      "_view_module_version": "1.5.0",
      "_view_name": "ProgressView",
      "bar_style": "success",
      "description": "",
      "description_tooltip": null,
      "layout": "IPY_MODEL_3925107685c24c34bdbec61bf61152dd",
      "max": 1000,
      "min": 0,
      "orientation": "horizontal",
      "style": "IPY_MODEL_e53c0c9dbf874d83a84e6bf37a7dfa82",
      "value": 1000
     }
    },
    "59a4d4300aa141669a877f90576dca34": {
     "model_module": "@jupyter-widgets/controls",
     "model_module_version": "1.5.0",
     "model_name": "HBoxModel",
     "state": {
      "_dom_classes": [],
      "_model_module": "@jupyter-widgets/controls",
      "_model_module_version": "1.5.0",
      "_model_name": "HBoxModel",
      "_view_count": null,
      "_view_module": "@jupyter-widgets/controls",
      "_view_module_version": "1.5.0",
      "_view_name": "HBoxView",
      "box_style": "",
      "children": [
       "IPY_MODEL_f2595b4e82d349ad908cc676130e03ed",
       "IPY_MODEL_44a4a43b6ffe4c7c994e5a2abd4f04fe",
       "IPY_MODEL_4adac241e7b1413090cc5811232b28c7"
      ],
      "layout": "IPY_MODEL_cfb2cc651caa4efcbc18092c8e3de4a4"
     }
    },
    "5be62d3b6ac8454297f1e6d4d3eb4425": {
     "model_module": "@jupyter-widgets/controls",
     "model_module_version": "1.5.0",
     "model_name": "ProgressStyleModel",
     "state": {
      "_model_module": "@jupyter-widgets/controls",
      "_model_module_version": "1.5.0",
      "_model_name": "ProgressStyleModel",
      "_view_count": null,
      "_view_module": "@jupyter-widgets/base",
      "_view_module_version": "1.2.0",
      "_view_name": "StyleView",
      "bar_color": null,
      "description_width": ""
     }
    },
    "61169dded5a541ddb7027ae6f659f8cb": {
     "model_module": "@jupyter-widgets/controls",
     "model_module_version": "1.5.0",
     "model_name": "ProgressStyleModel",
     "state": {
      "_model_module": "@jupyter-widgets/controls",
      "_model_module_version": "1.5.0",
      "_model_name": "ProgressStyleModel",
      "_view_count": null,
      "_view_module": "@jupyter-widgets/base",
      "_view_module_version": "1.2.0",
      "_view_name": "StyleView",
      "bar_color": null,
      "description_width": ""
     }
    },
    "66e504d118214582ab8dc589882cb2cf": {
     "model_module": "@jupyter-widgets/base",
     "model_module_version": "1.2.0",
     "model_name": "LayoutModel",
     "state": {
      "_model_module": "@jupyter-widgets/base",
      "_model_module_version": "1.2.0",
      "_model_name": "LayoutModel",
      "_view_count": null,
      "_view_module": "@jupyter-widgets/base",
      "_view_module_version": "1.2.0",
      "_view_name": "LayoutView",
      "align_content": null,
      "align_items": null,
      "align_self": null,
      "border": null,
      "bottom": null,
      "display": null,
      "flex": null,
      "flex_flow": null,
      "grid_area": null,
      "grid_auto_columns": null,
      "grid_auto_flow": null,
      "grid_auto_rows": null,
      "grid_column": null,
      "grid_gap": null,
      "grid_row": null,
      "grid_template_areas": null,
      "grid_template_columns": null,
      "grid_template_rows": null,
      "height": null,
      "justify_content": null,
      "justify_items": null,
      "left": null,
      "margin": null,
      "max_height": null,
      "max_width": null,
      "min_height": null,
      "min_width": null,
      "object_fit": null,
      "object_position": null,
      "order": null,
      "overflow": null,
      "overflow_x": null,
      "overflow_y": null,
      "padding": null,
      "right": null,
      "top": null,
      "visibility": null,
      "width": null
     }
    },
    "68d08e19d040442c8d0068e67b6b63ad": {
     "model_module": "@jupyter-widgets/base",
     "model_module_version": "1.2.0",
     "model_name": "LayoutModel",
     "state": {
      "_model_module": "@jupyter-widgets/base",
      "_model_module_version": "1.2.0",
      "_model_name": "LayoutModel",
      "_view_count": null,
      "_view_module": "@jupyter-widgets/base",
      "_view_module_version": "1.2.0",
      "_view_name": "LayoutView",
      "align_content": null,
      "align_items": null,
      "align_self": null,
      "border": null,
      "bottom": null,
      "display": null,
      "flex": null,
      "flex_flow": null,
      "grid_area": null,
      "grid_auto_columns": null,
      "grid_auto_flow": null,
      "grid_auto_rows": null,
      "grid_column": null,
      "grid_gap": null,
      "grid_row": null,
      "grid_template_areas": null,
      "grid_template_columns": null,
      "grid_template_rows": null,
      "height": null,
      "justify_content": null,
      "justify_items": null,
      "left": null,
      "margin": null,
      "max_height": null,
      "max_width": null,
      "min_height": null,
      "min_width": null,
      "object_fit": null,
      "object_position": null,
      "order": null,
      "overflow": null,
      "overflow_x": null,
      "overflow_y": null,
      "padding": null,
      "right": null,
      "top": null,
      "visibility": null,
      "width": null
     }
    },
    "698e8d61f45d4ccf85cfd3976edb371d": {
     "model_module": "@jupyter-widgets/controls",
     "model_module_version": "1.5.0",
     "model_name": "DescriptionStyleModel",
     "state": {
      "_model_module": "@jupyter-widgets/controls",
      "_model_module_version": "1.5.0",
      "_model_name": "DescriptionStyleModel",
      "_view_count": null,
      "_view_module": "@jupyter-widgets/base",
      "_view_module_version": "1.2.0",
      "_view_name": "StyleView",
      "description_width": ""
     }
    },
    "69f70f8f76e941b3b1cdac6881d27e3f": {
     "model_module": "@jupyter-widgets/controls",
     "model_module_version": "1.5.0",
     "model_name": "HTMLModel",
     "state": {
      "_dom_classes": [],
      "_model_module": "@jupyter-widgets/controls",
      "_model_module_version": "1.5.0",
      "_model_name": "HTMLModel",
      "_view_count": null,
      "_view_module": "@jupyter-widgets/controls",
      "_view_module_version": "1.5.0",
      "_view_name": "HTMLView",
      "description": "",
      "description_tooltip": null,
      "layout": "IPY_MODEL_55464804bc4749ecbbbfc372ece89298",
      "placeholder": "​",
      "style": "IPY_MODEL_fcceba9083594598b775e7829e8cda4b",
      "value": " 1000/1000 [01:06&lt;00:00, 15.71it/s]"
     }
    },
    "6bee350ef3bd405d9072d4a1f85162f1": {
     "model_module": "@jupyter-widgets/controls",
     "model_module_version": "1.5.0",
     "model_name": "ProgressStyleModel",
     "state": {
      "_model_module": "@jupyter-widgets/controls",
      "_model_module_version": "1.5.0",
      "_model_name": "ProgressStyleModel",
      "_view_count": null,
      "_view_module": "@jupyter-widgets/base",
      "_view_module_version": "1.2.0",
      "_view_name": "StyleView",
      "bar_color": null,
      "description_width": ""
     }
    },
    "6ec1e1264e4a41e695b5cc27773a287e": {
     "model_module": "@jupyter-widgets/base",
     "model_module_version": "1.2.0",
     "model_name": "LayoutModel",
     "state": {
      "_model_module": "@jupyter-widgets/base",
      "_model_module_version": "1.2.0",
      "_model_name": "LayoutModel",
      "_view_count": null,
      "_view_module": "@jupyter-widgets/base",
      "_view_module_version": "1.2.0",
      "_view_name": "LayoutView",
      "align_content": null,
      "align_items": null,
      "align_self": null,
      "border": null,
      "bottom": null,
      "display": null,
      "flex": null,
      "flex_flow": null,
      "grid_area": null,
      "grid_auto_columns": null,
      "grid_auto_flow": null,
      "grid_auto_rows": null,
      "grid_column": null,
      "grid_gap": null,
      "grid_row": null,
      "grid_template_areas": null,
      "grid_template_columns": null,
      "grid_template_rows": null,
      "height": null,
      "justify_content": null,
      "justify_items": null,
      "left": null,
      "margin": null,
      "max_height": null,
      "max_width": null,
      "min_height": null,
      "min_width": null,
      "object_fit": null,
      "object_position": null,
      "order": null,
      "overflow": null,
      "overflow_x": null,
      "overflow_y": null,
      "padding": null,
      "right": null,
      "top": null,
      "visibility": null,
      "width": null
     }
    },
    "7199c287d57e4b4b89a54cfa1b4ab54d": {
     "model_module": "@jupyter-widgets/controls",
     "model_module_version": "1.5.0",
     "model_name": "HBoxModel",
     "state": {
      "_dom_classes": [],
      "_model_module": "@jupyter-widgets/controls",
      "_model_module_version": "1.5.0",
      "_model_name": "HBoxModel",
      "_view_count": null,
      "_view_module": "@jupyter-widgets/controls",
      "_view_module_version": "1.5.0",
      "_view_name": "HBoxView",
      "box_style": "",
      "children": [
       "IPY_MODEL_beba81a3ea5e4d568deb4754260f82b4",
       "IPY_MODEL_4f5c55c73ea3439696ef542395a747c4",
       "IPY_MODEL_d7f401c41f934caeb3225975364d64ac"
      ],
      "layout": "IPY_MODEL_dc827da698504a8587091f92987523f2"
     }
    },
    "761d88f1f7f44846baa7ab2565104958": {
     "model_module": "@jupyter-widgets/controls",
     "model_module_version": "1.5.0",
     "model_name": "DescriptionStyleModel",
     "state": {
      "_model_module": "@jupyter-widgets/controls",
      "_model_module_version": "1.5.0",
      "_model_name": "DescriptionStyleModel",
      "_view_count": null,
      "_view_module": "@jupyter-widgets/base",
      "_view_module_version": "1.2.0",
      "_view_name": "StyleView",
      "description_width": ""
     }
    },
    "769163b78a034fef832c2b844b9bf0fa": {
     "model_module": "@jupyter-widgets/controls",
     "model_module_version": "1.5.0",
     "model_name": "ProgressStyleModel",
     "state": {
      "_model_module": "@jupyter-widgets/controls",
      "_model_module_version": "1.5.0",
      "_model_name": "ProgressStyleModel",
      "_view_count": null,
      "_view_module": "@jupyter-widgets/base",
      "_view_module_version": "1.2.0",
      "_view_name": "StyleView",
      "bar_color": null,
      "description_width": ""
     }
    },
    "787851357e4d4487bfcc64d1b218f6ad": {
     "model_module": "@jupyter-widgets/controls",
     "model_module_version": "1.5.0",
     "model_name": "ProgressStyleModel",
     "state": {
      "_model_module": "@jupyter-widgets/controls",
      "_model_module_version": "1.5.0",
      "_model_name": "ProgressStyleModel",
      "_view_count": null,
      "_view_module": "@jupyter-widgets/base",
      "_view_module_version": "1.2.0",
      "_view_name": "StyleView",
      "bar_color": null,
      "description_width": ""
     }
    },
    "78f2096839af41be8a15f774b3981db3": {
     "model_module": "@jupyter-widgets/controls",
     "model_module_version": "1.5.0",
     "model_name": "HTMLModel",
     "state": {
      "_dom_classes": [],
      "_model_module": "@jupyter-widgets/controls",
      "_model_module_version": "1.5.0",
      "_model_name": "HTMLModel",
      "_view_count": null,
      "_view_module": "@jupyter-widgets/controls",
      "_view_module_version": "1.5.0",
      "_view_name": "HTMLView",
      "description": "",
      "description_tooltip": null,
      "layout": "IPY_MODEL_3d40e24fc5fc486e8e750dcb45e8647c",
      "placeholder": "​",
      "style": "IPY_MODEL_8f4025b7f04c48feb0b22c45cd911fcd",
      "value": " 1000/1000 [02:04&lt;00:00,  8.38it/s]"
     }
    },
    "79752ae5a0a54afd809e65288d31f39b": {
     "model_module": "@jupyter-widgets/base",
     "model_module_version": "1.2.0",
     "model_name": "LayoutModel",
     "state": {
      "_model_module": "@jupyter-widgets/base",
      "_model_module_version": "1.2.0",
      "_model_name": "LayoutModel",
      "_view_count": null,
      "_view_module": "@jupyter-widgets/base",
      "_view_module_version": "1.2.0",
      "_view_name": "LayoutView",
      "align_content": null,
      "align_items": null,
      "align_self": null,
      "border": null,
      "bottom": null,
      "display": null,
      "flex": null,
      "flex_flow": null,
      "grid_area": null,
      "grid_auto_columns": null,
      "grid_auto_flow": null,
      "grid_auto_rows": null,
      "grid_column": null,
      "grid_gap": null,
      "grid_row": null,
      "grid_template_areas": null,
      "grid_template_columns": null,
      "grid_template_rows": null,
      "height": null,
      "justify_content": null,
      "justify_items": null,
      "left": null,
      "margin": null,
      "max_height": null,
      "max_width": null,
      "min_height": null,
      "min_width": null,
      "object_fit": null,
      "object_position": null,
      "order": null,
      "overflow": null,
      "overflow_x": null,
      "overflow_y": null,
      "padding": null,
      "right": null,
      "top": null,
      "visibility": null,
      "width": null
     }
    },
    "7ccfe1fcf4b14039a941bf4816c5c38d": {
     "model_module": "@jupyter-widgets/base",
     "model_module_version": "1.2.0",
     "model_name": "LayoutModel",
     "state": {
      "_model_module": "@jupyter-widgets/base",
      "_model_module_version": "1.2.0",
      "_model_name": "LayoutModel",
      "_view_count": null,
      "_view_module": "@jupyter-widgets/base",
      "_view_module_version": "1.2.0",
      "_view_name": "LayoutView",
      "align_content": null,
      "align_items": null,
      "align_self": null,
      "border": null,
      "bottom": null,
      "display": null,
      "flex": null,
      "flex_flow": null,
      "grid_area": null,
      "grid_auto_columns": null,
      "grid_auto_flow": null,
      "grid_auto_rows": null,
      "grid_column": null,
      "grid_gap": null,
      "grid_row": null,
      "grid_template_areas": null,
      "grid_template_columns": null,
      "grid_template_rows": null,
      "height": null,
      "justify_content": null,
      "justify_items": null,
      "left": null,
      "margin": null,
      "max_height": null,
      "max_width": null,
      "min_height": null,
      "min_width": null,
      "object_fit": null,
      "object_position": null,
      "order": null,
      "overflow": null,
      "overflow_x": null,
      "overflow_y": null,
      "padding": null,
      "right": null,
      "top": null,
      "visibility": null,
      "width": null
     }
    },
    "7ec58b8ac36f4d5f9ece073eaa28f818": {
     "model_module": "@jupyter-widgets/controls",
     "model_module_version": "1.5.0",
     "model_name": "ProgressStyleModel",
     "state": {
      "_model_module": "@jupyter-widgets/controls",
      "_model_module_version": "1.5.0",
      "_model_name": "ProgressStyleModel",
      "_view_count": null,
      "_view_module": "@jupyter-widgets/base",
      "_view_module_version": "1.2.0",
      "_view_name": "StyleView",
      "bar_color": null,
      "description_width": ""
     }
    },
    "86b4a3c62ddb47b28e0d4c68a4b4ec64": {
     "model_module": "@jupyter-widgets/controls",
     "model_module_version": "1.5.0",
     "model_name": "DescriptionStyleModel",
     "state": {
      "_model_module": "@jupyter-widgets/controls",
      "_model_module_version": "1.5.0",
      "_model_name": "DescriptionStyleModel",
      "_view_count": null,
      "_view_module": "@jupyter-widgets/base",
      "_view_module_version": "1.2.0",
      "_view_name": "StyleView",
      "description_width": ""
     }
    },
    "899011f44dc1417994e427e440bf8535": {
     "model_module": "@jupyter-widgets/controls",
     "model_module_version": "1.5.0",
     "model_name": "ProgressStyleModel",
     "state": {
      "_model_module": "@jupyter-widgets/controls",
      "_model_module_version": "1.5.0",
      "_model_name": "ProgressStyleModel",
      "_view_count": null,
      "_view_module": "@jupyter-widgets/base",
      "_view_module_version": "1.2.0",
      "_view_name": "StyleView",
      "bar_color": null,
      "description_width": ""
     }
    },
    "8b05dd5323d8469d8170cbb959776354": {
     "model_module": "@jupyter-widgets/controls",
     "model_module_version": "1.5.0",
     "model_name": "HTMLModel",
     "state": {
      "_dom_classes": [],
      "_model_module": "@jupyter-widgets/controls",
      "_model_module_version": "1.5.0",
      "_model_name": "HTMLModel",
      "_view_count": null,
      "_view_module": "@jupyter-widgets/controls",
      "_view_module_version": "1.5.0",
      "_view_name": "HTMLView",
      "description": "",
      "description_tooltip": null,
      "layout": "IPY_MODEL_42ef0ec508594e1bbe0cf7d6635c40d9",
      "placeholder": "​",
      "style": "IPY_MODEL_99021fae2f8f42d28adf894045aaceb7",
      "value": " 1000/1000 [24:10&lt;00:00,  1.60s/it]"
     }
    },
    "8c320d0f6c834e6580c4c649e2377a0e": {
     "model_module": "@jupyter-widgets/base",
     "model_module_version": "1.2.0",
     "model_name": "LayoutModel",
     "state": {
      "_model_module": "@jupyter-widgets/base",
      "_model_module_version": "1.2.0",
      "_model_name": "LayoutModel",
      "_view_count": null,
      "_view_module": "@jupyter-widgets/base",
      "_view_module_version": "1.2.0",
      "_view_name": "LayoutView",
      "align_content": null,
      "align_items": null,
      "align_self": null,
      "border": null,
      "bottom": null,
      "display": null,
      "flex": null,
      "flex_flow": null,
      "grid_area": null,
      "grid_auto_columns": null,
      "grid_auto_flow": null,
      "grid_auto_rows": null,
      "grid_column": null,
      "grid_gap": null,
      "grid_row": null,
      "grid_template_areas": null,
      "grid_template_columns": null,
      "grid_template_rows": null,
      "height": null,
      "justify_content": null,
      "justify_items": null,
      "left": null,
      "margin": null,
      "max_height": null,
      "max_width": null,
      "min_height": null,
      "min_width": null,
      "object_fit": null,
      "object_position": null,
      "order": null,
      "overflow": null,
      "overflow_x": null,
      "overflow_y": null,
      "padding": null,
      "right": null,
      "top": null,
      "visibility": null,
      "width": null
     }
    },
    "8d1121cffca3454a90f04b82097d14fb": {
     "model_module": "@jupyter-widgets/controls",
     "model_module_version": "1.5.0",
     "model_name": "ProgressStyleModel",
     "state": {
      "_model_module": "@jupyter-widgets/controls",
      "_model_module_version": "1.5.0",
      "_model_name": "ProgressStyleModel",
      "_view_count": null,
      "_view_module": "@jupyter-widgets/base",
      "_view_module_version": "1.2.0",
      "_view_name": "StyleView",
      "bar_color": null,
      "description_width": ""
     }
    },
    "8f4025b7f04c48feb0b22c45cd911fcd": {
     "model_module": "@jupyter-widgets/controls",
     "model_module_version": "1.5.0",
     "model_name": "DescriptionStyleModel",
     "state": {
      "_model_module": "@jupyter-widgets/controls",
      "_model_module_version": "1.5.0",
      "_model_name": "DescriptionStyleModel",
      "_view_count": null,
      "_view_module": "@jupyter-widgets/base",
      "_view_module_version": "1.2.0",
      "_view_name": "StyleView",
      "description_width": ""
     }
    },
    "8fcab32bc484460eaa23ec1872f52316": {
     "model_module": "@jupyter-widgets/controls",
     "model_module_version": "1.5.0",
     "model_name": "FloatProgressModel",
     "state": {
      "_dom_classes": [],
      "_model_module": "@jupyter-widgets/controls",
      "_model_module_version": "1.5.0",
      "_model_name": "FloatProgressModel",
      "_view_count": null,
      "_view_module": "@jupyter-widgets/controls",
      "_view_module_version": "1.5.0",
      "_view_name": "ProgressView",
      "bar_style": "success",
      "description": "",
      "description_tooltip": null,
      "layout": "IPY_MODEL_79752ae5a0a54afd809e65288d31f39b",
      "max": 313,
      "min": 0,
      "orientation": "horizontal",
      "style": "IPY_MODEL_8d1121cffca3454a90f04b82097d14fb",
      "value": 313
     }
    },
    "9877e05ff1cf4c40826eec6121123c6e": {
     "model_module": "@jupyter-widgets/base",
     "model_module_version": "1.2.0",
     "model_name": "LayoutModel",
     "state": {
      "_model_module": "@jupyter-widgets/base",
      "_model_module_version": "1.2.0",
      "_model_name": "LayoutModel",
      "_view_count": null,
      "_view_module": "@jupyter-widgets/base",
      "_view_module_version": "1.2.0",
      "_view_name": "LayoutView",
      "align_content": null,
      "align_items": null,
      "align_self": null,
      "border": null,
      "bottom": null,
      "display": null,
      "flex": null,
      "flex_flow": null,
      "grid_area": null,
      "grid_auto_columns": null,
      "grid_auto_flow": null,
      "grid_auto_rows": null,
      "grid_column": null,
      "grid_gap": null,
      "grid_row": null,
      "grid_template_areas": null,
      "grid_template_columns": null,
      "grid_template_rows": null,
      "height": null,
      "justify_content": null,
      "justify_items": null,
      "left": null,
      "margin": null,
      "max_height": null,
      "max_width": null,
      "min_height": null,
      "min_width": null,
      "object_fit": null,
      "object_position": null,
      "order": null,
      "overflow": null,
      "overflow_x": null,
      "overflow_y": null,
      "padding": null,
      "right": null,
      "top": null,
      "visibility": null,
      "width": null
     }
    },
    "99021fae2f8f42d28adf894045aaceb7": {
     "model_module": "@jupyter-widgets/controls",
     "model_module_version": "1.5.0",
     "model_name": "DescriptionStyleModel",
     "state": {
      "_model_module": "@jupyter-widgets/controls",
      "_model_module_version": "1.5.0",
      "_model_name": "DescriptionStyleModel",
      "_view_count": null,
      "_view_module": "@jupyter-widgets/base",
      "_view_module_version": "1.2.0",
      "_view_name": "StyleView",
      "description_width": ""
     }
    },
    "9ca3df38ff344d05bdd70015a39041ab": {
     "model_module": "@jupyter-widgets/base",
     "model_module_version": "1.2.0",
     "model_name": "LayoutModel",
     "state": {
      "_model_module": "@jupyter-widgets/base",
      "_model_module_version": "1.2.0",
      "_model_name": "LayoutModel",
      "_view_count": null,
      "_view_module": "@jupyter-widgets/base",
      "_view_module_version": "1.2.0",
      "_view_name": "LayoutView",
      "align_content": null,
      "align_items": null,
      "align_self": null,
      "border": null,
      "bottom": null,
      "display": null,
      "flex": null,
      "flex_flow": null,
      "grid_area": null,
      "grid_auto_columns": null,
      "grid_auto_flow": null,
      "grid_auto_rows": null,
      "grid_column": null,
      "grid_gap": null,
      "grid_row": null,
      "grid_template_areas": null,
      "grid_template_columns": null,
      "grid_template_rows": null,
      "height": null,
      "justify_content": null,
      "justify_items": null,
      "left": null,
      "margin": null,
      "max_height": null,
      "max_width": null,
      "min_height": null,
      "min_width": null,
      "object_fit": null,
      "object_position": null,
      "order": null,
      "overflow": null,
      "overflow_x": null,
      "overflow_y": null,
      "padding": null,
      "right": null,
      "top": null,
      "visibility": null,
      "width": null
     }
    },
    "9db67b60e85c4c65888b0d2119e8d6f2": {
     "model_module": "@jupyter-widgets/base",
     "model_module_version": "1.2.0",
     "model_name": "LayoutModel",
     "state": {
      "_model_module": "@jupyter-widgets/base",
      "_model_module_version": "1.2.0",
      "_model_name": "LayoutModel",
      "_view_count": null,
      "_view_module": "@jupyter-widgets/base",
      "_view_module_version": "1.2.0",
      "_view_name": "LayoutView",
      "align_content": null,
      "align_items": null,
      "align_self": null,
      "border": null,
      "bottom": null,
      "display": null,
      "flex": null,
      "flex_flow": null,
      "grid_area": null,
      "grid_auto_columns": null,
      "grid_auto_flow": null,
      "grid_auto_rows": null,
      "grid_column": null,
      "grid_gap": null,
      "grid_row": null,
      "grid_template_areas": null,
      "grid_template_columns": null,
      "grid_template_rows": null,
      "height": null,
      "justify_content": null,
      "justify_items": null,
      "left": null,
      "margin": null,
      "max_height": null,
      "max_width": null,
      "min_height": null,
      "min_width": null,
      "object_fit": null,
      "object_position": null,
      "order": null,
      "overflow": null,
      "overflow_x": null,
      "overflow_y": null,
      "padding": null,
      "right": null,
      "top": null,
      "visibility": null,
      "width": null
     }
    },
    "9e6f6348432c47f7a6c741028c983b8d": {
     "model_module": "@jupyter-widgets/controls",
     "model_module_version": "1.5.0",
     "model_name": "HBoxModel",
     "state": {
      "_dom_classes": [],
      "_model_module": "@jupyter-widgets/controls",
      "_model_module_version": "1.5.0",
      "_model_name": "HBoxModel",
      "_view_count": null,
      "_view_module": "@jupyter-widgets/controls",
      "_view_module_version": "1.5.0",
      "_view_name": "HBoxView",
      "box_style": "",
      "children": [
       "IPY_MODEL_50c74d88221648cd86d84c5ca5c12126",
       "IPY_MODEL_37ed1632c4354feaa427c6839573b3e5",
       "IPY_MODEL_a7e38e3d6bce4d9db7c1b38bde3fec80"
      ],
      "layout": "IPY_MODEL_46e0698ecf80410c9fa6e87c1809a739"
     }
    },
    "a7e38e3d6bce4d9db7c1b38bde3fec80": {
     "model_module": "@jupyter-widgets/controls",
     "model_module_version": "1.5.0",
     "model_name": "HTMLModel",
     "state": {
      "_dom_classes": [],
      "_model_module": "@jupyter-widgets/controls",
      "_model_module_version": "1.5.0",
      "_model_name": "HTMLModel",
      "_view_count": null,
      "_view_module": "@jupyter-widgets/controls",
      "_view_module_version": "1.5.0",
      "_view_name": "HTMLView",
      "description": "",
      "description_tooltip": null,
      "layout": "IPY_MODEL_12a133893f5b43aa8a83769bb5becaaa",
      "placeholder": "​",
      "style": "IPY_MODEL_b4e61569aa71471cb0a80517d925749a",
      "value": " 313/313 [00:39&lt;00:00,  9.89it/s]"
     }
    },
    "ad0247ffbc904504b0fe1b3172453269": {
     "model_module": "@jupyter-widgets/controls",
     "model_module_version": "1.5.0",
     "model_name": "DescriptionStyleModel",
     "state": {
      "_model_module": "@jupyter-widgets/controls",
      "_model_module_version": "1.5.0",
      "_model_name": "DescriptionStyleModel",
      "_view_count": null,
      "_view_module": "@jupyter-widgets/base",
      "_view_module_version": "1.2.0",
      "_view_name": "StyleView",
      "description_width": ""
     }
    },
    "b0de86ec6f4d4e5c8282d3f828d1bf0b": {
     "model_module": "@jupyter-widgets/controls",
     "model_module_version": "1.5.0",
     "model_name": "HBoxModel",
     "state": {
      "_dom_classes": [],
      "_model_module": "@jupyter-widgets/controls",
      "_model_module_version": "1.5.0",
      "_model_name": "HBoxModel",
      "_view_count": null,
      "_view_module": "@jupyter-widgets/controls",
      "_view_module_version": "1.5.0",
      "_view_name": "HBoxView",
      "box_style": "",
      "children": [
       "IPY_MODEL_17d62c0c729b4ee983c5c403ac3da122",
       "IPY_MODEL_b71c8d9a78b34a85b2f4d2bd0db6843f",
       "IPY_MODEL_0c3b4852a09e4ac48f23386e4506d725"
      ],
      "layout": "IPY_MODEL_bf6eed5f83e34b42b0ea5a76fac531d6"
     }
    },
    "b4e61569aa71471cb0a80517d925749a": {
     "model_module": "@jupyter-widgets/controls",
     "model_module_version": "1.5.0",
     "model_name": "DescriptionStyleModel",
     "state": {
      "_model_module": "@jupyter-widgets/controls",
      "_model_module_version": "1.5.0",
      "_model_name": "DescriptionStyleModel",
      "_view_count": null,
      "_view_module": "@jupyter-widgets/base",
      "_view_module_version": "1.2.0",
      "_view_name": "StyleView",
      "description_width": ""
     }
    },
    "b71c8d9a78b34a85b2f4d2bd0db6843f": {
     "model_module": "@jupyter-widgets/controls",
     "model_module_version": "1.5.0",
     "model_name": "FloatProgressModel",
     "state": {
      "_dom_classes": [],
      "_model_module": "@jupyter-widgets/controls",
      "_model_module_version": "1.5.0",
      "_model_name": "FloatProgressModel",
      "_view_count": null,
      "_view_module": "@jupyter-widgets/controls",
      "_view_module_version": "1.5.0",
      "_view_name": "ProgressView",
      "bar_style": "success",
      "description": "",
      "description_tooltip": null,
      "layout": "IPY_MODEL_2aa27b6699504a7dbda39c1e4ca9790a",
      "max": 1000,
      "min": 0,
      "orientation": "horizontal",
      "style": "IPY_MODEL_5be62d3b6ac8454297f1e6d4d3eb4425",
      "value": 1000
     }
    },
    "b86cf3a6f85849a8b6323c7663c88aed": {
     "model_module": "@jupyter-widgets/base",
     "model_module_version": "1.2.0",
     "model_name": "LayoutModel",
     "state": {
      "_model_module": "@jupyter-widgets/base",
      "_model_module_version": "1.2.0",
      "_model_name": "LayoutModel",
      "_view_count": null,
      "_view_module": "@jupyter-widgets/base",
      "_view_module_version": "1.2.0",
      "_view_name": "LayoutView",
      "align_content": null,
      "align_items": null,
      "align_self": null,
      "border": null,
      "bottom": null,
      "display": null,
      "flex": null,
      "flex_flow": null,
      "grid_area": null,
      "grid_auto_columns": null,
      "grid_auto_flow": null,
      "grid_auto_rows": null,
      "grid_column": null,
      "grid_gap": null,
      "grid_row": null,
      "grid_template_areas": null,
      "grid_template_columns": null,
      "grid_template_rows": null,
      "height": null,
      "justify_content": null,
      "justify_items": null,
      "left": null,
      "margin": null,
      "max_height": null,
      "max_width": null,
      "min_height": null,
      "min_width": null,
      "object_fit": null,
      "object_position": null,
      "order": null,
      "overflow": null,
      "overflow_x": null,
      "overflow_y": null,
      "padding": null,
      "right": null,
      "top": null,
      "visibility": null,
      "width": null
     }
    },
    "b8f4412105694f8d9b1b3cbca64dd3b6": {
     "model_module": "@jupyter-widgets/base",
     "model_module_version": "1.2.0",
     "model_name": "LayoutModel",
     "state": {
      "_model_module": "@jupyter-widgets/base",
      "_model_module_version": "1.2.0",
      "_model_name": "LayoutModel",
      "_view_count": null,
      "_view_module": "@jupyter-widgets/base",
      "_view_module_version": "1.2.0",
      "_view_name": "LayoutView",
      "align_content": null,
      "align_items": null,
      "align_self": null,
      "border": null,
      "bottom": null,
      "display": null,
      "flex": null,
      "flex_flow": null,
      "grid_area": null,
      "grid_auto_columns": null,
      "grid_auto_flow": null,
      "grid_auto_rows": null,
      "grid_column": null,
      "grid_gap": null,
      "grid_row": null,
      "grid_template_areas": null,
      "grid_template_columns": null,
      "grid_template_rows": null,
      "height": null,
      "justify_content": null,
      "justify_items": null,
      "left": null,
      "margin": null,
      "max_height": null,
      "max_width": null,
      "min_height": null,
      "min_width": null,
      "object_fit": null,
      "object_position": null,
      "order": null,
      "overflow": null,
      "overflow_x": null,
      "overflow_y": null,
      "padding": null,
      "right": null,
      "top": null,
      "visibility": null,
      "width": null
     }
    },
    "baaa52cad4e54502b3efe7ccfe4825ea": {
     "model_module": "@jupyter-widgets/controls",
     "model_module_version": "1.5.0",
     "model_name": "FloatProgressModel",
     "state": {
      "_dom_classes": [],
      "_model_module": "@jupyter-widgets/controls",
      "_model_module_version": "1.5.0",
      "_model_name": "FloatProgressModel",
      "_view_count": null,
      "_view_module": "@jupyter-widgets/controls",
      "_view_module_version": "1.5.0",
      "_view_name": "ProgressView",
      "bar_style": "success",
      "description": "",
      "description_tooltip": null,
      "layout": "IPY_MODEL_d9c60a66c21e46f4bd92983ed92d43af",
      "max": 1000,
      "min": 0,
      "orientation": "horizontal",
      "style": "IPY_MODEL_6bee350ef3bd405d9072d4a1f85162f1",
      "value": 1000
     }
    },
    "bda0d30e5aed4d059ac444d9f33130df": {
     "model_module": "@jupyter-widgets/base",
     "model_module_version": "1.2.0",
     "model_name": "LayoutModel",
     "state": {
      "_model_module": "@jupyter-widgets/base",
      "_model_module_version": "1.2.0",
      "_model_name": "LayoutModel",
      "_view_count": null,
      "_view_module": "@jupyter-widgets/base",
      "_view_module_version": "1.2.0",
      "_view_name": "LayoutView",
      "align_content": null,
      "align_items": null,
      "align_self": null,
      "border": null,
      "bottom": null,
      "display": null,
      "flex": null,
      "flex_flow": null,
      "grid_area": null,
      "grid_auto_columns": null,
      "grid_auto_flow": null,
      "grid_auto_rows": null,
      "grid_column": null,
      "grid_gap": null,
      "grid_row": null,
      "grid_template_areas": null,
      "grid_template_columns": null,
      "grid_template_rows": null,
      "height": null,
      "justify_content": null,
      "justify_items": null,
      "left": null,
      "margin": null,
      "max_height": null,
      "max_width": null,
      "min_height": null,
      "min_width": null,
      "object_fit": null,
      "object_position": null,
      "order": null,
      "overflow": null,
      "overflow_x": null,
      "overflow_y": null,
      "padding": null,
      "right": null,
      "top": null,
      "visibility": null,
      "width": null
     }
    },
    "beba81a3ea5e4d568deb4754260f82b4": {
     "model_module": "@jupyter-widgets/controls",
     "model_module_version": "1.5.0",
     "model_name": "HTMLModel",
     "state": {
      "_dom_classes": [],
      "_model_module": "@jupyter-widgets/controls",
      "_model_module_version": "1.5.0",
      "_model_name": "HTMLModel",
      "_view_count": null,
      "_view_module": "@jupyter-widgets/controls",
      "_view_module_version": "1.5.0",
      "_view_name": "HTMLView",
      "description": "",
      "description_tooltip": null,
      "layout": "IPY_MODEL_20ae3ad7a6a042358857cf7c51185a89",
      "placeholder": "​",
      "style": "IPY_MODEL_86b4a3c62ddb47b28e0d4c68a4b4ec64",
      "value": "Test Loss: 0.5375, Test Acc: 0.7266: 100%"
     }
    },
    "bf6eed5f83e34b42b0ea5a76fac531d6": {
     "model_module": "@jupyter-widgets/base",
     "model_module_version": "1.2.0",
     "model_name": "LayoutModel",
     "state": {
      "_model_module": "@jupyter-widgets/base",
      "_model_module_version": "1.2.0",
      "_model_name": "LayoutModel",
      "_view_count": null,
      "_view_module": "@jupyter-widgets/base",
      "_view_module_version": "1.2.0",
      "_view_name": "LayoutView",
      "align_content": null,
      "align_items": null,
      "align_self": null,
      "border": null,
      "bottom": null,
      "display": null,
      "flex": null,
      "flex_flow": null,
      "grid_area": null,
      "grid_auto_columns": null,
      "grid_auto_flow": null,
      "grid_auto_rows": null,
      "grid_column": null,
      "grid_gap": null,
      "grid_row": null,
      "grid_template_areas": null,
      "grid_template_columns": null,
      "grid_template_rows": null,
      "height": null,
      "justify_content": null,
      "justify_items": null,
      "left": null,
      "margin": null,
      "max_height": null,
      "max_width": null,
      "min_height": null,
      "min_width": null,
      "object_fit": null,
      "object_position": null,
      "order": null,
      "overflow": null,
      "overflow_x": null,
      "overflow_y": null,
      "padding": null,
      "right": null,
      "top": null,
      "visibility": null,
      "width": null
     }
    },
    "c8a04a69fd0e4806a7c45b822163fd10": {
     "model_module": "@jupyter-widgets/controls",
     "model_module_version": "1.5.0",
     "model_name": "DescriptionStyleModel",
     "state": {
      "_model_module": "@jupyter-widgets/controls",
      "_model_module_version": "1.5.0",
      "_model_name": "DescriptionStyleModel",
      "_view_count": null,
      "_view_module": "@jupyter-widgets/base",
      "_view_module_version": "1.2.0",
      "_view_name": "StyleView",
      "description_width": ""
     }
    },
    "c981d85e175445e798bad313b6977656": {
     "model_module": "@jupyter-widgets/base",
     "model_module_version": "1.2.0",
     "model_name": "LayoutModel",
     "state": {
      "_model_module": "@jupyter-widgets/base",
      "_model_module_version": "1.2.0",
      "_model_name": "LayoutModel",
      "_view_count": null,
      "_view_module": "@jupyter-widgets/base",
      "_view_module_version": "1.2.0",
      "_view_name": "LayoutView",
      "align_content": null,
      "align_items": null,
      "align_self": null,
      "border": null,
      "bottom": null,
      "display": null,
      "flex": null,
      "flex_flow": null,
      "grid_area": null,
      "grid_auto_columns": null,
      "grid_auto_flow": null,
      "grid_auto_rows": null,
      "grid_column": null,
      "grid_gap": null,
      "grid_row": null,
      "grid_template_areas": null,
      "grid_template_columns": null,
      "grid_template_rows": null,
      "height": null,
      "justify_content": null,
      "justify_items": null,
      "left": null,
      "margin": null,
      "max_height": null,
      "max_width": null,
      "min_height": null,
      "min_width": null,
      "object_fit": null,
      "object_position": null,
      "order": null,
      "overflow": null,
      "overflow_x": null,
      "overflow_y": null,
      "padding": null,
      "right": null,
      "top": null,
      "visibility": null,
      "width": null
     }
    },
    "cfb2cc651caa4efcbc18092c8e3de4a4": {
     "model_module": "@jupyter-widgets/base",
     "model_module_version": "1.2.0",
     "model_name": "LayoutModel",
     "state": {
      "_model_module": "@jupyter-widgets/base",
      "_model_module_version": "1.2.0",
      "_model_name": "LayoutModel",
      "_view_count": null,
      "_view_module": "@jupyter-widgets/base",
      "_view_module_version": "1.2.0",
      "_view_name": "LayoutView",
      "align_content": null,
      "align_items": null,
      "align_self": null,
      "border": null,
      "bottom": null,
      "display": null,
      "flex": null,
      "flex_flow": null,
      "grid_area": null,
      "grid_auto_columns": null,
      "grid_auto_flow": null,
      "grid_auto_rows": null,
      "grid_column": null,
      "grid_gap": null,
      "grid_row": null,
      "grid_template_areas": null,
      "grid_template_columns": null,
      "grid_template_rows": null,
      "height": null,
      "justify_content": null,
      "justify_items": null,
      "left": null,
      "margin": null,
      "max_height": null,
      "max_width": null,
      "min_height": null,
      "min_width": null,
      "object_fit": null,
      "object_position": null,
      "order": null,
      "overflow": null,
      "overflow_x": null,
      "overflow_y": null,
      "padding": null,
      "right": null,
      "top": null,
      "visibility": null,
      "width": null
     }
    },
    "d62edf201dd04641b1a121827300b88c": {
     "model_module": "@jupyter-widgets/base",
     "model_module_version": "1.2.0",
     "model_name": "LayoutModel",
     "state": {
      "_model_module": "@jupyter-widgets/base",
      "_model_module_version": "1.2.0",
      "_model_name": "LayoutModel",
      "_view_count": null,
      "_view_module": "@jupyter-widgets/base",
      "_view_module_version": "1.2.0",
      "_view_name": "LayoutView",
      "align_content": null,
      "align_items": null,
      "align_self": null,
      "border": null,
      "bottom": null,
      "display": null,
      "flex": null,
      "flex_flow": null,
      "grid_area": null,
      "grid_auto_columns": null,
      "grid_auto_flow": null,
      "grid_auto_rows": null,
      "grid_column": null,
      "grid_gap": null,
      "grid_row": null,
      "grid_template_areas": null,
      "grid_template_columns": null,
      "grid_template_rows": null,
      "height": null,
      "justify_content": null,
      "justify_items": null,
      "left": null,
      "margin": null,
      "max_height": null,
      "max_width": null,
      "min_height": null,
      "min_width": null,
      "object_fit": null,
      "object_position": null,
      "order": null,
      "overflow": null,
      "overflow_x": null,
      "overflow_y": null,
      "padding": null,
      "right": null,
      "top": null,
      "visibility": null,
      "width": null
     }
    },
    "d7f401c41f934caeb3225975364d64ac": {
     "model_module": "@jupyter-widgets/controls",
     "model_module_version": "1.5.0",
     "model_name": "HTMLModel",
     "state": {
      "_dom_classes": [],
      "_model_module": "@jupyter-widgets/controls",
      "_model_module_version": "1.5.0",
      "_model_name": "HTMLModel",
      "_view_count": null,
      "_view_module": "@jupyter-widgets/controls",
      "_view_module_version": "1.5.0",
      "_view_name": "HTMLView",
      "description": "",
      "description_tooltip": null,
      "layout": "IPY_MODEL_1079aeb894f7409abc86b3ae15735963",
      "placeholder": "​",
      "style": "IPY_MODEL_24675f9df94b441ba1542c43612a0a39",
      "value": " 313/313 [06:13&lt;00:00,  1.00s/it]"
     }
    },
    "d9c60a66c21e46f4bd92983ed92d43af": {
     "model_module": "@jupyter-widgets/base",
     "model_module_version": "1.2.0",
     "model_name": "LayoutModel",
     "state": {
      "_model_module": "@jupyter-widgets/base",
      "_model_module_version": "1.2.0",
      "_model_name": "LayoutModel",
      "_view_count": null,
      "_view_module": "@jupyter-widgets/base",
      "_view_module_version": "1.2.0",
      "_view_name": "LayoutView",
      "align_content": null,
      "align_items": null,
      "align_self": null,
      "border": null,
      "bottom": null,
      "display": null,
      "flex": null,
      "flex_flow": null,
      "grid_area": null,
      "grid_auto_columns": null,
      "grid_auto_flow": null,
      "grid_auto_rows": null,
      "grid_column": null,
      "grid_gap": null,
      "grid_row": null,
      "grid_template_areas": null,
      "grid_template_columns": null,
      "grid_template_rows": null,
      "height": null,
      "justify_content": null,
      "justify_items": null,
      "left": null,
      "margin": null,
      "max_height": null,
      "max_width": null,
      "min_height": null,
      "min_width": null,
      "object_fit": null,
      "object_position": null,
      "order": null,
      "overflow": null,
      "overflow_x": null,
      "overflow_y": null,
      "padding": null,
      "right": null,
      "top": null,
      "visibility": null,
      "width": null
     }
    },
    "dacf3be01501446b8dd5633ea85b76cc": {
     "model_module": "@jupyter-widgets/controls",
     "model_module_version": "1.5.0",
     "model_name": "FloatProgressModel",
     "state": {
      "_dom_classes": [],
      "_model_module": "@jupyter-widgets/controls",
      "_model_module_version": "1.5.0",
      "_model_name": "FloatProgressModel",
      "_view_count": null,
      "_view_module": "@jupyter-widgets/controls",
      "_view_module_version": "1.5.0",
      "_view_name": "ProgressView",
      "bar_style": "success",
      "description": "",
      "description_tooltip": null,
      "layout": "IPY_MODEL_9db67b60e85c4c65888b0d2119e8d6f2",
      "max": 1000,
      "min": 0,
      "orientation": "horizontal",
      "style": "IPY_MODEL_61169dded5a541ddb7027ae6f659f8cb",
      "value": 1000
     }
    },
    "daf10f89887947278cfc93a795fa2fa8": {
     "model_module": "@jupyter-widgets/base",
     "model_module_version": "1.2.0",
     "model_name": "LayoutModel",
     "state": {
      "_model_module": "@jupyter-widgets/base",
      "_model_module_version": "1.2.0",
      "_model_name": "LayoutModel",
      "_view_count": null,
      "_view_module": "@jupyter-widgets/base",
      "_view_module_version": "1.2.0",
      "_view_name": "LayoutView",
      "align_content": null,
      "align_items": null,
      "align_self": null,
      "border": null,
      "bottom": null,
      "display": null,
      "flex": null,
      "flex_flow": null,
      "grid_area": null,
      "grid_auto_columns": null,
      "grid_auto_flow": null,
      "grid_auto_rows": null,
      "grid_column": null,
      "grid_gap": null,
      "grid_row": null,
      "grid_template_areas": null,
      "grid_template_columns": null,
      "grid_template_rows": null,
      "height": null,
      "justify_content": null,
      "justify_items": null,
      "left": null,
      "margin": null,
      "max_height": null,
      "max_width": null,
      "min_height": null,
      "min_width": null,
      "object_fit": null,
      "object_position": null,
      "order": null,
      "overflow": null,
      "overflow_x": null,
      "overflow_y": null,
      "padding": null,
      "right": null,
      "top": null,
      "visibility": null,
      "width": null
     }
    },
    "daf946ec65b3452f8f4d8a8c5943f4ea": {
     "model_module": "@jupyter-widgets/controls",
     "model_module_version": "1.5.0",
     "model_name": "DescriptionStyleModel",
     "state": {
      "_model_module": "@jupyter-widgets/controls",
      "_model_module_version": "1.5.0",
      "_model_name": "DescriptionStyleModel",
      "_view_count": null,
      "_view_module": "@jupyter-widgets/base",
      "_view_module_version": "1.2.0",
      "_view_name": "StyleView",
      "description_width": ""
     }
    },
    "dc827da698504a8587091f92987523f2": {
     "model_module": "@jupyter-widgets/base",
     "model_module_version": "1.2.0",
     "model_name": "LayoutModel",
     "state": {
      "_model_module": "@jupyter-widgets/base",
      "_model_module_version": "1.2.0",
      "_model_name": "LayoutModel",
      "_view_count": null,
      "_view_module": "@jupyter-widgets/base",
      "_view_module_version": "1.2.0",
      "_view_name": "LayoutView",
      "align_content": null,
      "align_items": null,
      "align_self": null,
      "border": null,
      "bottom": null,
      "display": null,
      "flex": null,
      "flex_flow": null,
      "grid_area": null,
      "grid_auto_columns": null,
      "grid_auto_flow": null,
      "grid_auto_rows": null,
      "grid_column": null,
      "grid_gap": null,
      "grid_row": null,
      "grid_template_areas": null,
      "grid_template_columns": null,
      "grid_template_rows": null,
      "height": null,
      "justify_content": null,
      "justify_items": null,
      "left": null,
      "margin": null,
      "max_height": null,
      "max_width": null,
      "min_height": null,
      "min_width": null,
      "object_fit": null,
      "object_position": null,
      "order": null,
      "overflow": null,
      "overflow_x": null,
      "overflow_y": null,
      "padding": null,
      "right": null,
      "top": null,
      "visibility": null,
      "width": null
     }
    },
    "de633b84dd5a47d9ae6071bebc9b5e6e": {
     "model_module": "@jupyter-widgets/base",
     "model_module_version": "1.2.0",
     "model_name": "LayoutModel",
     "state": {
      "_model_module": "@jupyter-widgets/base",
      "_model_module_version": "1.2.0",
      "_model_name": "LayoutModel",
      "_view_count": null,
      "_view_module": "@jupyter-widgets/base",
      "_view_module_version": "1.2.0",
      "_view_name": "LayoutView",
      "align_content": null,
      "align_items": null,
      "align_self": null,
      "border": null,
      "bottom": null,
      "display": null,
      "flex": null,
      "flex_flow": null,
      "grid_area": null,
      "grid_auto_columns": null,
      "grid_auto_flow": null,
      "grid_auto_rows": null,
      "grid_column": null,
      "grid_gap": null,
      "grid_row": null,
      "grid_template_areas": null,
      "grid_template_columns": null,
      "grid_template_rows": null,
      "height": null,
      "justify_content": null,
      "justify_items": null,
      "left": null,
      "margin": null,
      "max_height": null,
      "max_width": null,
      "min_height": null,
      "min_width": null,
      "object_fit": null,
      "object_position": null,
      "order": null,
      "overflow": null,
      "overflow_x": null,
      "overflow_y": null,
      "padding": null,
      "right": null,
      "top": null,
      "visibility": null,
      "width": null
     }
    },
    "e213efc971264b54b5096a54917124b1": {
     "model_module": "@jupyter-widgets/controls",
     "model_module_version": "1.5.0",
     "model_name": "HBoxModel",
     "state": {
      "_dom_classes": [],
      "_model_module": "@jupyter-widgets/controls",
      "_model_module_version": "1.5.0",
      "_model_name": "HBoxModel",
      "_view_count": null,
      "_view_module": "@jupyter-widgets/controls",
      "_view_module_version": "1.5.0",
      "_view_name": "HBoxView",
      "box_style": "",
      "children": [
       "IPY_MODEL_316acc275b2e406fb673538c1ed8266e",
       "IPY_MODEL_dacf3be01501446b8dd5633ea85b76cc",
       "IPY_MODEL_8b05dd5323d8469d8170cbb959776354"
      ],
      "layout": "IPY_MODEL_197d8716734849108c972dc2657ae002"
     }
    },
    "e53c0c9dbf874d83a84e6bf37a7dfa82": {
     "model_module": "@jupyter-widgets/controls",
     "model_module_version": "1.5.0",
     "model_name": "ProgressStyleModel",
     "state": {
      "_model_module": "@jupyter-widgets/controls",
      "_model_module_version": "1.5.0",
      "_model_name": "ProgressStyleModel",
      "_view_count": null,
      "_view_module": "@jupyter-widgets/base",
      "_view_module_version": "1.2.0",
      "_view_name": "StyleView",
      "bar_color": null,
      "description_width": ""
     }
    },
    "ea4a9bf120e7475f8baa57398fe5bafe": {
     "model_module": "@jupyter-widgets/base",
     "model_module_version": "1.2.0",
     "model_name": "LayoutModel",
     "state": {
      "_model_module": "@jupyter-widgets/base",
      "_model_module_version": "1.2.0",
      "_model_name": "LayoutModel",
      "_view_count": null,
      "_view_module": "@jupyter-widgets/base",
      "_view_module_version": "1.2.0",
      "_view_name": "LayoutView",
      "align_content": null,
      "align_items": null,
      "align_self": null,
      "border": null,
      "bottom": null,
      "display": null,
      "flex": null,
      "flex_flow": null,
      "grid_area": null,
      "grid_auto_columns": null,
      "grid_auto_flow": null,
      "grid_auto_rows": null,
      "grid_column": null,
      "grid_gap": null,
      "grid_row": null,
      "grid_template_areas": null,
      "grid_template_columns": null,
      "grid_template_rows": null,
      "height": null,
      "justify_content": null,
      "justify_items": null,
      "left": null,
      "margin": null,
      "max_height": null,
      "max_width": null,
      "min_height": null,
      "min_width": null,
      "object_fit": null,
      "object_position": null,
      "order": null,
      "overflow": null,
      "overflow_x": null,
      "overflow_y": null,
      "padding": null,
      "right": null,
      "top": null,
      "visibility": null,
      "width": null
     }
    },
    "ebbcda01c04c4c9ebbd5fd17704e7f43": {
     "model_module": "@jupyter-widgets/controls",
     "model_module_version": "1.5.0",
     "model_name": "HBoxModel",
     "state": {
      "_dom_classes": [],
      "_model_module": "@jupyter-widgets/controls",
      "_model_module_version": "1.5.0",
      "_model_name": "HBoxModel",
      "_view_count": null,
      "_view_module": "@jupyter-widgets/controls",
      "_view_module_version": "1.5.0",
      "_view_name": "HBoxView",
      "box_style": "",
      "children": [
       "IPY_MODEL_f03781238e9847efbb0481b6a270b326",
       "IPY_MODEL_3c3a8f94b6764a7caf88a5acd99a003d",
       "IPY_MODEL_44b029a072b74b39badab7d49c7f8528"
      ],
      "layout": "IPY_MODEL_bda0d30e5aed4d059ac444d9f33130df"
     }
    },
    "ec4be699f58e4202be86e128be7c847b": {
     "model_module": "@jupyter-widgets/controls",
     "model_module_version": "1.5.0",
     "model_name": "DescriptionStyleModel",
     "state": {
      "_model_module": "@jupyter-widgets/controls",
      "_model_module_version": "1.5.0",
      "_model_name": "DescriptionStyleModel",
      "_view_count": null,
      "_view_module": "@jupyter-widgets/base",
      "_view_module_version": "1.2.0",
      "_view_name": "StyleView",
      "description_width": ""
     }
    },
    "ee713a629fa64684a741fac6ca1d413d": {
     "model_module": "@jupyter-widgets/controls",
     "model_module_version": "1.5.0",
     "model_name": "DescriptionStyleModel",
     "state": {
      "_model_module": "@jupyter-widgets/controls",
      "_model_module_version": "1.5.0",
      "_model_name": "DescriptionStyleModel",
      "_view_count": null,
      "_view_module": "@jupyter-widgets/base",
      "_view_module_version": "1.2.0",
      "_view_name": "StyleView",
      "description_width": ""
     }
    },
    "f03781238e9847efbb0481b6a270b326": {
     "model_module": "@jupyter-widgets/controls",
     "model_module_version": "1.5.0",
     "model_name": "HTMLModel",
     "state": {
      "_dom_classes": [],
      "_model_module": "@jupyter-widgets/controls",
      "_model_module_version": "1.5.0",
      "_model_name": "HTMLModel",
      "_view_count": null,
      "_view_module": "@jupyter-widgets/controls",
      "_view_module_version": "1.5.0",
      "_view_name": "HTMLView",
      "description": "",
      "description_tooltip": null,
      "layout": "IPY_MODEL_9877e05ff1cf4c40826eec6121123c6e",
      "placeholder": "​",
      "style": "IPY_MODEL_424268416d0845f4b3cd34005847deea",
      "value": "Test Loss: 0.5328, Test Acc: 0.7363: 100%"
     }
    },
    "f2595b4e82d349ad908cc676130e03ed": {
     "model_module": "@jupyter-widgets/controls",
     "model_module_version": "1.5.0",
     "model_name": "HTMLModel",
     "state": {
      "_dom_classes": [],
      "_model_module": "@jupyter-widgets/controls",
      "_model_module_version": "1.5.0",
      "_model_name": "HTMLModel",
      "_view_count": null,
      "_view_module": "@jupyter-widgets/controls",
      "_view_module_version": "1.5.0",
      "_view_name": "HTMLView",
      "description": "",
      "description_tooltip": null,
      "layout": "IPY_MODEL_3097a3cae68845d39d18ed174baeafc7",
      "placeholder": "​",
      "style": "IPY_MODEL_ee713a629fa64684a741fac6ca1d413d",
      "value": "Epoch 1. Train Loss: 0.5297: 100%"
     }
    },
    "f6fa7717844148968ceab7cc36f07c5c": {
     "model_module": "@jupyter-widgets/controls",
     "model_module_version": "1.5.0",
     "model_name": "HTMLModel",
     "state": {
      "_dom_classes": [],
      "_model_module": "@jupyter-widgets/controls",
      "_model_module_version": "1.5.0",
      "_model_name": "HTMLModel",
      "_view_count": null,
      "_view_module": "@jupyter-widgets/controls",
      "_view_module_version": "1.5.0",
      "_view_name": "HTMLView",
      "description": "",
      "description_tooltip": null,
      "layout": "IPY_MODEL_3613e521d2934e1d9e61161ca6c7e61f",
      "placeholder": "​",
      "style": "IPY_MODEL_150c357439fb47f4a3c00932182827c0",
      "value": "Epoch 1. Train Loss: 0.5437: 100%"
     }
    },
    "fcceba9083594598b775e7829e8cda4b": {
     "model_module": "@jupyter-widgets/controls",
     "model_module_version": "1.5.0",
     "model_name": "DescriptionStyleModel",
     "state": {
      "_model_module": "@jupyter-widgets/controls",
      "_model_module_version": "1.5.0",
      "_model_name": "DescriptionStyleModel",
      "_view_count": null,
      "_view_module": "@jupyter-widgets/base",
      "_view_module_version": "1.2.0",
      "_view_name": "StyleView",
      "description_width": ""
     }
    }
   }
  }
 },
 "nbformat": 4,
 "nbformat_minor": 1
}
