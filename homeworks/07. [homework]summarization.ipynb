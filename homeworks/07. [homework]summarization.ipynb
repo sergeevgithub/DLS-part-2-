{
 "cells": [
  {
   "cell_type": "markdown",
   "metadata": {
    "id": "tWJTCBu4Tveb"
   },
   "source": [
    "<img src=\"https://static.wixstatic.com/media/66c28f_db7a1ba3e35b4b17a6688472c889b7bf~mv2_d_2777_1254_s_2.png/v1/fill/w_710,h_320,al_c,q_85,usm_0.66_1.00_0.01/logo_yellow_white.webp\" width=1000, height=450>\n",
    "<h3 style=\"text-align: center;\"><b>Физтех-Школа Прикладной математики и информатики (ФПМИ) МФТИ</b></h3>"
   ]
  },
  {
   "cell_type": "markdown",
   "metadata": {
    "id": "Kmb8UhIzOnfK"
   },
   "source": [
    "# Text Summarization\n",
    "\n",
    "Всем привет! Сегодня мы познакомимся с задачей суммаризации текста на примере генерации \"сжатых\" новостей. Рассмотрим некоторые базовые решения и познакомимся с архитектурами нейросетей для решения задачи.\n",
    "Датасет: gazeta.ru\n",
    "\n",
    "\n",
    "`Ноутбук создан на основе семинара Гусева Ильи на кафедре компьютерной лингвистики ABBYY МФТИ.`\n",
    "\n",
    "Загрузим датасет и необходимые библиотеки"
   ]
  },
  {
   "cell_type": "code",
   "execution_count": 1,
   "metadata": {
    "id": "OqkLTkFRfXvA"
   },
   "outputs": [],
   "source": [
    "!wget -q https://www.dropbox.com/s/43l702z5a5i2w8j/gazeta_train.txt\n",
    "!wget -q https://www.dropbox.com/s/k2egt3sug0hb185/gazeta_val.txt\n",
    "!wget -q https://www.dropbox.com/s/3gki5n5djs9w0v6/gazeta_test.txt"
   ]
  },
  {
   "cell_type": "code",
   "execution_count": 2,
   "metadata": {
    "colab": {
     "base_uri": "https://localhost:8080/"
    },
    "id": "SXS1sdYZCluU",
    "outputId": "05e943cb-8832-49fa-ae36-fc59df762606"
   },
   "outputs": [
    {
     "name": "stdout",
     "output_type": "stream",
     "text": [
      "\u001b[?25l\r",
      "\u001b[K     |██████                          | 10 kB 15.3 MB/s eta 0:00:01\r",
      "\u001b[K     |███████████▉                    | 20 kB 17.1 MB/s eta 0:00:01\r",
      "\u001b[K     |█████████████████▊              | 30 kB 19.8 MB/s eta 0:00:01\r",
      "\u001b[K     |███████████████████████▋        | 40 kB 20.5 MB/s eta 0:00:01\r",
      "\u001b[K     |█████████████████████████████▌  | 51 kB 5.6 MB/s eta 0:00:01\r",
      "\u001b[K     |████████████████████████████████| 55 kB 1.8 MB/s \n",
      "\u001b[K     |████████████████████████████████| 54 kB 2.9 MB/s \n",
      "\u001b[K     |████████████████████████████████| 8.2 MB 28.9 MB/s \n",
      "\u001b[?25h  Building wheel for summa (setup.py) ... \u001b[?25l\u001b[?25hdone\n"
     ]
    }
   ],
   "source": [
    "!pip -q install razdel networkx pymorphy2 nltk rouge==0.3.1 summa "
   ]
  },
  {
   "cell_type": "markdown",
   "metadata": {
    "id": "Wa0NfryxbPUP"
   },
   "source": [
    "## Dataset"
   ]
  },
  {
   "cell_type": "markdown",
   "metadata": {
    "id": "eesnclfDDV3F"
   },
   "source": [
    "Посмотрим на то, как устроен датасет"
   ]
  },
  {
   "cell_type": "code",
   "execution_count": 3,
   "metadata": {
    "colab": {
     "base_uri": "https://localhost:8080/"
    },
    "id": "Mz6CZYKQhnd-",
    "outputId": "9b4dc22f-759f-4cf1-d48e-70a6b8c70671"
   },
   "outputs": [
    {
     "name": "stdout",
     "output_type": "stream",
     "text": [
      "{\"url\": \"https://www.gazeta.ru/financial/2011/11/30/3852658.shtml\", \"text\": \"«По итогам 2011 года чистый отток может составить примерно $80 млрд, в следующем году — около $20 млрд. При этом мы ожидаем, что со второго полугодия 2012 года начнется приток капитала», — заявил «Интерфаксу» замминистра экономического развития Андрей Клепач. Официальные прогнозы по выводу капитала из России становятся все пессимистичными: еще летом власти полагали, что из страны уйдет не более $35 млрд, в сентябре Минэкономразвития назвал цифру $50 млрд, в начале ноября Центробанк пересмотрел оценку до $70 млрд. Очередное изменение прогноза было ожидаемо: по расчетам Центробанка , за январь — октябрь чистый отток капитала достиг $64 млрд, причем в последние месяцы он ускорился: в сентябре он составил $14 млрд, в октябре — $13 млрд против среднего ежемесячного оттока в $6—8 млрд в первом полугодии. «После октябрьских данных Минэкономразвития вынуждено было изменить оценку, настаивать на $70 млрд означало ожидать серьезного замедления оттока капитала на непонятно каких причинах», — говорит главный экономист BNP Paribas Юлия Цепляева. «В последние два месяца отток капитала ускорится, на декабрь приходится значительная часть выплат по внешним долгам, что приводит к усилению оттока, особенно если они не рефинансируются новыми кредитами», — соглашается главный экономист ФК «Открытие» Владимир Тихомиров. Прогнозируемый Минэкономразвития отток капитала — один из самых высоких за последние 20 лет. Больше ушло лишь в 2008 году на фоне разрастания финансового кризиса и российско-грузинской войны — $133,7 млрд. В кризисный 2009 год из России утекло $56,1 млрд. Главный фактор ускорения оттока капитала в 2011 году — нестабильность на внешних финансовых рынках и рост опасений относительно второй волны рецессии. «Это реакция на неуверенность, которую генерирует Европа с долговыми проблемами. В случае новой волны глобальной турбулентности Россия — одна из самых уязвимых стран», — говорит Цепляева. Еще одна причина — ослабление рубля. «Привлекательность вложений снижается на фоне того, что рубль перестал укрепляться, а ставки по депозитам достаточно низкие. В результате экспортеры не полностью возвращают экспортную выручку», — говорит Тихомиров. Внутри страны эксперты не видят особых причин для бегства капитала. «Ситуация выглядит достаточно позитивно, очень хорошие макроэкономические результаты за год, особенно на фоне других стран. С политической точки зрения все достаточно понятно и предсказуемо, итог выборов очевиден», — говорит экономист ИК «Тройка Диалог» Антон Струченевский. Тем не менее политический фактор играет роль. «Бизнесу важно не только, кто будет президентом, он ждет ясности с перестановками в правительстве. В наших условиях административный ресурс важнее всего для успешности бизнеса», — говорит Цепляева, добавляя, что отток капитала продолжится до завершения президентских выборов.\", \"title\": \"Прогноз не успевает за оттоком\", \"summary\": \"В 2011 году из России уйдет $80 млрд, считают в Минэкономразвития. Менее месяца назад Центробанк давал оценку $70 млрд, повысив первоначальный прогноз вдвое. Отток капитала из страны усиливается из-за кризиса в Европе, а в декабре российским компаниям выплачивать внешние долги. На движение капитала повлияли и выборы: несмотря на их предсказуемость, бизнес хочет ясности с перестановками в правительстве.\", \"date\": \"2011-11-30 18:33:39\"}\n",
      "52400\n",
      "5265\n",
      "5770\n"
     ]
    }
   ],
   "source": [
    "!head -n 1 gazeta_train.txt\n",
    "!cat gazeta_train.txt | wc -l\n",
    "!cat gazeta_val.txt | wc -l\n",
    "!cat gazeta_test.txt | wc -l"
   ]
  },
  {
   "cell_type": "code",
   "execution_count": 4,
   "metadata": {
    "id": "5pZ2UGS2DGjH"
   },
   "outputs": [],
   "source": [
    "import json\n",
    "import random\n",
    "\n",
    "def read_gazeta_records(file_name, shuffle=True, sort_by_date=False):\n",
    "    assert shuffle != sort_by_date\n",
    "    records = []\n",
    "    with open(file_name, \"r\") as r:\n",
    "        for line in r:\n",
    "            records.append(json.loads(line))\n",
    "    if sort_by_date:\n",
    "        records.sort(key=lambda x: x[\"date\"])\n",
    "    if shuffle:\n",
    "        random.shuffle\n",
    "    return records"
   ]
  },
  {
   "cell_type": "code",
   "execution_count": 5,
   "metadata": {
    "id": "GNDp-BunEA91"
   },
   "outputs": [],
   "source": [
    "train_records = read_gazeta_records(\"gazeta_train.txt\")\n",
    "val_records = read_gazeta_records(\"gazeta_val.txt\")\n",
    "test_records = read_gazeta_records(\"gazeta_test.txt\")"
   ]
  },
  {
   "cell_type": "code",
   "execution_count": 6,
   "metadata": {
    "id": "397gjsNfFBZ_"
   },
   "outputs": [],
   "source": [
    "from nltk.translate.bleu_score import corpus_bleu\n",
    "from rouge import Rouge\n",
    "\n",
    "def calc_scores(references, predictions, metric=\"all\"):\n",
    "    print(\"Count:\", len(predictions))\n",
    "    print(\"Ref:\", references[-1])\n",
    "    print(\"Hyp:\", predictions[-1])\n",
    "\n",
    "    if metric in (\"bleu\", \"all\"):\n",
    "        print(\"BLEU: \", corpus_bleu([[r] for r in references], predictions))\n",
    "    if metric in (\"rouge\", \"all\"):\n",
    "        rouge = Rouge()\n",
    "        scores = rouge.get_scores(predictions, references, avg=True)\n",
    "        print(\"ROUGE: \", scores)"
   ]
  },
  {
   "cell_type": "markdown",
   "metadata": {
    "id": "aaJKNsUGFBaA"
   },
   "source": [
    "## Extractive RNN"
   ]
  },
  {
   "cell_type": "markdown",
   "metadata": {
    "id": "l3izlm8HFBaC"
   },
   "source": [
    "### BPE\n",
    "Для начала сделаем BPE токенизацию"
   ]
  },
  {
   "cell_type": "code",
   "execution_count": 7,
   "metadata": {
    "colab": {
     "base_uri": "https://localhost:8080/"
    },
    "id": "2DMVtloWFBaC",
    "outputId": "ea698df9-b762-4187-d07a-dfda977c0189"
   },
   "outputs": [
    {
     "name": "stdout",
     "output_type": "stream",
     "text": [
      "Collecting youtokentome\n",
      "  Downloading youtokentome-1.0.6-cp37-cp37m-manylinux2010_x86_64.whl (1.7 MB)\n",
      "\u001b[?25l\r",
      "\u001b[K     |▏                               | 10 kB 18.0 MB/s eta 0:00:01\r",
      "\u001b[K     |▍                               | 20 kB 19.7 MB/s eta 0:00:01\r",
      "\u001b[K     |▋                               | 30 kB 21.6 MB/s eta 0:00:01\r",
      "\u001b[K     |▊                               | 40 kB 22.6 MB/s eta 0:00:01\r",
      "\u001b[K     |█                               | 51 kB 6.3 MB/s eta 0:00:01\r",
      "\u001b[K     |█▏                              | 61 kB 6.7 MB/s eta 0:00:01\r",
      "\u001b[K     |█▍                              | 71 kB 5.9 MB/s eta 0:00:01\r",
      "\u001b[K     |█▌                              | 81 kB 6.7 MB/s eta 0:00:01\r",
      "\u001b[K     |█▊                              | 92 kB 6.9 MB/s eta 0:00:01\r",
      "\u001b[K     |██                              | 102 kB 5.6 MB/s eta 0:00:01\r",
      "\u001b[K     |██                              | 112 kB 5.6 MB/s eta 0:00:01\r",
      "\u001b[K     |██▎                             | 122 kB 5.6 MB/s eta 0:00:01\r",
      "\u001b[K     |██▌                             | 133 kB 5.6 MB/s eta 0:00:01\r",
      "\u001b[K     |██▊                             | 143 kB 5.6 MB/s eta 0:00:01\r",
      "\u001b[K     |██▉                             | 153 kB 5.6 MB/s eta 0:00:01\r",
      "\u001b[K     |███                             | 163 kB 5.6 MB/s eta 0:00:01\r",
      "\u001b[K     |███▎                            | 174 kB 5.6 MB/s eta 0:00:01\r",
      "\u001b[K     |███▌                            | 184 kB 5.6 MB/s eta 0:00:01\r",
      "\u001b[K     |███▋                            | 194 kB 5.6 MB/s eta 0:00:01\r",
      "\u001b[K     |███▉                            | 204 kB 5.6 MB/s eta 0:00:01\r",
      "\u001b[K     |████                            | 215 kB 5.6 MB/s eta 0:00:01\r",
      "\u001b[K     |████▏                           | 225 kB 5.6 MB/s eta 0:00:01\r",
      "\u001b[K     |████▍                           | 235 kB 5.6 MB/s eta 0:00:01\r",
      "\u001b[K     |████▋                           | 245 kB 5.6 MB/s eta 0:00:01\r",
      "\u001b[K     |████▉                           | 256 kB 5.6 MB/s eta 0:00:01\r",
      "\u001b[K     |█████                           | 266 kB 5.6 MB/s eta 0:00:01\r",
      "\u001b[K     |█████▏                          | 276 kB 5.6 MB/s eta 0:00:01\r",
      "\u001b[K     |█████▍                          | 286 kB 5.6 MB/s eta 0:00:01\r",
      "\u001b[K     |█████▌                          | 296 kB 5.6 MB/s eta 0:00:01\r",
      "\u001b[K     |█████▊                          | 307 kB 5.6 MB/s eta 0:00:01\r",
      "\u001b[K     |██████                          | 317 kB 5.6 MB/s eta 0:00:01\r",
      "\u001b[K     |██████▏                         | 327 kB 5.6 MB/s eta 0:00:01\r",
      "\u001b[K     |██████▎                         | 337 kB 5.6 MB/s eta 0:00:01\r",
      "\u001b[K     |██████▌                         | 348 kB 5.6 MB/s eta 0:00:01\r",
      "\u001b[K     |██████▊                         | 358 kB 5.6 MB/s eta 0:00:01\r",
      "\u001b[K     |███████                         | 368 kB 5.6 MB/s eta 0:00:01\r",
      "\u001b[K     |███████                         | 378 kB 5.6 MB/s eta 0:00:01\r",
      "\u001b[K     |███████▎                        | 389 kB 5.6 MB/s eta 0:00:01\r",
      "\u001b[K     |███████▌                        | 399 kB 5.6 MB/s eta 0:00:01\r",
      "\u001b[K     |███████▋                        | 409 kB 5.6 MB/s eta 0:00:01\r",
      "\u001b[K     |███████▉                        | 419 kB 5.6 MB/s eta 0:00:01\r",
      "\u001b[K     |████████                        | 430 kB 5.6 MB/s eta 0:00:01\r",
      "\u001b[K     |████████▎                       | 440 kB 5.6 MB/s eta 0:00:01\r",
      "\u001b[K     |████████▍                       | 450 kB 5.6 MB/s eta 0:00:01\r",
      "\u001b[K     |████████▋                       | 460 kB 5.6 MB/s eta 0:00:01\r",
      "\u001b[K     |████████▉                       | 471 kB 5.6 MB/s eta 0:00:01\r",
      "\u001b[K     |█████████                       | 481 kB 5.6 MB/s eta 0:00:01\r",
      "\u001b[K     |█████████▏                      | 491 kB 5.6 MB/s eta 0:00:01\r",
      "\u001b[K     |█████████▍                      | 501 kB 5.6 MB/s eta 0:00:01\r",
      "\u001b[K     |█████████▋                      | 512 kB 5.6 MB/s eta 0:00:01\r",
      "\u001b[K     |█████████▊                      | 522 kB 5.6 MB/s eta 0:00:01\r",
      "\u001b[K     |██████████                      | 532 kB 5.6 MB/s eta 0:00:01\r",
      "\u001b[K     |██████████▏                     | 542 kB 5.6 MB/s eta 0:00:01\r",
      "\u001b[K     |██████████▍                     | 552 kB 5.6 MB/s eta 0:00:01\r",
      "\u001b[K     |██████████▌                     | 563 kB 5.6 MB/s eta 0:00:01\r",
      "\u001b[K     |██████████▊                     | 573 kB 5.6 MB/s eta 0:00:01\r",
      "\u001b[K     |███████████                     | 583 kB 5.6 MB/s eta 0:00:01\r",
      "\u001b[K     |███████████                     | 593 kB 5.6 MB/s eta 0:00:01\r",
      "\u001b[K     |███████████▎                    | 604 kB 5.6 MB/s eta 0:00:01\r",
      "\u001b[K     |███████████▌                    | 614 kB 5.6 MB/s eta 0:00:01\r",
      "\u001b[K     |███████████▊                    | 624 kB 5.6 MB/s eta 0:00:01\r",
      "\u001b[K     |███████████▉                    | 634 kB 5.6 MB/s eta 0:00:01\r",
      "\u001b[K     |████████████                    | 645 kB 5.6 MB/s eta 0:00:01\r",
      "\u001b[K     |████████████▎                   | 655 kB 5.6 MB/s eta 0:00:01\r",
      "\u001b[K     |████████████▍                   | 665 kB 5.6 MB/s eta 0:00:01\r",
      "\u001b[K     |████████████▋                   | 675 kB 5.6 MB/s eta 0:00:01\r",
      "\u001b[K     |████████████▉                   | 686 kB 5.6 MB/s eta 0:00:01\r",
      "\u001b[K     |█████████████                   | 696 kB 5.6 MB/s eta 0:00:01\r",
      "\u001b[K     |█████████████▏                  | 706 kB 5.6 MB/s eta 0:00:01\r",
      "\u001b[K     |█████████████▍                  | 716 kB 5.6 MB/s eta 0:00:01\r",
      "\u001b[K     |█████████████▋                  | 727 kB 5.6 MB/s eta 0:00:01\r",
      "\u001b[K     |█████████████▉                  | 737 kB 5.6 MB/s eta 0:00:01\r",
      "\u001b[K     |██████████████                  | 747 kB 5.6 MB/s eta 0:00:01\r",
      "\u001b[K     |██████████████▏                 | 757 kB 5.6 MB/s eta 0:00:01\r",
      "\u001b[K     |██████████████▍                 | 768 kB 5.6 MB/s eta 0:00:01\r",
      "\u001b[K     |██████████████▌                 | 778 kB 5.6 MB/s eta 0:00:01\r",
      "\u001b[K     |██████████████▊                 | 788 kB 5.6 MB/s eta 0:00:01\r",
      "\u001b[K     |███████████████                 | 798 kB 5.6 MB/s eta 0:00:01\r",
      "\u001b[K     |███████████████▏                | 808 kB 5.6 MB/s eta 0:00:01\r",
      "\u001b[K     |███████████████▎                | 819 kB 5.6 MB/s eta 0:00:01\r",
      "\u001b[K     |███████████████▌                | 829 kB 5.6 MB/s eta 0:00:01\r",
      "\u001b[K     |███████████████▊                | 839 kB 5.6 MB/s eta 0:00:01\r",
      "\u001b[K     |███████████████▉                | 849 kB 5.6 MB/s eta 0:00:01\r",
      "\u001b[K     |████████████████                | 860 kB 5.6 MB/s eta 0:00:01\r",
      "\u001b[K     |████████████████▎               | 870 kB 5.6 MB/s eta 0:00:01\r",
      "\u001b[K     |████████████████▌               | 880 kB 5.6 MB/s eta 0:00:01\r",
      "\u001b[K     |████████████████▋               | 890 kB 5.6 MB/s eta 0:00:01\r",
      "\u001b[K     |████████████████▉               | 901 kB 5.6 MB/s eta 0:00:01\r",
      "\u001b[K     |█████████████████               | 911 kB 5.6 MB/s eta 0:00:01\r",
      "\u001b[K     |█████████████████▎              | 921 kB 5.6 MB/s eta 0:00:01\r",
      "\u001b[K     |█████████████████▍              | 931 kB 5.6 MB/s eta 0:00:01\r",
      "\u001b[K     |█████████████████▋              | 942 kB 5.6 MB/s eta 0:00:01\r",
      "\u001b[K     |█████████████████▉              | 952 kB 5.6 MB/s eta 0:00:01\r",
      "\u001b[K     |██████████████████              | 962 kB 5.6 MB/s eta 0:00:01\r",
      "\u001b[K     |██████████████████▏             | 972 kB 5.6 MB/s eta 0:00:01\r",
      "\u001b[K     |██████████████████▍             | 983 kB 5.6 MB/s eta 0:00:01\r",
      "\u001b[K     |██████████████████▋             | 993 kB 5.6 MB/s eta 0:00:01\r",
      "\u001b[K     |██████████████████▊             | 1.0 MB 5.6 MB/s eta 0:00:01\r",
      "\u001b[K     |███████████████████             | 1.0 MB 5.6 MB/s eta 0:00:01\r",
      "\u001b[K     |███████████████████▏            | 1.0 MB 5.6 MB/s eta 0:00:01\r",
      "\u001b[K     |███████████████████▎            | 1.0 MB 5.6 MB/s eta 0:00:01\r",
      "\u001b[K     |███████████████████▌            | 1.0 MB 5.6 MB/s eta 0:00:01\r",
      "\u001b[K     |███████████████████▊            | 1.1 MB 5.6 MB/s eta 0:00:01\r",
      "\u001b[K     |████████████████████            | 1.1 MB 5.6 MB/s eta 0:00:01\r",
      "\u001b[K     |████████████████████            | 1.1 MB 5.6 MB/s eta 0:00:01\r",
      "\u001b[K     |████████████████████▎           | 1.1 MB 5.6 MB/s eta 0:00:01\r",
      "\u001b[K     |████████████████████▌           | 1.1 MB 5.6 MB/s eta 0:00:01\r",
      "\u001b[K     |████████████████████▊           | 1.1 MB 5.6 MB/s eta 0:00:01\r",
      "\u001b[K     |████████████████████▉           | 1.1 MB 5.6 MB/s eta 0:00:01\r",
      "\u001b[K     |█████████████████████           | 1.1 MB 5.6 MB/s eta 0:00:01\r",
      "\u001b[K     |█████████████████████▎          | 1.1 MB 5.6 MB/s eta 0:00:01\r",
      "\u001b[K     |█████████████████████▍          | 1.1 MB 5.6 MB/s eta 0:00:01\r",
      "\u001b[K     |█████████████████████▋          | 1.2 MB 5.6 MB/s eta 0:00:01\r",
      "\u001b[K     |█████████████████████▉          | 1.2 MB 5.6 MB/s eta 0:00:01\r",
      "\u001b[K     |██████████████████████          | 1.2 MB 5.6 MB/s eta 0:00:01\r",
      "\u001b[K     |██████████████████████▏         | 1.2 MB 5.6 MB/s eta 0:00:01\r",
      "\u001b[K     |██████████████████████▍         | 1.2 MB 5.6 MB/s eta 0:00:01\r",
      "\u001b[K     |██████████████████████▋         | 1.2 MB 5.6 MB/s eta 0:00:01\r",
      "\u001b[K     |██████████████████████▊         | 1.2 MB 5.6 MB/s eta 0:00:01\r",
      "\u001b[K     |███████████████████████         | 1.2 MB 5.6 MB/s eta 0:00:01\r",
      "\u001b[K     |███████████████████████▏        | 1.2 MB 5.6 MB/s eta 0:00:01\r",
      "\u001b[K     |███████████████████████▍        | 1.2 MB 5.6 MB/s eta 0:00:01\r",
      "\u001b[K     |███████████████████████▌        | 1.3 MB 5.6 MB/s eta 0:00:01\r",
      "\u001b[K     |███████████████████████▊        | 1.3 MB 5.6 MB/s eta 0:00:01\r",
      "\u001b[K     |████████████████████████        | 1.3 MB 5.6 MB/s eta 0:00:01\r",
      "\u001b[K     |████████████████████████▏       | 1.3 MB 5.6 MB/s eta 0:00:01\r",
      "\u001b[K     |████████████████████████▎       | 1.3 MB 5.6 MB/s eta 0:00:01\r",
      "\u001b[K     |████████████████████████▌       | 1.3 MB 5.6 MB/s eta 0:00:01\r",
      "\u001b[K     |████████████████████████▊       | 1.3 MB 5.6 MB/s eta 0:00:01\r",
      "\u001b[K     |████████████████████████▉       | 1.3 MB 5.6 MB/s eta 0:00:01\r",
      "\u001b[K     |█████████████████████████       | 1.3 MB 5.6 MB/s eta 0:00:01\r",
      "\u001b[K     |█████████████████████████▎      | 1.4 MB 5.6 MB/s eta 0:00:01\r",
      "\u001b[K     |█████████████████████████▌      | 1.4 MB 5.6 MB/s eta 0:00:01\r",
      "\u001b[K     |█████████████████████████▋      | 1.4 MB 5.6 MB/s eta 0:00:01\r",
      "\u001b[K     |█████████████████████████▉      | 1.4 MB 5.6 MB/s eta 0:00:01\r",
      "\u001b[K     |██████████████████████████      | 1.4 MB 5.6 MB/s eta 0:00:01\r",
      "\u001b[K     |██████████████████████████▏     | 1.4 MB 5.6 MB/s eta 0:00:01\r",
      "\u001b[K     |██████████████████████████▍     | 1.4 MB 5.6 MB/s eta 0:00:01\r",
      "\u001b[K     |██████████████████████████▋     | 1.4 MB 5.6 MB/s eta 0:00:01\r",
      "\u001b[K     |██████████████████████████▉     | 1.4 MB 5.6 MB/s eta 0:00:01\r",
      "\u001b[K     |███████████████████████████     | 1.4 MB 5.6 MB/s eta 0:00:01\r",
      "\u001b[K     |███████████████████████████▏    | 1.5 MB 5.6 MB/s eta 0:00:01\r",
      "\u001b[K     |███████████████████████████▍    | 1.5 MB 5.6 MB/s eta 0:00:01\r",
      "\u001b[K     |███████████████████████████▋    | 1.5 MB 5.6 MB/s eta 0:00:01\r",
      "\u001b[K     |███████████████████████████▊    | 1.5 MB 5.6 MB/s eta 0:00:01\r",
      "\u001b[K     |████████████████████████████    | 1.5 MB 5.6 MB/s eta 0:00:01\r",
      "\u001b[K     |████████████████████████████▏   | 1.5 MB 5.6 MB/s eta 0:00:01\r",
      "\u001b[K     |████████████████████████████▎   | 1.5 MB 5.6 MB/s eta 0:00:01\r",
      "\u001b[K     |████████████████████████████▌   | 1.5 MB 5.6 MB/s eta 0:00:01\r",
      "\u001b[K     |████████████████████████████▊   | 1.5 MB 5.6 MB/s eta 0:00:01\r",
      "\u001b[K     |█████████████████████████████   | 1.5 MB 5.6 MB/s eta 0:00:01\r",
      "\u001b[K     |█████████████████████████████   | 1.6 MB 5.6 MB/s eta 0:00:01\r",
      "\u001b[K     |█████████████████████████████▎  | 1.6 MB 5.6 MB/s eta 0:00:01\r",
      "\u001b[K     |█████████████████████████████▌  | 1.6 MB 5.6 MB/s eta 0:00:01\r",
      "\u001b[K     |█████████████████████████████▋  | 1.6 MB 5.6 MB/s eta 0:00:01\r",
      "\u001b[K     |█████████████████████████████▉  | 1.6 MB 5.6 MB/s eta 0:00:01\r",
      "\u001b[K     |██████████████████████████████  | 1.6 MB 5.6 MB/s eta 0:00:01\r",
      "\u001b[K     |██████████████████████████████▎ | 1.6 MB 5.6 MB/s eta 0:00:01\r",
      "\u001b[K     |██████████████████████████████▍ | 1.6 MB 5.6 MB/s eta 0:00:01\r",
      "\u001b[K     |██████████████████████████████▋ | 1.6 MB 5.6 MB/s eta 0:00:01\r",
      "\u001b[K     |██████████████████████████████▉ | 1.6 MB 5.6 MB/s eta 0:00:01\r",
      "\u001b[K     |███████████████████████████████ | 1.7 MB 5.6 MB/s eta 0:00:01\r",
      "\u001b[K     |███████████████████████████████▏| 1.7 MB 5.6 MB/s eta 0:00:01\r",
      "\u001b[K     |███████████████████████████████▍| 1.7 MB 5.6 MB/s eta 0:00:01\r",
      "\u001b[K     |███████████████████████████████▋| 1.7 MB 5.6 MB/s eta 0:00:01\r",
      "\u001b[K     |███████████████████████████████▊| 1.7 MB 5.6 MB/s eta 0:00:01\r",
      "\u001b[K     |████████████████████████████████| 1.7 MB 5.6 MB/s eta 0:00:01\r",
      "\u001b[K     |████████████████████████████████| 1.7 MB 5.6 MB/s \n",
      "\u001b[?25hRequirement already satisfied: Click>=7.0 in /usr/local/lib/python3.7/dist-packages (from youtokentome) (7.1.2)\n",
      "Installing collected packages: youtokentome\n",
      "Successfully installed youtokentome-1.0.6\n"
     ]
    }
   ],
   "source": [
    "!pip install youtokentome"
   ]
  },
  {
   "cell_type": "code",
   "execution_count": 8,
   "metadata": {
    "id": "Yg9T6q0wFBaF"
   },
   "outputs": [],
   "source": [
    "import youtokentome as yttm\n",
    "\n",
    "def train_bpe(records, model_path, model_type=\"bpe\", vocab_size=10000, lower=True):\n",
    "    temp_file_name = \"temp.txt\"\n",
    "    with open(temp_file_name, \"w\") as temp:\n",
    "        for record in records:\n",
    "            text, summary = record['text'], record['summary']\n",
    "            if lower:\n",
    "                summary = summary.lower()\n",
    "                text = text.lower()\n",
    "            if not text or not summary:\n",
    "                continue\n",
    "            temp.write(text + \"\\n\")\n",
    "            temp.write(summary + \"\\n\")\n",
    "    yttm.BPE.train(data=temp_file_name, vocab_size=vocab_size, model=model_path)\n",
    "\n",
    "train_bpe(train_records, \"BPE_model.bin\")"
   ]
  },
  {
   "cell_type": "markdown",
   "metadata": {
    "id": "jJFAJHTtFBaF"
   },
   "source": [
    "### Словарь\n",
    "Составим словарь для индексации токенов"
   ]
  },
  {
   "cell_type": "code",
   "execution_count": 9,
   "metadata": {
    "id": "MueXtatmFBaG"
   },
   "outputs": [],
   "source": [
    "bpe_processor = yttm.BPE('BPE_model.bin')\n",
    "vocabulary = bpe_processor.vocab()"
   ]
  },
  {
   "cell_type": "markdown",
   "metadata": {
    "id": "Z_C_p7tHFBaH"
   },
   "source": [
    "### Кэш oracle summary\n",
    "Закэшируем oracle summary, чтобы не пересчитывать их каждый раз"
   ]
  },
  {
   "cell_type": "code",
   "execution_count": 10,
   "metadata": {
    "colab": {
     "base_uri": "https://localhost:8080/",
     "height": 113,
     "referenced_widgets": [
      "bb7f0bdaad4b497d92c2dbc32a4680b1",
      "7bc9162f28694c73abc6908da563f5e0",
      "e0becacbdefb4af7bb0212cefd890c07",
      "6c16798d501e47d084700bfc6f0a6b61",
      "0f8071b37da14b61a98c5eba26bbffae",
      "ee1b38787ec04f30b1e8a069d2e40d37",
      "0f6d48a7b62c4dbc82b804fb9cef74e0",
      "be9536a7d970468cba09b255c13eb9ea",
      "ac79eafd35904ac19d1b241819b9c903",
      "ca5f7861664f4006a4438ff1c5c90161",
      "ded414c2aa114673b7c9977c4b12793f",
      "2254396367164ae6959df1cef209e88b",
      "04c660b9cd6a4b369886984141b39de4",
      "72bbf8a5e8d24fe29d18abdef82c0a6b",
      "cb93deb118ff445995ade31aac8d8d6e",
      "555e59221cfc4887b8cb3f82f1b1cac9",
      "3011f8a103fc4966b0b72968b6369ee4",
      "a4ba886f33a341b28b37f60ef4bf1ee0",
      "a38ef143881f466c9483c810aef14660",
      "4d7732681b2c4b65b19dde37e4f51932",
      "b155df41f2dc4f488802c415c50374af",
      "2085897fb83e4c30b0948816bc2a027f",
      "381578c2c99448e781d1d97222ea588d",
      "fd14659d1e054f159052ef95965e2ea5",
      "17ea93cf6d2446bfa2548e73fe4d5475",
      "2343d0795107412f8cb827ec6364aa87",
      "fcb55618687d4c0e8c31e5b10cadc281",
      "cebacb0a1d574350a0594076e3225b81",
      "8ea70accd7f549b98f712ea14bb7f3b7",
      "e1b9e4402ed2490aa05070e44fde3d90",
      "139b99e291944eb28dca287eddab0a78",
      "2ddb46de38594c56a907ca40be8bb698",
      "3c9d4445cd8a42a2be3d6ae14cd75310"
     ]
    },
    "id": "Fp23tuPbFBaH",
    "outputId": "25447718-2a98-426e-eec3-d6d5855eaca1"
   },
   "outputs": [
    {
     "data": {
      "application/vnd.jupyter.widget-view+json": {
       "model_id": "bb7f0bdaad4b497d92c2dbc32a4680b1",
       "version_major": 2,
       "version_minor": 0
      },
      "text/plain": [
       "0it [00:00, ?it/s]"
      ]
     },
     "metadata": {},
     "output_type": "display_data"
    },
    {
     "data": {
      "application/vnd.jupyter.widget-view+json": {
       "model_id": "2254396367164ae6959df1cef209e88b",
       "version_major": 2,
       "version_minor": 0
      },
      "text/plain": [
       "0it [00:00, ?it/s]"
      ]
     },
     "metadata": {},
     "output_type": "display_data"
    },
    {
     "data": {
      "application/vnd.jupyter.widget-view+json": {
       "model_id": "381578c2c99448e781d1d97222ea588d",
       "version_major": 2,
       "version_minor": 0
      },
      "text/plain": [
       "0it [00:00, ?it/s]"
      ]
     },
     "metadata": {},
     "output_type": "display_data"
    }
   ],
   "source": [
    "from rouge import Rouge\n",
    "import razdel\n",
    "from tqdm.notebook import tqdm\n",
    "\n",
    "import copy\n",
    "\n",
    "def build_oracle_summary_greedy(text, gold_summary, calc_score, lower=True, max_sentences=30):\n",
    "    '''\n",
    "    Жадное построение oracle summary\n",
    "    '''\n",
    "    gold_summary = gold_summary.lower() if lower else gold_summary\n",
    "    # Делим текст на предложения\n",
    "    sentences = [sentence.text.lower() if lower else sentence.text for sentence in razdel.sentenize(text)][:max_sentences]\n",
    "    n_sentences = len(sentences)\n",
    "    oracle_summary_sentences = set()\n",
    "    \n",
    "    score = -1.0\n",
    "    summaries = []\n",
    "    for _ in range(n_sentences):\n",
    "        for i in range(n_sentences):\n",
    "            if i in oracle_summary_sentences:\n",
    "                continue\n",
    "            current_summary_sentences = copy.copy(oracle_summary_sentences)\n",
    "            # Добавляем какое-то предложения к уже существующему summary\n",
    "            current_summary_sentences.add(i)\n",
    "            current_summary = \" \".join([sentences[index] for index in sorted(list(current_summary_sentences))])\n",
    "            # Считаем метрики\n",
    "            current_score = calc_score(current_summary, gold_summary)\n",
    "            summaries.append((current_score, current_summary_sentences))\n",
    "        # Если получилось улучшить метрики с добавлением какого-либо предложения, то пробуем добавить ещё\n",
    "        # Иначе на этом заканчиваем\n",
    "        best_summary_score, best_summary_sentences = max(summaries)\n",
    "        if best_summary_score <= score:\n",
    "            break\n",
    "        oracle_summary_sentences = best_summary_sentences\n",
    "        score = best_summary_score\n",
    "    oracle_summary = \" \".join([sentences[index] for index in sorted(list(oracle_summary_sentences))])\n",
    "    return oracle_summary, oracle_summary_sentences\n",
    "\n",
    "def calc_single_score(pred_summary, gold_summary, rouge):\n",
    "    return rouge.get_scores([pred_summary], [gold_summary], avg=True)['rouge-2']['f']\n",
    "\n",
    "def add_oracle_summary_to_records(records, max_sentences=30, lower=True, nrows=1000):\n",
    "    rouge = Rouge()\n",
    "    for i, record in tqdm(enumerate(records)):\n",
    "        if i >= nrows:\n",
    "            break\n",
    "        text = record[\"text\"]\n",
    "        summary = record[\"summary\"]\n",
    "\n",
    "        summary = summary.lower() if lower else summary\n",
    "        sentences = [sentence.text.lower() if lower else sentence.text for sentence in razdel.sentenize(text)][:max_sentences]\n",
    "        oracle_summary, sentences_indicies = build_oracle_summary_greedy(text, summary, calc_score=lambda x, y: calc_single_score(x, y, rouge),\n",
    "                                                                         lower=lower, max_sentences=max_sentences)\n",
    "        record[\"sentences\"] = sentences\n",
    "        record[\"oracle_sentences\"] = list(sentences_indicies)\n",
    "        record[\"oracle_summary\"] = oracle_summary\n",
    "\n",
    "    return records[:nrows]\n",
    "\n",
    "ext_train_records = add_oracle_summary_to_records(train_records, nrows=2048)\n",
    "ext_val_records = add_oracle_summary_to_records(val_records, nrows=256)\n",
    "ext_test_records = add_oracle_summary_to_records(test_records, nrows=256)"
   ]
  },
  {
   "cell_type": "markdown",
   "metadata": {
    "id": "UlXXc8qUHC5m"
   },
   "source": [
    "### Составление батчей"
   ]
  },
  {
   "cell_type": "code",
   "execution_count": 11,
   "metadata": {
    "colab": {
     "base_uri": "https://localhost:8080/"
    },
    "id": "YATQKCuqHPo3",
    "outputId": "5a15ba8a-4a5a-4e78-d968-d1c915e48745"
   },
   "outputs": [
    {
     "data": {
      "text/plain": [
       "device(type='cuda')"
      ]
     },
     "execution_count": 11,
     "metadata": {},
     "output_type": "execute_result"
    }
   ],
   "source": [
    "import torch\n",
    "device = torch.device('cuda' if torch.cuda.is_available() else 'cpu')\n",
    "device"
   ]
  },
  {
   "cell_type": "code",
   "execution_count": 12,
   "metadata": {
    "id": "MNyxstTChK3C"
   },
   "outputs": [],
   "source": [
    "import random\n",
    "import math\n",
    "import razdel\n",
    "import torch\n",
    "import numpy as np\n",
    "from rouge import Rouge\n",
    "\n",
    "\n",
    "class BatchIterator():\n",
    "    def __init__(self, records, vocabulary, batch_size, bpe_processor, shuffle=True, lower=True, max_sentences=30, max_sentence_length=50, device=torch.device('cpu')):\n",
    "        self.records = records\n",
    "        self.num_samples = len(records)\n",
    "        self.batch_size = batch_size\n",
    "        self.bpe_processor = bpe_processor\n",
    "        self.shuffle = shuffle\n",
    "        self.batches_count = int(math.ceil(self.num_samples / batch_size))\n",
    "        self.lower = lower\n",
    "        self.rouge = Rouge()\n",
    "        self.vocabulary = vocabulary\n",
    "        self.max_sentences = max_sentences\n",
    "        self.max_sentence_length = max_sentence_length\n",
    "        self.device = device\n",
    "        \n",
    "    def __len__(self):\n",
    "        return self.batches_count\n",
    "    \n",
    "    def __iter__(self):\n",
    "        indices = np.arange(self.num_samples)\n",
    "        if self.shuffle:\n",
    "            np.random.shuffle(indices)\n",
    "\n",
    "        for start in range(0, self.num_samples, self.batch_size):\n",
    "            end = min(start + self.batch_size, self.num_samples)\n",
    "            batch_indices = indices[start:end]\n",
    "\n",
    "            batch_inputs = []\n",
    "            batch_outputs = []\n",
    "            max_sentence_length = 0\n",
    "            max_sentences = 0\n",
    "            batch_records = []\n",
    "\n",
    "            for data_ind in batch_indices:\n",
    "                \n",
    "                record = self.records[data_ind]\n",
    "                batch_records.append(record)\n",
    "                text = record[\"text\"]\n",
    "                summary = record[\"summary\"]\n",
    "                summary = summary.lower() if self.lower else summary\n",
    "\n",
    "                if \"sentences\" not in record:\n",
    "                    sentences = [sentence.text.lower() if self.lower else sentence.text for sentence in razdel.sentenize(text)][:self.max_sentences]\n",
    "                else:\n",
    "                    sentences = record[\"sentences\"]\n",
    "                max_sentences = max(len(sentences), max_sentences)\n",
    "                \n",
    "                # номера предложений, которые в нашем саммари\n",
    "                if \"oracle_sentences\" not in record:\n",
    "                    calc_score = lambda x, y: calc_single_score(x, y, self.rouge)\n",
    "                    sentences_indicies = build_oracle_summary_greedy(text, summary, calc_score=calc_score, lower=self.lower, max_sentences=self.max_sentences)[1]\n",
    "                else:   \n",
    "                    sentences_indicies = record[\"oracle_sentences\"]\n",
    "                \n",
    "                # inputs - индексы слов в предложении\n",
    "                inputs = [bpe_processor.encode(sentence)[:self.max_sentence_length] for sentence in sentences]\n",
    "                max_sentence_length = max(max_sentence_length, max([len(tokens) for tokens in inputs]))\n",
    "                \n",
    "                # получение метки класса предложения\n",
    "                outputs = [int(i in sentences_indicies) for i in range(len(sentences))]\n",
    "                batch_inputs.append(inputs)\n",
    "                batch_outputs.append(outputs)\n",
    "\n",
    "            tensor_inputs = torch.zeros((self.batch_size, max_sentences, max_sentence_length), dtype=torch.long, device=self.device)\n",
    "            # we add index 2 for padding\n",
    "            # YOUR CODE\n",
    "            # tensor_outputs = torch.zeros((self.batch_size, max_sentences), dtype=torch.float32, device=self.device)\n",
    "            tensor_outputs = torch.full((self.batch_size, max_sentences), 2, dtype=torch.long, device=self.device)\n",
    "\n",
    "            for i, inputs in enumerate(batch_inputs):\n",
    "                for j, sentence_tokens in enumerate(inputs):\n",
    "                    tensor_inputs[i][j][:len(sentence_tokens)] = torch.tensor(sentence_tokens, dtype=torch.int64)\n",
    "\n",
    "            for i, outputs in enumerate(batch_outputs):\n",
    "                tensor_outputs[i][:len(outputs)] = torch.LongTensor(outputs)\n",
    "\n",
    "            tensor_outputs = tensor_outputs.long()\n",
    "            yield {\n",
    "                'inputs': tensor_inputs,\n",
    "                'outputs': tensor_outputs,\n",
    "                'records': batch_records\n",
    "            }"
   ]
  },
  {
   "cell_type": "code",
   "execution_count": 13,
   "metadata": {
    "id": "5ug9MIObdi03"
   },
   "outputs": [],
   "source": [
    "train_iterator = BatchIterator(ext_train_records, vocabulary, 32, bpe_processor, device=device)\n",
    "val_iterator = BatchIterator(ext_val_records, vocabulary, 32, bpe_processor, device=device)\n",
    "test_iterator = BatchIterator(ext_test_records, vocabulary, 32, bpe_processor, device=device)"
   ]
  },
  {
   "cell_type": "markdown",
   "metadata": {
    "id": "yPlJMg0_dQM-"
   },
   "source": [
    "## Extractor -  SummaRuNNer\n",
    " https://arxiv.org/pdf/1611.04230.pdf\n"
   ]
  },
  {
   "cell_type": "markdown",
   "metadata": {
    "id": "4BSsnfe4t1uK"
   },
   "source": [
    "### Homework\n",
    "\n",
    "* В данной реализации в `outputs` в качестве padding используется индекс 0. Измените в функции \\_\\_iter__ индекс padding, чтобы он не совпадал с классом 0 или 1, например, 2.\n",
    "* В качестве criterion используйте `CrossEntropyLoss` вместо `BCEWithLogitsLoss`\n",
    "* Из-за смены criterion, вы уже должны подавать на вход criterion не одно число, а logits для каждого класса. Перед подачей logits вы можете отфильтровать предсказания для класса padding. В этом пункте вам придется изменять файл `train_model.py`, а именно функциии `train` и `evaluate`.\n",
    "* Используйте два варианта обучения: c весами в `CrossEntropyLoss` и без\n",
    "* Также сравните `inference`, когда вы ранжируете logits, и когда вы выбирате предложения, у котрых logits > 0, в двух вариантах обучения. \n",
    "* Реализуйте дополнительно характеристику предложения `novelty`. Как влияет добавление `novelty` на качество summary?\n",
    "* Постарайтесь улучшить качество модели, полученной на семинаре: $BLEU \\approx 0.45$"
   ]
  },
  {
   "cell_type": "code",
   "execution_count": 140,
   "metadata": {
    "id": "iW7iS76KeEdO"
   },
   "outputs": [],
   "source": [
    "import numpy as np\n",
    "\n",
    "import torch\n",
    "import torch.nn as nn\n",
    "import torch.nn.functional as F\n",
    "import torch.optim as optim\n",
    "from torch.autograd import Variable\n",
    "\n",
    "from torch.nn.utils.rnn import pack_padded_sequence as pack\n",
    "from torch.nn.utils.rnn import pad_packed_sequence as unpack\n",
    "\n",
    "class SentenceEncoderRNN(nn.Module):\n",
    "    def __init__(self, input_size, embedding_dim, hidden_size, n_layers=3, dropout=0.3, bidirectional=True):\n",
    "        super().__init__()\n",
    "\n",
    "        num_directions = 2 if bidirectional else 1\n",
    "        assert hidden_size % num_directions == 0\n",
    "        hidden_size = hidden_size // num_directions\n",
    "\n",
    "        self.embedding_dim = embedding_dim\n",
    "        self.input_size = input_size\n",
    "        self.hidden_size = hidden_size\n",
    "        self.n_layers = n_layers\n",
    "        self.dropout = dropout\n",
    "        self.bidirectional = bidirectional\n",
    "\n",
    "        self.embedding_layer = nn.Embedding(input_size, embedding_dim)\n",
    "        self.rnn_layer = nn.LSTM(embedding_dim, hidden_size, n_layers, dropout=dropout, bidirectional=bidirectional, batch_first=True)\n",
    "        self.dropout_layer = nn.Dropout(dropout)\n",
    "\n",
    "    def forward(self, inputs, hidden=None):\n",
    "        embedded = self.dropout_layer(self.embedding_layer(inputs))\n",
    "        outputs, _ = self.rnn_layer(embedded, hidden)\n",
    "        sentences_embeddings = torch.mean(outputs, 1)\n",
    "        # [batch_size, hidden_size]\n",
    "        return sentences_embeddings\n",
    "\n",
    "class SentenceTaggerRNN(nn.Module):\n",
    "    def __init__(self,\n",
    "                 vocabulary_size,\n",
    "                 use_content=True,\n",
    "                 use_salience=True,\n",
    "                 use_novelty=True,\n",
    "                 token_embedding_dim=128,\n",
    "                 sentence_encoder_hidden_size=256,\n",
    "                 hidden_size=256,\n",
    "                 bidirectional=True,\n",
    "                 sentence_encoder_n_layers=2,\n",
    "                 sentence_encoder_dropout=0.3,\n",
    "                 sentence_encoder_bidirectional=True,\n",
    "                 n_layers=2,\n",
    "                 dropout=0.3):\n",
    "        \n",
    "        super().__init__()\n",
    "\n",
    "        num_directions = 2 if bidirectional else 1\n",
    "        assert hidden_size % num_directions == 0\n",
    "        hidden_size = hidden_size // num_directions\n",
    "\n",
    "        self.hidden_size = hidden_size\n",
    "        self.n_layers = n_layers\n",
    "        self.dropout = dropout\n",
    "        self.bidirectional = bidirectional\n",
    "\n",
    "        self.sentence_encoder = SentenceEncoderRNN(vocabulary_size, token_embedding_dim,\n",
    "                                                   sentence_encoder_hidden_size, sentence_encoder_n_layers, \n",
    "                                                   sentence_encoder_dropout, sentence_encoder_bidirectional)\n",
    "        \n",
    "        self.rnn_layer = nn.LSTM(sentence_encoder_hidden_size, hidden_size, n_layers, dropout=dropout,\n",
    "                           bidirectional=bidirectional, batch_first=True)\n",
    "        \n",
    "        self.dropout_layer = nn.Dropout(dropout)\n",
    "        self.content_linear_layer = nn.Linear(hidden_size * 2, 1)\n",
    "        self.document_linear_layer = nn.Linear(hidden_size * 2, hidden_size * 2)\n",
    "        self.salience_linear_layer = nn.Linear(hidden_size * 2, hidden_size * 2)\n",
    "        self.novelty_linear_layer = nn.Linear(hidden_size * 2, hidden_size * 2) # YOUR CODE\n",
    "        self.tanh_layer = nn.Tanh()\n",
    "\n",
    "        self.use_content = use_content\n",
    "        self.use_salience = use_salience\n",
    "        self.use_novelty = use_novelty\n",
    "\n",
    "    def forward(self, inputs, hidden=None):\n",
    "        # parameters of the probability\n",
    "        content = 0\n",
    "        salience = 0\n",
    "        novelty = 0\n",
    "\n",
    "        # [batch_size, seq num, seq_len]\n",
    "        batch_size = inputs.size(0)\n",
    "        sentences_count = inputs.size(1)\n",
    "        tokens_count = inputs.size(2)\n",
    "        inputs = inputs.reshape(-1, tokens_count)\n",
    "        # [batch_size * seq num, seq_len]\n",
    "\n",
    "        embedded_sentences = self.sentence_encoder(inputs)\n",
    "        embedded_sentences = self.dropout_layer(embedded_sentences.reshape(batch_size, sentences_count, -1))\n",
    "        # [batch_size *  seq num, seq_len, hidden_size] -> [batch_size, seq num, hidden_size]\n",
    "\n",
    "        outputs, _ = self.rnn_layer(embedded_sentences, hidden)\n",
    "        # [batch_size, seq num, hidden_size]\n",
    "\n",
    "        document_embedding = self.tanh_layer(self.document_linear_layer(torch.mean(outputs, 1)))\n",
    "        # [batch_size, hidden_size]\n",
    "\n",
    "        # W * h^T\n",
    "        if self.use_content:\n",
    "            content = self.content_linear_layer(outputs).squeeze(2) # 1-representation\n",
    "        # [batch_size, seq num]\n",
    "\n",
    "        # h^T * W * d\n",
    "        if self.use_salience:\n",
    "            salience = torch.bmm(outputs, self.salience_linear_layer(document_embedding).unsqueeze(2)).squeeze(2) # 2-representation\n",
    "        # [batch_size, seq num, hidden_size] * [batch_size, hidden_size, 1] = [batch_size, seq num, ]\n",
    "\n",
    "        if self.use_novelty:\n",
    "            # at every step add novelty to prediction of the sentence\n",
    "            predictions = content + salience\n",
    "            \n",
    "            # 0) initialize summary_representation and novelty by zeros\n",
    "            # YOUR CODE\n",
    "            summary_representation = torch.zeros((batch_size, self.hidden_size * 2)).to(device)\n",
    "            novelty = torch.zeros((batch_size, sentences_count)).to(device)\n",
    "\n",
    "            for sentence_num in range(sentences_count):\n",
    "\n",
    "                # 1) take sentence_num_state from outputs(representation of the sentence with number sentence_num)\n",
    "                sentence_num_state = outputs[:, sentence_num]\n",
    "                # [batch_size, hidden_size]\n",
    "\n",
    "                # 2) calculate novelty for current sentence\n",
    "                novelty[:, sentence_num] += -torch.sum(sentence_num_state * self.novelty_linear_layer(self.tanh_layer(summary_representation)), axis=1)\n",
    "                # [batch_size, hidden_size] * [batch_size, hidden_size] -> sum -> [batch_size]\n",
    "\n",
    "                # 3) add novelty to predictions\n",
    "                predictions[:, sentence_num] += novelty[:, sentence_num]\n",
    "\n",
    "                # 4) calculcate probability for current sentence\n",
    "                probability = torch.sigmoid(predictions[:, sentence_num]).unsqueeze(1)\n",
    "                # [batch_size, 1]\n",
    "\n",
    "                # 5) add sentence_num_state with the weight which is equal to probability to summary_representation\n",
    "                summary_representation += probability * sentence_num_state\n",
    "\n",
    "        return content + salience + novelty"
   ]
  },
  {
   "cell_type": "markdown",
   "metadata": {
    "id": "QxpL3AtOrctD"
   },
   "source": [
    "## Model\n",
    "$P\\left(y_{j} = 1 \\mid \\mathbf{h}_{j}, \\mathbf{s}_{j}, \\mathbf{d}\\right)=\\sigma\\left(W_{c} \\mathbf{h}_{j} + \\mathbf{h}_{j}^{T} W_{s} \\mathbf{d}\\right)$\n",
    "--------------------"
   ]
  },
  {
   "cell_type": "code",
   "execution_count": 141,
   "metadata": {
    "colab": {
     "base_uri": "https://localhost:8080/"
    },
    "id": "-QC1ZmuQfB7f",
    "outputId": "e6d9f018-d979-4f91-820e-9b3eea6a14e1"
   },
   "outputs": [
    {
     "name": "stdout",
     "output_type": "stream",
     "text": [
      "Trainable params: 2927617\n"
     ]
    }
   ],
   "source": [
    "vocab_size = len(vocabulary)\n",
    "model = SentenceTaggerRNN(vocab_size).to(device)\n",
    "\n",
    "params_count = np.sum([p.numel() for p in model.parameters() if p.requires_grad])\n",
    "print(\"Trainable params: {}\".format(params_count))"
   ]
  },
  {
   "cell_type": "code",
   "execution_count": 142,
   "metadata": {
    "colab": {
     "base_uri": "https://localhost:8080/"
    },
    "id": "f9Q3aFHhgsB4",
    "outputId": "d57db7ef-815c-4d4a-9f83-4693c6d51ee7"
   },
   "outputs": [
    {
     "name": "stdout",
     "output_type": "stream",
     "text": [
      "sentence_encoder.embedding_layer.weight: 1280000\n",
      "sentence_encoder.rnn_layer.weight_ih_l0: 65536\n",
      "sentence_encoder.rnn_layer.weight_hh_l0: 65536\n",
      "sentence_encoder.rnn_layer.bias_ih_l0: 512\n",
      "sentence_encoder.rnn_layer.bias_hh_l0: 512\n",
      "sentence_encoder.rnn_layer.weight_ih_l0_reverse: 65536\n",
      "sentence_encoder.rnn_layer.weight_hh_l0_reverse: 65536\n",
      "sentence_encoder.rnn_layer.bias_ih_l0_reverse: 512\n",
      "sentence_encoder.rnn_layer.bias_hh_l0_reverse: 512\n",
      "sentence_encoder.rnn_layer.weight_ih_l1: 131072\n",
      "sentence_encoder.rnn_layer.weight_hh_l1: 65536\n",
      "sentence_encoder.rnn_layer.bias_ih_l1: 512\n",
      "sentence_encoder.rnn_layer.bias_hh_l1: 512\n",
      "sentence_encoder.rnn_layer.weight_ih_l1_reverse: 131072\n",
      "sentence_encoder.rnn_layer.weight_hh_l1_reverse: 65536\n",
      "sentence_encoder.rnn_layer.bias_ih_l1_reverse: 512\n",
      "sentence_encoder.rnn_layer.bias_hh_l1_reverse: 512\n",
      "rnn_layer.weight_ih_l0: 131072\n",
      "rnn_layer.weight_hh_l0: 65536\n",
      "rnn_layer.bias_ih_l0: 512\n",
      "rnn_layer.bias_hh_l0: 512\n",
      "rnn_layer.weight_ih_l0_reverse: 131072\n",
      "rnn_layer.weight_hh_l0_reverse: 65536\n",
      "rnn_layer.bias_ih_l0_reverse: 512\n",
      "rnn_layer.bias_hh_l0_reverse: 512\n",
      "rnn_layer.weight_ih_l1: 131072\n",
      "rnn_layer.weight_hh_l1: 65536\n",
      "rnn_layer.bias_ih_l1: 512\n",
      "rnn_layer.bias_hh_l1: 512\n",
      "rnn_layer.weight_ih_l1_reverse: 131072\n",
      "rnn_layer.weight_hh_l1_reverse: 65536\n",
      "rnn_layer.bias_ih_l1_reverse: 512\n",
      "rnn_layer.bias_hh_l1_reverse: 512\n",
      "content_linear_layer.weight: 256\n",
      "content_linear_layer.bias: 1\n",
      "document_linear_layer.weight: 65536\n",
      "document_linear_layer.bias: 256\n",
      "salience_linear_layer.weight: 65536\n",
      "salience_linear_layer.bias: 256\n",
      "novelty_linear_layer.weight: 65536\n",
      "novelty_linear_layer.bias: 256\n"
     ]
    }
   ],
   "source": [
    "for name, param in model.named_parameters():\n",
    "    print(f\"{name}: {param.numel()}\")"
   ]
  },
  {
   "cell_type": "code",
   "execution_count": 143,
   "metadata": {
    "id": "05s8UWh81cjG"
   },
   "outputs": [],
   "source": [
    "# !gdown https://drive.google.com/uc?id=1MiS_iczALcyF7zGDPY6niyeD82P0_PBH -O train_model.py\n",
    "import train_model\n",
    "import imp \n",
    "imp.reload(train_model)\n",
    "from train_model import train_with_logs"
   ]
  },
  {
   "cell_type": "code",
   "execution_count": 144,
   "metadata": {
    "colab": {
     "base_uri": "https://localhost:8080/",
     "height": 580
    },
    "id": "rwrhG4v71yts",
    "outputId": "ac326781-3fbf-49ed-c7ae-10be5c0ade6c"
   },
   "outputs": [
    {
     "data": {
      "image/png": "[encoded data removed]",
      "text/plain": [
       "<Figure size 864x576 with 2 Axes>"
      ]
     },
     "metadata": {
      "needs_background": "light"
     },
     "output_type": "display_data"
    },
    {
     "name": "stdout",
     "output_type": "stream",
     "text": [
      "Epoch: 03 | Time: 0m 21s\n",
      "\tTrain Loss: 0.238 | Train PPL:   1.269\n",
      "\t Val. Loss: 0.264 |  Val. PPL:   1.303\n"
     ]
    }
   ],
   "source": [
    "N_EPOCHS = 3\n",
    "CLIP = 1\n",
    "\n",
    "def train(use_class_weights, N_EPOCHS, CLIP, lr=1e-3):\n",
    "    optimizer = optim.Adam(model.parameters(), lr)\n",
    "    if use_class_weights:\n",
    "        # weights depend on the number of objects of class 0 and 1\n",
    "        # YOUR CODE\n",
    "        num_objects = torch.tensor([0, 0]).to(device)\n",
    "        for batch in train_iterator:\n",
    "            outputs = batch['outputs']\n",
    "            num_objects += torch.stack([(outputs==x_u).sum() for x_u in [0, 1]])\n",
    "        num_0, num_1 = num_objects\n",
    "        weights = torch.tensor([num_1 / (num_0 + num_1), num_0 / (num_0 + num_1)]).to(device)\n",
    "        criterion = nn.CrossEntropyLoss(weight=weights, ignore_index=2)\n",
    "    else:\n",
    "        criterion = nn.CrossEntropyLoss(ignore_index=2)\n",
    "    train_with_logs(model, train_iterator, val_iterator, optimizer, criterion, N_EPOCHS, CLIP)\n",
    "\n",
    "train(False, N_EPOCHS, CLIP)"
   ]
  },
  {
   "cell_type": "markdown",
   "metadata": {
    "id": "vuv4Sh2Vj5Yr"
   },
   "source": [
    "## Inference"
   ]
  },
  {
   "cell_type": "code",
   "execution_count": 145,
   "metadata": {
    "colab": {
     "base_uri": "https://localhost:8080/"
    },
    "id": "wZ96X37bb_PV",
    "outputId": "2db71256-f9b4-4b3e-804e-42b17d526507"
   },
   "outputs": [
    {
     "name": "stdout",
     "output_type": "stream",
     "text": [
      "Count: 256\n",
      "Ref: для борьбы с с недобросовестными азс , недоливающими топливо , будут использоваться специальные приборы , а также проверки программного обеспечения . в этом вопросе росстандарт намерен использовать опыт , полученный в сфере регулирования работы игровых автоматов .\n",
      "Hyp: росстандарт готовит арсенал для проверок автозаправочных станций на недолив топлива : проверяться будет не конкретная колонка , а ее работа как системы , в том числе ее связь с оператором за кассой . контролеров при работе методом тайного покупателя вооружат скрытым прибором , который сможет « ловить » недолив на уровне 1 % . кроме того , новый гост защитит топливораздаточные колонки от приспособлений и вредоносного по , обманывающих расходомер .\n",
      "BLEU:  0.4483358093852308\n",
      "ROUGE:  {'rouge-1': {'f': 0.3173318124753691, 'p': 0.3031341514395032, 'r': 0.3531967563454289}, 'rouge-2': {'f': 0.1427732219026845, 'p': 0.13475932187114886, 'r': 0.1633972618271516}, 'rouge-l': {'f': 0.27154623032757486, 'p': 0.27392581203986116, 'r': 0.3186041265424391}}\n"
     ]
    }
   ],
   "source": [
    "from train_model import punct_detokenize, postprocess\n",
    "\n",
    "def inference_summarunner(model, iterator, top_k=3, selection='top_k'):\n",
    "\n",
    "    references = []\n",
    "    predictions = []\n",
    "\n",
    "    model.eval()\n",
    "    for batch in test_iterator:\n",
    "\n",
    "        logits = model(batch['inputs'])\n",
    "        target = batch['outputs']\n",
    "        logits = logits + torch.where(target != 2, 0, -100)\n",
    "        sum_in = torch.argsort(logits, dim=1)[:, -top_k:]\n",
    "        sum_bool = logits > 0\n",
    "        \n",
    "        for i in range(len(target)):\n",
    "\n",
    "            summary = batch['records'][i]['summary'].lower()\n",
    "            if selection == 'top_k':\n",
    "                pred_summary = ' '.join([batch['records'][i]['sentences'][ind] for ind in sum_in.sort(dim=1)[0][i]])\n",
    "            else:\n",
    "                pred_summary = ' '.join([batch['records'][i]['sentences'][ind] for ind in sum_bool[i].nonzero(as_tuple=True)[0]])\n",
    "            summary, pred_summary = postprocess(summary, pred_summary)\n",
    "\n",
    "            references.append(summary)\n",
    "            predictions.append(pred_summary)\n",
    "\n",
    "    calc_scores(references, predictions)\n",
    "\n",
    "model.load_state_dict(torch.load('best-val-model.pt'))\n",
    "inference_summarunner(model, test_iterator, 3)"
   ]
  },
  {
   "cell_type": "markdown",
   "metadata": {
    "id": "HGc4IV8dzyBP"
   },
   "source": [
    "## Вывод:"
   ]
  },
  {
   "cell_type": "markdown",
   "metadata": {
    "id": "-luasNE1H6wi"
   },
   "source": [
    "###Результаты\n",
    "___"
   ]
  },
  {
   "cell_type": "markdown",
   "metadata": {
    "id": "Sz3RvtPkD8kq"
   },
   "source": [
    "**Модель 1: без novelty, без весов, инференс с top_k logits:**\n",
    "\n",
    "**`BLEU:  0.4483358093852308`**\n",
    "\n",
    "ROUGE:  {'rouge-1': {'f': 0.31733181247536907, 'p': 0.3031341514395034, 'r': 0.35319675634542946}, 'rouge-2': {'f': 0.14277322190268432, 'p': 0.13475932187114892, 'r': 0.16339726182715178}, 'rouge-l': {'f': 0.2715462303275749, 'p': 0.27392581203986127, 'r': 0.3186041265424393}}\n",
    "___"
   ]
  },
  {
   "cell_type": "markdown",
   "metadata": {
    "id": "JLcMAmOHF1iE"
   },
   "source": [
    "**Модель 2: без novelty, без весов, инференс с logits > 0:**\n",
    "\n",
    "В logits нет положительных чисел, т.к. классы несбалансированы\n",
    "___"
   ]
  },
  {
   "cell_type": "markdown",
   "metadata": {
    "id": "ZYImy5pdGaoA"
   },
   "source": [
    "**Модель 3: без novelty, с весами, инференс с top_k logits:**\n",
    "\n",
    "**`BLEU:  0.4428177174655946`**\n",
    "\n",
    "ROUGE:  {'rouge-1': {'f': 0.3151506139249564, 'p': 0.30048700105688064, 'r': 0.3511334518659493}, 'rouge-2': {'f': 0.1419057692811022, 'p': 0.13314482589615242, 'r': 0.16262930100488873}, 'rouge-l': {'f': 0.27152200043394953, 'p': 0.27277250722956026, 'r': 0.31823133727105685}}\n",
    "___"
   ]
  },
  {
   "cell_type": "markdown",
   "metadata": {
    "id": "CzmZa_sMID9F"
   },
   "source": [
    "**Модель 4: без novelty, с весами, инференс с logits > 0:**\n",
    "\n",
    "**`BLEU:  0.3354216847892075`**\n",
    "\n",
    "ROUGE:  {'rouge-1': {'f': 0.30580619742669285, 'p': 0.24447440439985388, 'r': 0.43393464004527227}, 'rouge-2': {'f': 0.1324848919468353, 'p': 0.1027518999384894, 'r': 0.20116941062754098}, 'rouge-l': {'f': 0.24271147896901812, 'p': 0.22243365729879186, 'r': 0.39446792266121944}}\n",
    "___"
   ]
  },
  {
   "cell_type": "markdown",
   "metadata": {
    "id": "ytPc3KhkIPEO"
   },
   "source": [
    "**Модель 5: с novelty, без весов, инференс с top_k logits:**\n",
    "\n",
    "**`BLEU:  0.4483358093852308`**\n",
    "\n",
    "ROUGE:  {'rouge-1': {'f': 0.3173318124753691, 'p': 0.3031341514395032, 'r': 0.3531967563454289}, 'rouge-2': {'f': 0.1427732219026845, 'p': 0.13475932187114886, 'r': 0.1633972618271516}, 'rouge-l': {'f': 0.27154623032757486, 'p': 0.27392581203986116, 'r': 0.3186041265424391}}\n",
    "___"
   ]
  },
  {
   "cell_type": "markdown",
   "metadata": {
    "id": "KDtK0bcSh6eP"
   },
   "source": [
    "###Выводы"
   ]
  },
  {
   "cell_type": "markdown",
   "metadata": {
    "id": "P5PUgiykgN3q"
   },
   "source": [
    "Novelty не повлияла на качество.\n",
    "\n",
    "Ранжирование logits дало худшие результаты.\n",
    "\n",
    "Веса в CrossEntropyLoss не дали существенной прибавки в качестве, при инференсе с top_k logits."
   ]
  }
 ],
 "metadata": {
  "accelerator": "GPU",
  "colab": {
   "collapsed_sections": [],
   "name": "[homework]summarization.ipynb",
   "provenance": []
  },
  "kernelspec": {
   "display_name": "Python 3",
   "language": "python",
   "name": "python3"
  },
  "language_info": {
   "codemirror_mode": {
    "name": "ipython",
    "version": 3
   },
   "file_extension": ".py",
   "mimetype": "text/x-python",
   "name": "python",
   "nbconvert_exporter": "python",
   "pygments_lexer": "ipython3",
   "version": "3.8.8"
  },
  "widgets": {
   "application/vnd.jupyter.widget-state+json": {
    "04c660b9cd6a4b369886984141b39de4": {
     "model_module": "@jupyter-widgets/base",
     "model_module_version": "1.2.0",
     "model_name": "LayoutModel",
     "state": {
      "_model_module": "@jupyter-widgets/base",
      "_model_module_version": "1.2.0",
      "_model_name": "LayoutModel",
      "_view_count": null,
      "_view_module": "@jupyter-widgets/base",
      "_view_module_version": "1.2.0",
      "_view_name": "LayoutView",
      "align_content": null,
      "align_items": null,
      "align_self": null,
      "border": null,
      "bottom": null,
      "display": null,
      "flex": null,
      "flex_flow": null,
      "grid_area": null,
      "grid_auto_columns": null,
      "grid_auto_flow": null,
      "grid_auto_rows": null,
      "grid_column": null,
      "grid_gap": null,
      "grid_row": null,
      "grid_template_areas": null,
      "grid_template_columns": null,
      "grid_template_rows": null,
      "height": null,
      "justify_content": null,
      "justify_items": null,
      "left": null,
      "margin": null,
      "max_height": null,
      "max_width": null,
      "min_height": null,
      "min_width": null,
      "object_fit": null,
      "object_position": null,
      "order": null,
      "overflow": null,
      "overflow_x": null,
      "overflow_y": null,
      "padding": null,
      "right": null,
      "top": null,
      "visibility": null,
      "width": null
     }
    },
    "0f6d48a7b62c4dbc82b804fb9cef74e0": {
     "model_module": "@jupyter-widgets/base",
     "model_module_version": "1.2.0",
     "model_name": "LayoutModel",
     "state": {
      "_model_module": "@jupyter-widgets/base",
      "_model_module_version": "1.2.0",
      "_model_name": "LayoutModel",
      "_view_count": null,
      "_view_module": "@jupyter-widgets/base",
      "_view_module_version": "1.2.0",
      "_view_name": "LayoutView",
      "align_content": null,
      "align_items": null,
      "align_self": null,
      "border": null,
      "bottom": null,
      "display": null,
      "flex": null,
      "flex_flow": null,
      "grid_area": null,
      "grid_auto_columns": null,
      "grid_auto_flow": null,
      "grid_auto_rows": null,
      "grid_column": null,
      "grid_gap": null,
      "grid_row": null,
      "grid_template_areas": null,
      "grid_template_columns": null,
      "grid_template_rows": null,
      "height": null,
      "justify_content": null,
      "justify_items": null,
      "left": null,
      "margin": null,
      "max_height": null,
      "max_width": null,
      "min_height": null,
      "min_width": null,
      "object_fit": null,
      "object_position": null,
      "order": null,
      "overflow": null,
      "overflow_x": null,
      "overflow_y": null,
      "padding": null,
      "right": null,
      "top": null,
      "visibility": null,
      "width": null
     }
    },
    "0f8071b37da14b61a98c5eba26bbffae": {
     "model_module": "@jupyter-widgets/controls",
     "model_module_version": "1.5.0",
     "model_name": "HTMLModel",
     "state": {
      "_dom_classes": [],
      "_model_module": "@jupyter-widgets/controls",
      "_model_module_version": "1.5.0",
      "_model_name": "HTMLModel",
      "_view_count": null,
      "_view_module": "@jupyter-widgets/controls",
      "_view_module_version": "1.5.0",
      "_view_name": "HTMLView",
      "description": "",
      "description_tooltip": null,
      "layout": "IPY_MODEL_ded414c2aa114673b7c9977c4b12793f",
      "placeholder": "​",
      "style": "IPY_MODEL_ca5f7861664f4006a4438ff1c5c90161",
      "value": " 2048/? [06:25&lt;00:00, 10.04it/s]"
     }
    },
    "139b99e291944eb28dca287eddab0a78": {
     "model_module": "@jupyter-widgets/base",
     "model_module_version": "1.2.0",
     "model_name": "LayoutModel",
     "state": {
      "_model_module": "@jupyter-widgets/base",
      "_model_module_version": "1.2.0",
      "_model_name": "LayoutModel",
      "_view_count": null,
      "_view_module": "@jupyter-widgets/base",
      "_view_module_version": "1.2.0",
      "_view_name": "LayoutView",
      "align_content": null,
      "align_items": null,
      "align_self": null,
      "border": null,
      "bottom": null,
      "display": null,
      "flex": null,
      "flex_flow": null,
      "grid_area": null,
      "grid_auto_columns": null,
      "grid_auto_flow": null,
      "grid_auto_rows": null,
      "grid_column": null,
      "grid_gap": null,
      "grid_row": null,
      "grid_template_areas": null,
      "grid_template_columns": null,
      "grid_template_rows": null,
      "height": null,
      "justify_content": null,
      "justify_items": null,
      "left": null,
      "margin": null,
      "max_height": null,
      "max_width": null,
      "min_height": null,
      "min_width": null,
      "object_fit": null,
      "object_position": null,
      "order": null,
      "overflow": null,
      "overflow_x": null,
      "overflow_y": null,
      "padding": null,
      "right": null,
      "top": null,
      "visibility": null,
      "width": "20px"
     }
    },
    "17ea93cf6d2446bfa2548e73fe4d5475": {
     "model_module": "@jupyter-widgets/controls",
     "model_module_version": "1.5.0",
     "model_name": "HTMLModel",
     "state": {
      "_dom_classes": [],
      "_model_module": "@jupyter-widgets/controls",
      "_model_module_version": "1.5.0",
      "_model_name": "HTMLModel",
      "_view_count": null,
      "_view_module": "@jupyter-widgets/controls",
      "_view_module_version": "1.5.0",
      "_view_name": "HTMLView",
      "description": "",
      "description_tooltip": null,
      "layout": "IPY_MODEL_8ea70accd7f549b98f712ea14bb7f3b7",
      "placeholder": "​",
      "style": "IPY_MODEL_cebacb0a1d574350a0594076e3225b81",
      "value": ""
     }
    },
    "2085897fb83e4c30b0948816bc2a027f": {
     "model_module": "@jupyter-widgets/base",
     "model_module_version": "1.2.0",
     "model_name": "LayoutModel",
     "state": {
      "_model_module": "@jupyter-widgets/base",
      "_model_module_version": "1.2.0",
      "_model_name": "LayoutModel",
      "_view_count": null,
      "_view_module": "@jupyter-widgets/base",
      "_view_module_version": "1.2.0",
      "_view_name": "LayoutView",
      "align_content": null,
      "align_items": null,
      "align_self": null,
      "border": null,
      "bottom": null,
      "display": null,
      "flex": null,
      "flex_flow": null,
      "grid_area": null,
      "grid_auto_columns": null,
      "grid_auto_flow": null,
      "grid_auto_rows": null,
      "grid_column": null,
      "grid_gap": null,
      "grid_row": null,
      "grid_template_areas": null,
      "grid_template_columns": null,
      "grid_template_rows": null,
      "height": null,
      "justify_content": null,
      "justify_items": null,
      "left": null,
      "margin": null,
      "max_height": null,
      "max_width": null,
      "min_height": null,
      "min_width": null,
      "object_fit": null,
      "object_position": null,
      "order": null,
      "overflow": null,
      "overflow_x": null,
      "overflow_y": null,
      "padding": null,
      "right": null,
      "top": null,
      "visibility": null,
      "width": null
     }
    },
    "2254396367164ae6959df1cef209e88b": {
     "model_module": "@jupyter-widgets/controls",
     "model_module_version": "1.5.0",
     "model_name": "HBoxModel",
     "state": {
      "_dom_classes": [],
      "_model_module": "@jupyter-widgets/controls",
      "_model_module_version": "1.5.0",
      "_model_name": "HBoxModel",
      "_view_count": null,
      "_view_module": "@jupyter-widgets/controls",
      "_view_module_version": "1.5.0",
      "_view_name": "HBoxView",
      "box_style": "",
      "children": [
       "IPY_MODEL_72bbf8a5e8d24fe29d18abdef82c0a6b",
       "IPY_MODEL_cb93deb118ff445995ade31aac8d8d6e",
       "IPY_MODEL_555e59221cfc4887b8cb3f82f1b1cac9"
      ],
      "layout": "IPY_MODEL_04c660b9cd6a4b369886984141b39de4"
     }
    },
    "2343d0795107412f8cb827ec6364aa87": {
     "model_module": "@jupyter-widgets/controls",
     "model_module_version": "1.5.0",
     "model_name": "FloatProgressModel",
     "state": {
      "_dom_classes": [],
      "_model_module": "@jupyter-widgets/controls",
      "_model_module_version": "1.5.0",
      "_model_name": "FloatProgressModel",
      "_view_count": null,
      "_view_module": "@jupyter-widgets/controls",
      "_view_module_version": "1.5.0",
      "_view_name": "ProgressView",
      "bar_style": "danger",
      "description": "",
      "description_tooltip": null,
      "layout": "IPY_MODEL_139b99e291944eb28dca287eddab0a78",
      "max": 1,
      "min": 0,
      "orientation": "horizontal",
      "style": "IPY_MODEL_e1b9e4402ed2490aa05070e44fde3d90",
      "value": 1
     }
    },
    "2ddb46de38594c56a907ca40be8bb698": {
     "model_module": "@jupyter-widgets/controls",
     "model_module_version": "1.5.0",
     "model_name": "DescriptionStyleModel",
     "state": {
      "_model_module": "@jupyter-widgets/controls",
      "_model_module_version": "1.5.0",
      "_model_name": "DescriptionStyleModel",
      "_view_count": null,
      "_view_module": "@jupyter-widgets/base",
      "_view_module_version": "1.2.0",
      "_view_name": "StyleView",
      "description_width": ""
     }
    },
    "3011f8a103fc4966b0b72968b6369ee4": {
     "model_module": "@jupyter-widgets/controls",
     "model_module_version": "1.5.0",
     "model_name": "DescriptionStyleModel",
     "state": {
      "_model_module": "@jupyter-widgets/controls",
      "_model_module_version": "1.5.0",
      "_model_name": "DescriptionStyleModel",
      "_view_count": null,
      "_view_module": "@jupyter-widgets/base",
      "_view_module_version": "1.2.0",
      "_view_name": "StyleView",
      "description_width": ""
     }
    },
    "381578c2c99448e781d1d97222ea588d": {
     "model_module": "@jupyter-widgets/controls",
     "model_module_version": "1.5.0",
     "model_name": "HBoxModel",
     "state": {
      "_dom_classes": [],
      "_model_module": "@jupyter-widgets/controls",
      "_model_module_version": "1.5.0",
      "_model_name": "HBoxModel",
      "_view_count": null,
      "_view_module": "@jupyter-widgets/controls",
      "_view_module_version": "1.5.0",
      "_view_name": "HBoxView",
      "box_style": "",
      "children": [
       "IPY_MODEL_17ea93cf6d2446bfa2548e73fe4d5475",
       "IPY_MODEL_2343d0795107412f8cb827ec6364aa87",
       "IPY_MODEL_fcb55618687d4c0e8c31e5b10cadc281"
      ],
      "layout": "IPY_MODEL_fd14659d1e054f159052ef95965e2ea5"
     }
    },
    "3c9d4445cd8a42a2be3d6ae14cd75310": {
     "model_module": "@jupyter-widgets/base",
     "model_module_version": "1.2.0",
     "model_name": "LayoutModel",
     "state": {
      "_model_module": "@jupyter-widgets/base",
      "_model_module_version": "1.2.0",
      "_model_name": "LayoutModel",
      "_view_count": null,
      "_view_module": "@jupyter-widgets/base",
      "_view_module_version": "1.2.0",
      "_view_name": "LayoutView",
      "align_content": null,
      "align_items": null,
      "align_self": null,
      "border": null,
      "bottom": null,
      "display": null,
      "flex": null,
      "flex_flow": null,
      "grid_area": null,
      "grid_auto_columns": null,
      "grid_auto_flow": null,
      "grid_auto_rows": null,
      "grid_column": null,
      "grid_gap": null,
      "grid_row": null,
      "grid_template_areas": null,
      "grid_template_columns": null,
      "grid_template_rows": null,
      "height": null,
      "justify_content": null,
      "justify_items": null,
      "left": null,
      "margin": null,
      "max_height": null,
      "max_width": null,
      "min_height": null,
      "min_width": null,
      "object_fit": null,
      "object_position": null,
      "order": null,
      "overflow": null,
      "overflow_x": null,
      "overflow_y": null,
      "padding": null,
      "right": null,
      "top": null,
      "visibility": null,
      "width": null
     }
    },
    "4d7732681b2c4b65b19dde37e4f51932": {
     "model_module": "@jupyter-widgets/base",
     "model_module_version": "1.2.0",
     "model_name": "LayoutModel",
     "state": {
      "_model_module": "@jupyter-widgets/base",
      "_model_module_version": "1.2.0",
      "_model_name": "LayoutModel",
      "_view_count": null,
      "_view_module": "@jupyter-widgets/base",
      "_view_module_version": "1.2.0",
      "_view_name": "LayoutView",
      "align_content": null,
      "align_items": null,
      "align_self": null,
      "border": null,
      "bottom": null,
      "display": null,
      "flex": null,
      "flex_flow": null,
      "grid_area": null,
      "grid_auto_columns": null,
      "grid_auto_flow": null,
      "grid_auto_rows": null,
      "grid_column": null,
      "grid_gap": null,
      "grid_row": null,
      "grid_template_areas": null,
      "grid_template_columns": null,
      "grid_template_rows": null,
      "height": null,
      "justify_content": null,
      "justify_items": null,
      "left": null,
      "margin": null,
      "max_height": null,
      "max_width": null,
      "min_height": null,
      "min_width": null,
      "object_fit": null,
      "object_position": null,
      "order": null,
      "overflow": null,
      "overflow_x": null,
      "overflow_y": null,
      "padding": null,
      "right": null,
      "top": null,
      "visibility": null,
      "width": "20px"
     }
    },
    "555e59221cfc4887b8cb3f82f1b1cac9": {
     "model_module": "@jupyter-widgets/controls",
     "model_module_version": "1.5.0",
     "model_name": "HTMLModel",
     "state": {
      "_dom_classes": [],
      "_model_module": "@jupyter-widgets/controls",
      "_model_module_version": "1.5.0",
      "_model_name": "HTMLModel",
      "_view_count": null,
      "_view_module": "@jupyter-widgets/controls",
      "_view_module_version": "1.5.0",
      "_view_name": "HTMLView",
      "description": "",
      "description_tooltip": null,
      "layout": "IPY_MODEL_2085897fb83e4c30b0948816bc2a027f",
      "placeholder": "​",
      "style": "IPY_MODEL_b155df41f2dc4f488802c415c50374af",
      "value": " 256/? [01:09&lt;00:00,  3.27it/s]"
     }
    },
    "6c16798d501e47d084700bfc6f0a6b61": {
     "model_module": "@jupyter-widgets/controls",
     "model_module_version": "1.5.0",
     "model_name": "FloatProgressModel",
     "state": {
      "_dom_classes": [],
      "_model_module": "@jupyter-widgets/controls",
      "_model_module_version": "1.5.0",
      "_model_name": "FloatProgressModel",
      "_view_count": null,
      "_view_module": "@jupyter-widgets/controls",
      "_view_module_version": "1.5.0",
      "_view_name": "ProgressView",
      "bar_style": "danger",
      "description": "",
      "description_tooltip": null,
      "layout": "IPY_MODEL_ac79eafd35904ac19d1b241819b9c903",
      "max": 1,
      "min": 0,
      "orientation": "horizontal",
      "style": "IPY_MODEL_be9536a7d970468cba09b255c13eb9ea",
      "value": 1
     }
    },
    "72bbf8a5e8d24fe29d18abdef82c0a6b": {
     "model_module": "@jupyter-widgets/controls",
     "model_module_version": "1.5.0",
     "model_name": "HTMLModel",
     "state": {
      "_dom_classes": [],
      "_model_module": "@jupyter-widgets/controls",
      "_model_module_version": "1.5.0",
      "_model_name": "HTMLModel",
      "_view_count": null,
      "_view_module": "@jupyter-widgets/controls",
      "_view_module_version": "1.5.0",
      "_view_name": "HTMLView",
      "description": "",
      "description_tooltip": null,
      "layout": "IPY_MODEL_a4ba886f33a341b28b37f60ef4bf1ee0",
      "placeholder": "​",
      "style": "IPY_MODEL_3011f8a103fc4966b0b72968b6369ee4",
      "value": ""
     }
    },
    "7bc9162f28694c73abc6908da563f5e0": {
     "model_module": "@jupyter-widgets/base",
     "model_module_version": "1.2.0",
     "model_name": "LayoutModel",
     "state": {
      "_model_module": "@jupyter-widgets/base",
      "_model_module_version": "1.2.0",
      "_model_name": "LayoutModel",
      "_view_count": null,
      "_view_module": "@jupyter-widgets/base",
      "_view_module_version": "1.2.0",
      "_view_name": "LayoutView",
      "align_content": null,
      "align_items": null,
      "align_self": null,
      "border": null,
      "bottom": null,
      "display": null,
      "flex": null,
      "flex_flow": null,
      "grid_area": null,
      "grid_auto_columns": null,
      "grid_auto_flow": null,
      "grid_auto_rows": null,
      "grid_column": null,
      "grid_gap": null,
      "grid_row": null,
      "grid_template_areas": null,
      "grid_template_columns": null,
      "grid_template_rows": null,
      "height": null,
      "justify_content": null,
      "justify_items": null,
      "left": null,
      "margin": null,
      "max_height": null,
      "max_width": null,
      "min_height": null,
      "min_width": null,
      "object_fit": null,
      "object_position": null,
      "order": null,
      "overflow": null,
      "overflow_x": null,
      "overflow_y": null,
      "padding": null,
      "right": null,
      "top": null,
      "visibility": null,
      "width": null
     }
    },
    "8ea70accd7f549b98f712ea14bb7f3b7": {
     "model_module": "@jupyter-widgets/base",
     "model_module_version": "1.2.0",
     "model_name": "LayoutModel",
     "state": {
      "_model_module": "@jupyter-widgets/base",
      "_model_module_version": "1.2.0",
      "_model_name": "LayoutModel",
      "_view_count": null,
      "_view_module": "@jupyter-widgets/base",
      "_view_module_version": "1.2.0",
      "_view_name": "LayoutView",
      "align_content": null,
      "align_items": null,
      "align_self": null,
      "border": null,
      "bottom": null,
      "display": null,
      "flex": null,
      "flex_flow": null,
      "grid_area": null,
      "grid_auto_columns": null,
      "grid_auto_flow": null,
      "grid_auto_rows": null,
      "grid_column": null,
      "grid_gap": null,
      "grid_row": null,
      "grid_template_areas": null,
      "grid_template_columns": null,
      "grid_template_rows": null,
      "height": null,
      "justify_content": null,
      "justify_items": null,
      "left": null,
      "margin": null,
      "max_height": null,
      "max_width": null,
      "min_height": null,
      "min_width": null,
      "object_fit": null,
      "object_position": null,
      "order": null,
      "overflow": null,
      "overflow_x": null,
      "overflow_y": null,
      "padding": null,
      "right": null,
      "top": null,
      "visibility": null,
      "width": null
     }
    },
    "a38ef143881f466c9483c810aef14660": {
     "model_module": "@jupyter-widgets/controls",
     "model_module_version": "1.5.0",
     "model_name": "ProgressStyleModel",
     "state": {
      "_model_module": "@jupyter-widgets/controls",
      "_model_module_version": "1.5.0",
      "_model_name": "ProgressStyleModel",
      "_view_count": null,
      "_view_module": "@jupyter-widgets/base",
      "_view_module_version": "1.2.0",
      "_view_name": "StyleView",
      "bar_color": null,
      "description_width": ""
     }
    },
    "a4ba886f33a341b28b37f60ef4bf1ee0": {
     "model_module": "@jupyter-widgets/base",
     "model_module_version": "1.2.0",
     "model_name": "LayoutModel",
     "state": {
      "_model_module": "@jupyter-widgets/base",
      "_model_module_version": "1.2.0",
      "_model_name": "LayoutModel",
      "_view_count": null,
      "_view_module": "@jupyter-widgets/base",
      "_view_module_version": "1.2.0",
      "_view_name": "LayoutView",
      "align_content": null,
      "align_items": null,
      "align_self": null,
      "border": null,
      "bottom": null,
      "display": null,
      "flex": null,
      "flex_flow": null,
      "grid_area": null,
      "grid_auto_columns": null,
      "grid_auto_flow": null,
      "grid_auto_rows": null,
      "grid_column": null,
      "grid_gap": null,
      "grid_row": null,
      "grid_template_areas": null,
      "grid_template_columns": null,
      "grid_template_rows": null,
      "height": null,
      "justify_content": null,
      "justify_items": null,
      "left": null,
      "margin": null,
      "max_height": null,
      "max_width": null,
      "min_height": null,
      "min_width": null,
      "object_fit": null,
      "object_position": null,
      "order": null,
      "overflow": null,
      "overflow_x": null,
      "overflow_y": null,
      "padding": null,
      "right": null,
      "top": null,
      "visibility": null,
      "width": null
     }
    },
    "ac79eafd35904ac19d1b241819b9c903": {
     "model_module": "@jupyter-widgets/base",
     "model_module_version": "1.2.0",
     "model_name": "LayoutModel",
     "state": {
      "_model_module": "@jupyter-widgets/base",
      "_model_module_version": "1.2.0",
      "_model_name": "LayoutModel",
      "_view_count": null,
      "_view_module": "@jupyter-widgets/base",
      "_view_module_version": "1.2.0",
      "_view_name": "LayoutView",
      "align_content": null,
      "align_items": null,
      "align_self": null,
      "border": null,
      "bottom": null,
      "display": null,
      "flex": null,
      "flex_flow": null,
      "grid_area": null,
      "grid_auto_columns": null,
      "grid_auto_flow": null,
      "grid_auto_rows": null,
      "grid_column": null,
      "grid_gap": null,
      "grid_row": null,
      "grid_template_areas": null,
      "grid_template_columns": null,
      "grid_template_rows": null,
      "height": null,
      "justify_content": null,
      "justify_items": null,
      "left": null,
      "margin": null,
      "max_height": null,
      "max_width": null,
      "min_height": null,
      "min_width": null,
      "object_fit": null,
      "object_position": null,
      "order": null,
      "overflow": null,
      "overflow_x": null,
      "overflow_y": null,
      "padding": null,
      "right": null,
      "top": null,
      "visibility": null,
      "width": "20px"
     }
    },
    "b155df41f2dc4f488802c415c50374af": {
     "model_module": "@jupyter-widgets/controls",
     "model_module_version": "1.5.0",
     "model_name": "DescriptionStyleModel",
     "state": {
      "_model_module": "@jupyter-widgets/controls",
      "_model_module_version": "1.5.0",
      "_model_name": "DescriptionStyleModel",
      "_view_count": null,
      "_view_module": "@jupyter-widgets/base",
      "_view_module_version": "1.2.0",
      "_view_name": "StyleView",
      "description_width": ""
     }
    },
    "bb7f0bdaad4b497d92c2dbc32a4680b1": {
     "model_module": "@jupyter-widgets/controls",
     "model_module_version": "1.5.0",
     "model_name": "HBoxModel",
     "state": {
      "_dom_classes": [],
      "_model_module": "@jupyter-widgets/controls",
      "_model_module_version": "1.5.0",
      "_model_name": "HBoxModel",
      "_view_count": null,
      "_view_module": "@jupyter-widgets/controls",
      "_view_module_version": "1.5.0",
      "_view_name": "HBoxView",
      "box_style": "",
      "children": [
       "IPY_MODEL_e0becacbdefb4af7bb0212cefd890c07",
       "IPY_MODEL_6c16798d501e47d084700bfc6f0a6b61",
       "IPY_MODEL_0f8071b37da14b61a98c5eba26bbffae"
      ],
      "layout": "IPY_MODEL_7bc9162f28694c73abc6908da563f5e0"
     }
    },
    "be9536a7d970468cba09b255c13eb9ea": {
     "model_module": "@jupyter-widgets/controls",
     "model_module_version": "1.5.0",
     "model_name": "ProgressStyleModel",
     "state": {
      "_model_module": "@jupyter-widgets/controls",
      "_model_module_version": "1.5.0",
      "_model_name": "ProgressStyleModel",
      "_view_count": null,
      "_view_module": "@jupyter-widgets/base",
      "_view_module_version": "1.2.0",
      "_view_name": "StyleView",
      "bar_color": null,
      "description_width": ""
     }
    },
    "ca5f7861664f4006a4438ff1c5c90161": {
     "model_module": "@jupyter-widgets/controls",
     "model_module_version": "1.5.0",
     "model_name": "DescriptionStyleModel",
     "state": {
      "_model_module": "@jupyter-widgets/controls",
      "_model_module_version": "1.5.0",
      "_model_name": "DescriptionStyleModel",
      "_view_count": null,
      "_view_module": "@jupyter-widgets/base",
      "_view_module_version": "1.2.0",
      "_view_name": "StyleView",
      "description_width": ""
     }
    },
    "cb93deb118ff445995ade31aac8d8d6e": {
     "model_module": "@jupyter-widgets/controls",
     "model_module_version": "1.5.0",
     "model_name": "FloatProgressModel",
     "state": {
      "_dom_classes": [],
      "_model_module": "@jupyter-widgets/controls",
      "_model_module_version": "1.5.0",
      "_model_name": "FloatProgressModel",
      "_view_count": null,
      "_view_module": "@jupyter-widgets/controls",
      "_view_module_version": "1.5.0",
      "_view_name": "ProgressView",
      "bar_style": "danger",
      "description": "",
      "description_tooltip": null,
      "layout": "IPY_MODEL_4d7732681b2c4b65b19dde37e4f51932",
      "max": 1,
      "min": 0,
      "orientation": "horizontal",
      "style": "IPY_MODEL_a38ef143881f466c9483c810aef14660",
      "value": 1
     }
    },
    "cebacb0a1d574350a0594076e3225b81": {
     "model_module": "@jupyter-widgets/controls",
     "model_module_version": "1.5.0",
     "model_name": "DescriptionStyleModel",
     "state": {
      "_model_module": "@jupyter-widgets/controls",
      "_model_module_version": "1.5.0",
      "_model_name": "DescriptionStyleModel",
      "_view_count": null,
      "_view_module": "@jupyter-widgets/base",
      "_view_module_version": "1.2.0",
      "_view_name": "StyleView",
      "description_width": ""
     }
    },
    "ded414c2aa114673b7c9977c4b12793f": {
     "model_module": "@jupyter-widgets/base",
     "model_module_version": "1.2.0",
     "model_name": "LayoutModel",
     "state": {
      "_model_module": "@jupyter-widgets/base",
      "_model_module_version": "1.2.0",
      "_model_name": "LayoutModel",
      "_view_count": null,
      "_view_module": "@jupyter-widgets/base",
      "_view_module_version": "1.2.0",
      "_view_name": "LayoutView",
      "align_content": null,
      "align_items": null,
      "align_self": null,
      "border": null,
      "bottom": null,
      "display": null,
      "flex": null,
      "flex_flow": null,
      "grid_area": null,
      "grid_auto_columns": null,
      "grid_auto_flow": null,
      "grid_auto_rows": null,
      "grid_column": null,
      "grid_gap": null,
      "grid_row": null,
      "grid_template_areas": null,
      "grid_template_columns": null,
      "grid_template_rows": null,
      "height": null,
      "justify_content": null,
      "justify_items": null,
      "left": null,
      "margin": null,
      "max_height": null,
      "max_width": null,
      "min_height": null,
      "min_width": null,
      "object_fit": null,
      "object_position": null,
      "order": null,
      "overflow": null,
      "overflow_x": null,
      "overflow_y": null,
      "padding": null,
      "right": null,
      "top": null,
      "visibility": null,
      "width": null
     }
    },
    "e0becacbdefb4af7bb0212cefd890c07": {
     "model_module": "@jupyter-widgets/controls",
     "model_module_version": "1.5.0",
     "model_name": "HTMLModel",
     "state": {
      "_dom_classes": [],
      "_model_module": "@jupyter-widgets/controls",
      "_model_module_version": "1.5.0",
      "_model_name": "HTMLModel",
      "_view_count": null,
      "_view_module": "@jupyter-widgets/controls",
      "_view_module_version": "1.5.0",
      "_view_name": "HTMLView",
      "description": "",
      "description_tooltip": null,
      "layout": "IPY_MODEL_0f6d48a7b62c4dbc82b804fb9cef74e0",
      "placeholder": "​",
      "style": "IPY_MODEL_ee1b38787ec04f30b1e8a069d2e40d37",
      "value": ""
     }
    },
    "e1b9e4402ed2490aa05070e44fde3d90": {
     "model_module": "@jupyter-widgets/controls",
     "model_module_version": "1.5.0",
     "model_name": "ProgressStyleModel",
     "state": {
      "_model_module": "@jupyter-widgets/controls",
      "_model_module_version": "1.5.0",
      "_model_name": "ProgressStyleModel",
      "_view_count": null,
      "_view_module": "@jupyter-widgets/base",
      "_view_module_version": "1.2.0",
      "_view_name": "StyleView",
      "bar_color": null,
      "description_width": ""
     }
    },
    "ee1b38787ec04f30b1e8a069d2e40d37": {
     "model_module": "@jupyter-widgets/controls",
     "model_module_version": "1.5.0",
     "model_name": "DescriptionStyleModel",
     "state": {
      "_model_module": "@jupyter-widgets/controls",
      "_model_module_version": "1.5.0",
      "_model_name": "DescriptionStyleModel",
      "_view_count": null,
      "_view_module": "@jupyter-widgets/base",
      "_view_module_version": "1.2.0",
      "_view_name": "StyleView",
      "description_width": ""
     }
    },
    "fcb55618687d4c0e8c31e5b10cadc281": {
     "model_module": "@jupyter-widgets/controls",
     "model_module_version": "1.5.0",
     "model_name": "HTMLModel",
     "state": {
      "_dom_classes": [],
      "_model_module": "@jupyter-widgets/controls",
      "_model_module_version": "1.5.0",
      "_model_name": "HTMLModel",
      "_view_count": null,
      "_view_module": "@jupyter-widgets/controls",
      "_view_module_version": "1.5.0",
      "_view_name": "HTMLView",
      "description": "",
      "description_tooltip": null,
      "layout": "IPY_MODEL_3c9d4445cd8a42a2be3d6ae14cd75310",
      "placeholder": "​",
      "style": "IPY_MODEL_2ddb46de38594c56a907ca40be8bb698",
      "value": " 256/? [00:57&lt;00:00,  3.25it/s]"
     }
    },
    "fd14659d1e054f159052ef95965e2ea5": {
     "model_module": "@jupyter-widgets/base",
     "model_module_version": "1.2.0",
     "model_name": "LayoutModel",
     "state": {
      "_model_module": "@jupyter-widgets/base",
      "_model_module_version": "1.2.0",
      "_model_name": "LayoutModel",
      "_view_count": null,
      "_view_module": "@jupyter-widgets/base",
      "_view_module_version": "1.2.0",
      "_view_name": "LayoutView",
      "align_content": null,
      "align_items": null,
      "align_self": null,
      "border": null,
      "bottom": null,
      "display": null,
      "flex": null,
      "flex_flow": null,
      "grid_area": null,
      "grid_auto_columns": null,
      "grid_auto_flow": null,
      "grid_auto_rows": null,
      "grid_column": null,
      "grid_gap": null,
      "grid_row": null,
      "grid_template_areas": null,
      "grid_template_columns": null,
      "grid_template_rows": null,
      "height": null,
      "justify_content": null,
      "justify_items": null,
      "left": null,
      "margin": null,
      "max_height": null,
      "max_width": null,
      "min_height": null,
      "min_width": null,
      "object_fit": null,
      "object_position": null,
      "order": null,
      "overflow": null,
      "overflow_x": null,
      "overflow_y": null,
      "padding": null,
      "right": null,
      "top": null,
      "visibility": null,
      "width": null
     }
    }
   }
  }
 },
 "nbformat": 4,
 "nbformat_minor": 1
}
